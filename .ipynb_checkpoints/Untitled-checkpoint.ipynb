{
 "cells": [
  {
   "cell_type": "code",
   "execution_count": 11,
   "id": "c14ac0e2",
   "metadata": {},
   "outputs": [],
   "source": [
    "from urllib import request\n",
    "from bs4 import BeautifulSoup\n",
    "from selenium import webdriver"
   ]
  },
  {
   "cell_type": "code",
   "execution_count": 5,
   "id": "a55aa71a",
   "metadata": {},
   "outputs": [],
   "source": [
    "link = 'https://www.discogs.com/Chic-I-Want-Your-LoveLeFreakChicCheer/release/104710'"
   ]
  },
  {
   "cell_type": "code",
   "execution_count": 9,
   "id": "7a544c0a",
   "metadata": {
    "collapsed": true
   },
   "outputs": [
    {
     "ename": "HTTPError",
     "evalue": "HTTP Error 403: Forbidden",
     "output_type": "error",
     "traceback": [
      "\u001b[0;31m---------------------------------------------------------------------------\u001b[0m",
      "\u001b[0;31mHTTPError\u001b[0m                                 Traceback (most recent call last)",
      "\u001b[0;32m/var/folders/8t/_ddt3wdj3bj3lgdqz1cyy6_r0000gp/T/ipykernel_75405/3499271308.py\u001b[0m in \u001b[0;36m<module>\u001b[0;34m\u001b[0m\n\u001b[0;32m----> 1\u001b[0;31m \u001b[0;32mwith\u001b[0m \u001b[0mrequest\u001b[0m\u001b[0;34m.\u001b[0m\u001b[0murlopen\u001b[0m\u001b[0;34m(\u001b[0m\u001b[0;34m'https://www.discogs.com/'\u001b[0m\u001b[0;34m)\u001b[0m \u001b[0;32mas\u001b[0m \u001b[0mdiscpage\u001b[0m\u001b[0;34m:\u001b[0m\u001b[0;34m\u001b[0m\u001b[0;34m\u001b[0m\u001b[0m\n\u001b[0m\u001b[1;32m      2\u001b[0m     \u001b[0mhtml\u001b[0m \u001b[0;34m=\u001b[0m \u001b[0mdiscpage\u001b[0m\u001b[0;34m.\u001b[0m\u001b[0mread\u001b[0m\u001b[0;34m(\u001b[0m\u001b[0;34m)\u001b[0m\u001b[0;34m\u001b[0m\u001b[0;34m\u001b[0m\u001b[0m\n\u001b[1;32m      3\u001b[0m     \u001b[0mpage_soup\u001b[0m \u001b[0;34m=\u001b[0m \u001b[0mBeautifulSoup\u001b[0m\u001b[0;34m(\u001b[0m\u001b[0mhtml\u001b[0m\u001b[0;34m)\u001b[0m\u001b[0;34m\u001b[0m\u001b[0;34m\u001b[0m\u001b[0m\n\u001b[1;32m      4\u001b[0m     \u001b[0mdiscpage\u001b[0m\u001b[0;34m.\u001b[0m\u001b[0mclose\u001b[0m\u001b[0;34m(\u001b[0m\u001b[0;34m)\u001b[0m\u001b[0;34m\u001b[0m\u001b[0;34m\u001b[0m\u001b[0m\n",
      "\u001b[0;32m/usr/local/Cellar/python@3.9/3.9.6/Frameworks/Python.framework/Versions/3.9/lib/python3.9/urllib/request.py\u001b[0m in \u001b[0;36murlopen\u001b[0;34m(url, data, timeout, cafile, capath, cadefault, context)\u001b[0m\n\u001b[1;32m    212\u001b[0m     \u001b[0;32melse\u001b[0m\u001b[0;34m:\u001b[0m\u001b[0;34m\u001b[0m\u001b[0;34m\u001b[0m\u001b[0m\n\u001b[1;32m    213\u001b[0m         \u001b[0mopener\u001b[0m \u001b[0;34m=\u001b[0m \u001b[0m_opener\u001b[0m\u001b[0;34m\u001b[0m\u001b[0;34m\u001b[0m\u001b[0m\n\u001b[0;32m--> 214\u001b[0;31m     \u001b[0;32mreturn\u001b[0m \u001b[0mopener\u001b[0m\u001b[0;34m.\u001b[0m\u001b[0mopen\u001b[0m\u001b[0;34m(\u001b[0m\u001b[0murl\u001b[0m\u001b[0;34m,\u001b[0m \u001b[0mdata\u001b[0m\u001b[0;34m,\u001b[0m \u001b[0mtimeout\u001b[0m\u001b[0;34m)\u001b[0m\u001b[0;34m\u001b[0m\u001b[0;34m\u001b[0m\u001b[0m\n\u001b[0m\u001b[1;32m    215\u001b[0m \u001b[0;34m\u001b[0m\u001b[0m\n\u001b[1;32m    216\u001b[0m \u001b[0;32mdef\u001b[0m \u001b[0minstall_opener\u001b[0m\u001b[0;34m(\u001b[0m\u001b[0mopener\u001b[0m\u001b[0;34m)\u001b[0m\u001b[0;34m:\u001b[0m\u001b[0;34m\u001b[0m\u001b[0;34m\u001b[0m\u001b[0m\n",
      "\u001b[0;32m/usr/local/Cellar/python@3.9/3.9.6/Frameworks/Python.framework/Versions/3.9/lib/python3.9/urllib/request.py\u001b[0m in \u001b[0;36mopen\u001b[0;34m(self, fullurl, data, timeout)\u001b[0m\n\u001b[1;32m    521\u001b[0m         \u001b[0;32mfor\u001b[0m \u001b[0mprocessor\u001b[0m \u001b[0;32min\u001b[0m \u001b[0mself\u001b[0m\u001b[0;34m.\u001b[0m\u001b[0mprocess_response\u001b[0m\u001b[0;34m.\u001b[0m\u001b[0mget\u001b[0m\u001b[0;34m(\u001b[0m\u001b[0mprotocol\u001b[0m\u001b[0;34m,\u001b[0m \u001b[0;34m[\u001b[0m\u001b[0;34m]\u001b[0m\u001b[0;34m)\u001b[0m\u001b[0;34m:\u001b[0m\u001b[0;34m\u001b[0m\u001b[0;34m\u001b[0m\u001b[0m\n\u001b[1;32m    522\u001b[0m             \u001b[0mmeth\u001b[0m \u001b[0;34m=\u001b[0m \u001b[0mgetattr\u001b[0m\u001b[0;34m(\u001b[0m\u001b[0mprocessor\u001b[0m\u001b[0;34m,\u001b[0m \u001b[0mmeth_name\u001b[0m\u001b[0;34m)\u001b[0m\u001b[0;34m\u001b[0m\u001b[0;34m\u001b[0m\u001b[0m\n\u001b[0;32m--> 523\u001b[0;31m             \u001b[0mresponse\u001b[0m \u001b[0;34m=\u001b[0m \u001b[0mmeth\u001b[0m\u001b[0;34m(\u001b[0m\u001b[0mreq\u001b[0m\u001b[0;34m,\u001b[0m \u001b[0mresponse\u001b[0m\u001b[0;34m)\u001b[0m\u001b[0;34m\u001b[0m\u001b[0;34m\u001b[0m\u001b[0m\n\u001b[0m\u001b[1;32m    524\u001b[0m \u001b[0;34m\u001b[0m\u001b[0m\n\u001b[1;32m    525\u001b[0m         \u001b[0;32mreturn\u001b[0m \u001b[0mresponse\u001b[0m\u001b[0;34m\u001b[0m\u001b[0;34m\u001b[0m\u001b[0m\n",
      "\u001b[0;32m/usr/local/Cellar/python@3.9/3.9.6/Frameworks/Python.framework/Versions/3.9/lib/python3.9/urllib/request.py\u001b[0m in \u001b[0;36mhttp_response\u001b[0;34m(self, request, response)\u001b[0m\n\u001b[1;32m    630\u001b[0m         \u001b[0;31m# request was successfully received, understood, and accepted.\u001b[0m\u001b[0;34m\u001b[0m\u001b[0;34m\u001b[0m\u001b[0;34m\u001b[0m\u001b[0m\n\u001b[1;32m    631\u001b[0m         \u001b[0;32mif\u001b[0m \u001b[0;32mnot\u001b[0m \u001b[0;34m(\u001b[0m\u001b[0;36m200\u001b[0m \u001b[0;34m<=\u001b[0m \u001b[0mcode\u001b[0m \u001b[0;34m<\u001b[0m \u001b[0;36m300\u001b[0m\u001b[0;34m)\u001b[0m\u001b[0;34m:\u001b[0m\u001b[0;34m\u001b[0m\u001b[0;34m\u001b[0m\u001b[0m\n\u001b[0;32m--> 632\u001b[0;31m             response = self.parent.error(\n\u001b[0m\u001b[1;32m    633\u001b[0m                 'http', request, response, code, msg, hdrs)\n\u001b[1;32m    634\u001b[0m \u001b[0;34m\u001b[0m\u001b[0m\n",
      "\u001b[0;32m/usr/local/Cellar/python@3.9/3.9.6/Frameworks/Python.framework/Versions/3.9/lib/python3.9/urllib/request.py\u001b[0m in \u001b[0;36merror\u001b[0;34m(self, proto, *args)\u001b[0m\n\u001b[1;32m    559\u001b[0m         \u001b[0;32mif\u001b[0m \u001b[0mhttp_err\u001b[0m\u001b[0;34m:\u001b[0m\u001b[0;34m\u001b[0m\u001b[0;34m\u001b[0m\u001b[0m\n\u001b[1;32m    560\u001b[0m             \u001b[0margs\u001b[0m \u001b[0;34m=\u001b[0m \u001b[0;34m(\u001b[0m\u001b[0mdict\u001b[0m\u001b[0;34m,\u001b[0m \u001b[0;34m'default'\u001b[0m\u001b[0;34m,\u001b[0m \u001b[0;34m'http_error_default'\u001b[0m\u001b[0;34m)\u001b[0m \u001b[0;34m+\u001b[0m \u001b[0morig_args\u001b[0m\u001b[0;34m\u001b[0m\u001b[0;34m\u001b[0m\u001b[0m\n\u001b[0;32m--> 561\u001b[0;31m             \u001b[0;32mreturn\u001b[0m \u001b[0mself\u001b[0m\u001b[0;34m.\u001b[0m\u001b[0m_call_chain\u001b[0m\u001b[0;34m(\u001b[0m\u001b[0;34m*\u001b[0m\u001b[0margs\u001b[0m\u001b[0;34m)\u001b[0m\u001b[0;34m\u001b[0m\u001b[0;34m\u001b[0m\u001b[0m\n\u001b[0m\u001b[1;32m    562\u001b[0m \u001b[0;34m\u001b[0m\u001b[0m\n\u001b[1;32m    563\u001b[0m \u001b[0;31m# XXX probably also want an abstract factory that knows when it makes\u001b[0m\u001b[0;34m\u001b[0m\u001b[0;34m\u001b[0m\u001b[0;34m\u001b[0m\u001b[0m\n",
      "\u001b[0;32m/usr/local/Cellar/python@3.9/3.9.6/Frameworks/Python.framework/Versions/3.9/lib/python3.9/urllib/request.py\u001b[0m in \u001b[0;36m_call_chain\u001b[0;34m(self, chain, kind, meth_name, *args)\u001b[0m\n\u001b[1;32m    492\u001b[0m         \u001b[0;32mfor\u001b[0m \u001b[0mhandler\u001b[0m \u001b[0;32min\u001b[0m \u001b[0mhandlers\u001b[0m\u001b[0;34m:\u001b[0m\u001b[0;34m\u001b[0m\u001b[0;34m\u001b[0m\u001b[0m\n\u001b[1;32m    493\u001b[0m             \u001b[0mfunc\u001b[0m \u001b[0;34m=\u001b[0m \u001b[0mgetattr\u001b[0m\u001b[0;34m(\u001b[0m\u001b[0mhandler\u001b[0m\u001b[0;34m,\u001b[0m \u001b[0mmeth_name\u001b[0m\u001b[0;34m)\u001b[0m\u001b[0;34m\u001b[0m\u001b[0;34m\u001b[0m\u001b[0m\n\u001b[0;32m--> 494\u001b[0;31m             \u001b[0mresult\u001b[0m \u001b[0;34m=\u001b[0m \u001b[0mfunc\u001b[0m\u001b[0;34m(\u001b[0m\u001b[0;34m*\u001b[0m\u001b[0margs\u001b[0m\u001b[0;34m)\u001b[0m\u001b[0;34m\u001b[0m\u001b[0;34m\u001b[0m\u001b[0m\n\u001b[0m\u001b[1;32m    495\u001b[0m             \u001b[0;32mif\u001b[0m \u001b[0mresult\u001b[0m \u001b[0;32mis\u001b[0m \u001b[0;32mnot\u001b[0m \u001b[0;32mNone\u001b[0m\u001b[0;34m:\u001b[0m\u001b[0;34m\u001b[0m\u001b[0;34m\u001b[0m\u001b[0m\n\u001b[1;32m    496\u001b[0m                 \u001b[0;32mreturn\u001b[0m \u001b[0mresult\u001b[0m\u001b[0;34m\u001b[0m\u001b[0;34m\u001b[0m\u001b[0m\n",
      "\u001b[0;32m/usr/local/Cellar/python@3.9/3.9.6/Frameworks/Python.framework/Versions/3.9/lib/python3.9/urllib/request.py\u001b[0m in \u001b[0;36mhttp_error_default\u001b[0;34m(self, req, fp, code, msg, hdrs)\u001b[0m\n\u001b[1;32m    639\u001b[0m \u001b[0;32mclass\u001b[0m \u001b[0mHTTPDefaultErrorHandler\u001b[0m\u001b[0;34m(\u001b[0m\u001b[0mBaseHandler\u001b[0m\u001b[0;34m)\u001b[0m\u001b[0;34m:\u001b[0m\u001b[0;34m\u001b[0m\u001b[0;34m\u001b[0m\u001b[0m\n\u001b[1;32m    640\u001b[0m     \u001b[0;32mdef\u001b[0m \u001b[0mhttp_error_default\u001b[0m\u001b[0;34m(\u001b[0m\u001b[0mself\u001b[0m\u001b[0;34m,\u001b[0m \u001b[0mreq\u001b[0m\u001b[0;34m,\u001b[0m \u001b[0mfp\u001b[0m\u001b[0;34m,\u001b[0m \u001b[0mcode\u001b[0m\u001b[0;34m,\u001b[0m \u001b[0mmsg\u001b[0m\u001b[0;34m,\u001b[0m \u001b[0mhdrs\u001b[0m\u001b[0;34m)\u001b[0m\u001b[0;34m:\u001b[0m\u001b[0;34m\u001b[0m\u001b[0;34m\u001b[0m\u001b[0m\n\u001b[0;32m--> 641\u001b[0;31m         \u001b[0;32mraise\u001b[0m \u001b[0mHTTPError\u001b[0m\u001b[0;34m(\u001b[0m\u001b[0mreq\u001b[0m\u001b[0;34m.\u001b[0m\u001b[0mfull_url\u001b[0m\u001b[0;34m,\u001b[0m \u001b[0mcode\u001b[0m\u001b[0;34m,\u001b[0m \u001b[0mmsg\u001b[0m\u001b[0;34m,\u001b[0m \u001b[0mhdrs\u001b[0m\u001b[0;34m,\u001b[0m \u001b[0mfp\u001b[0m\u001b[0;34m)\u001b[0m\u001b[0;34m\u001b[0m\u001b[0;34m\u001b[0m\u001b[0m\n\u001b[0m\u001b[1;32m    642\u001b[0m \u001b[0;34m\u001b[0m\u001b[0m\n\u001b[1;32m    643\u001b[0m \u001b[0;32mclass\u001b[0m \u001b[0mHTTPRedirectHandler\u001b[0m\u001b[0;34m(\u001b[0m\u001b[0mBaseHandler\u001b[0m\u001b[0;34m)\u001b[0m\u001b[0;34m:\u001b[0m\u001b[0;34m\u001b[0m\u001b[0;34m\u001b[0m\u001b[0m\n",
      "\u001b[0;31mHTTPError\u001b[0m: HTTP Error 403: Forbidden"
     ]
    }
   ],
   "source": [
    "with request.urlopen('https://www.discogs.com/') as discpage:\n",
    "    html = discpage.read()\n",
    "    page_soup = BeautifulSoup(html)\n",
    "    discpage.close()"
   ]
  },
  {
   "cell_type": "code",
   "execution_count": 12,
   "id": "1122cbb8",
   "metadata": {},
   "outputs": [],
   "source": [
    "chrome_options = webdriver.chrome.options.Options()\n",
    "chrome_options.add_argument('--headless')\n",
    "\n",
    "\n",
    "driver = webdriver.Chrome(options=chrome_options)"
   ]
  },
  {
   "cell_type": "code",
   "execution_count": 282,
   "id": "fee529cd",
   "metadata": {},
   "outputs": [],
   "source": [
    "driver.get('https://www.discogs.com/Various-Hyperdub-52/release/1923860')"
   ]
  },
  {
   "cell_type": "code",
   "execution_count": 283,
   "id": "1943313e",
   "metadata": {
    "collapsed": true
   },
   "outputs": [
    {
     "name": "stdout",
     "output_type": "stream",
     "text": [
      "<html lang=\"en\"><head><meta charset=\"utf-8\"><script async=\"\" src=\"//c.amazon-adsystem.com/aax2/apstag.js\"></script><script type=\"text/javascript\" async=\"\" src=\"https://www.google-analytics.com/plugins/ua/linkid.js\"></script><script type=\"text/javascript\" async=\"\" src=\"https://www.google-analytics.com/analytics.js\"></script><script async=\"\" src=\"https://www.googletagmanager.com/gtm.js?id=GTM-KMW8HRV\"></script><script>window.dataLayer=window.dataLayer||[];window.dataLayer.push({\n",
      "            event: 'dataLayer-initialized',\n",
      "            userId: undefined,\n",
      "            loggedIn: false,\n",
      "            siteVersion: \"f3536f7e\",\n",
      "            pageCategory: \"release-view-new\",\n",
      "            environment: \"production\",\n",
      "            isNewReleasePage: true,\n",
      "        })</script><script>(function(w,d,s,l,i){w[l]=w[l]||[];w[l].push({'gtm.start':\n",
      "        new Date().getTime(),event:'gtm.js'});var f=d.getElementsByTagName(s)[0],\n",
      "        j=d.createElement(s),dl=l!='dataLayer'?'&l='+l:'';j.async=true;j.src=\n",
      "        'https://www.googletagmanager.com/gtm.js?id='+i+dl;f.parentNode.insertBefore(j,f);\n",
      "        })(window,document,'script','dataLayer','GTM-KMW8HRV');\n",
      "    </script><link data-chunk=\"main\" rel=\"stylesheet\" href=\"/internal/release-page/_assets/e1c4c6f0.css\"><link data-chunk=\"pages-release-page\" rel=\"stylesheet\" href=\"/internal/release-page/_assets/fa24dca6.css\"><link rel=\"shortcut icon\" type=\"image/x-icon\" href=\"/internal/release-page/_assets/a69fc037.ico\"><link rel=\"shortcut icon\" type=\"image/png\" href=\"/internal/release-page/_assets/e95f0cd9.png\"><title>Hyperdub 5.2 (2009, Vinyl) - Discogs</title><meta property=\"og:type\" content=\"music.album\"><meta property=\"og:title\" content=\"Hyperdub 5.2 (2009, Vinyl)\"><meta property=\"twitter:title\" content=\"Hyperdub 5.2 (2009, Vinyl)\"><meta name=\"description\" content=\"View credits, reviews, tracks and shop for the 2009 Vinyl release of &quot;Hyperdub 5.2&quot; on Discogs.\"><meta property=\"og:description\" content=\"View credits, reviews, tracks and shop for the 2009 Vinyl release of &quot;Hyperdub 5.2&quot; on Discogs.\"><meta property=\"twitter:description\" content=\"View credits, reviews, tracks and shop for the 2009 Vinyl release of &quot;Hyperdub 5.2&quot; on Discogs.\"><meta property=\"og:site_name\" content=\"Discogs\"><meta property=\"twitter:site\" content=\"@discogs\"><meta property=\"og:image\" content=\"https://img.discogs.com/b8177tbI73kY7_ig695pkDVJg9o=/fit-in/594x600/filters:strip_icc():format(jpeg):mode_rgb():quality(90)/discogs-images/R-1923860-1260631810.jpeg.jpg\"><meta property=\"twitter:image:src\" content=\"https://img.discogs.com/b8177tbI73kY7_ig695pkDVJg9o=/fit-in/594x600/filters:strip_icc():format(jpeg):mode_rgb():quality(90)/discogs-images/R-1923860-1260631810.jpeg.jpg\"><meta property=\"og:url\" content=\"https://www.discogs.com/Various-Hyperdub-52/release/1923860\"><meta property=\"fb:app_id\" content=\"117175028305858\"><meta property=\"twitter:card\" content=\"summary_card_large\"><link rel=\"canonical\" href=\"https://www.discogs.com/Various-Hyperdub-52/release/1923860\"><link rel=\"alternate\" hreflang=\"en\" href=\"https://www.discogs.com/Various-Hyperdub-52/release/1923860\"><link rel=\"alternate\" hreflang=\"de\" href=\"https://www.discogs.com/de/Various-Hyperdub-52/release/1923860\"><link rel=\"alternate\" hreflang=\"es\" href=\"https://www.discogs.com/es/Various-Hyperdub-52/release/1923860\"><link rel=\"alternate\" hreflang=\"fr\" href=\"https://www.discogs.com/fr/Various-Hyperdub-52/release/1923860\"><link rel=\"alternate\" hreflang=\"it\" href=\"https://www.discogs.com/it/Various-Hyperdub-52/release/1923860\"><link rel=\"alternate\" hreflang=\"ja\" href=\"https://www.discogs.com/ja/Various-Hyperdub-52/release/1923860\"><link rel=\"alternate\" hreflang=\"ko\" href=\"https://www.discogs.com/ko/Various-Hyperdub-52/release/1923860\"><link rel=\"alternate\" hreflang=\"pt-BR\" href=\"https://www.discogs.com/pt_BR/Various-Hyperdub-52/release/1923860\"><link rel=\"alternate\" hreflang=\"ru\" href=\"https://www.discogs.com/ru/Various-Hyperdub-52/release/1923860\"><link rel=\"favicon\" href=\"/release-page/favicon.ico\"><meta name=\"viewport\" content=\"width=device-width, initial-scale=1\"><style type=\"text/css\">.ad_top iframe {margin: 0 auto;}</style><script src=\"https://geolocation.onetrust.com/cookieconsentpub/v1/geo/location\" async=\"\" type=\"text/javascript\"></script><script src=\"https://cdn.cookielaw.org/scripttemplates/6.20.0/otBannerSdk.js\" async=\"\" type=\"text/javascript\"></script><script type=\"text/javascript\" async=\"\" src=\"https://cdn.cookielaw.org/scripttemplates/6.20.0/otTCF.js\"></script><style id=\"onetrust-style\">#onetrust-banner-sdk{-ms-text-size-adjust:100%;-webkit-text-size-adjust:100%}#onetrust-banner-sdk .onetrust-vendors-list-handler{cursor:pointer;color:#1f96db;font-size:inherit;font-weight:bold;text-decoration:none;margin-left:5px}#onetrust-banner-sdk .onetrust-vendors-list-handler:hover{color:#1f96db}#onetrust-banner-sdk:focus{outline:2px solid #000;outline-offset:-2px}#onetrust-banner-sdk a:focus{outline:2px solid #000}#onetrust-banner-sdk .ot-close-icon,#onetrust-pc-sdk .ot-close-icon,#ot-sync-ntfy .ot-close-icon{background-image:url(\"data:image/svg+xml;base64,PHN2ZyB2ZXJzaW9uPSIxLjEiIHhtbG5zPSJodHRwOi8vd3d3LnczLm9yZy8yMDAwL3N2ZyIgeG1sbnM6eGxpbms9Imh0dHA6Ly93d3cudzMub3JnLzE5OTkveGxpbmsiIHg9IjBweCIgeT0iMHB4IiB3aWR0aD0iMzQ4LjMzM3B4IiBoZWlnaHQ9IjM0OC4zMzNweCIgdmlld0JveD0iMCAwIDM0OC4zMzMgMzQ4LjMzNCIgc3R5bGU9ImVuYWJsZS1iYWNrZ3JvdW5kOm5ldyAwIDAgMzQ4LjMzMyAzNDguMzM0OyIgeG1sOnNwYWNlPSJwcmVzZXJ2ZSI+PGc+PHBhdGggZmlsbD0iIzU2NTY1NiIgZD0iTTMzNi41NTksNjguNjExTDIzMS4wMTYsMTc0LjE2NWwxMDUuNTQzLDEwNS41NDljMTUuNjk5LDE1LjcwNSwxNS42OTksNDEuMTQ1LDAsNTYuODVjLTcuODQ0LDcuODQ0LTE4LjEyOCwxMS43NjktMjguNDA3LDExLjc2OWMtMTAuMjk2LDAtMjAuNTgxLTMuOTE5LTI4LjQxOS0xMS43NjlMMTc0LjE2NywyMzEuMDAzTDY4LjYwOSwzMzYuNTYzYy03Ljg0Myw3Ljg0NC0xOC4xMjgsMTEuNzY5LTI4LjQxNiwxMS43NjljLTEwLjI4NSwwLTIwLjU2My0zLjkxOS0yOC40MTMtMTEuNzY5Yy0xNS42OTktMTUuNjk4LTE1LjY5OS00MS4xMzksMC01Ni44NWwxMDUuNTQtMTA1LjU0OUwxMS43NzQsNjguNjExYy0xNS42OTktMTUuNjk5LTE1LjY5OS00MS4xNDUsMC01Ni44NDRjMTUuNjk2LTE1LjY4Nyw0MS4xMjctMTUuNjg3LDU2LjgyOSwwbDEwNS41NjMsMTA1LjU1NEwyNzkuNzIxLDExLjc2N2MxNS43MDUtMTUuNjg3LDQxLjEzOS0xNS42ODcsNTYuODMyLDBDMzUyLjI1OCwyNy40NjYsMzUyLjI1OCw1Mi45MTIsMzM2LjU1OSw2OC42MTF6Ii8+PC9nPjwvc3ZnPg==\");background-size:contain;background-repeat:no-repeat;background-position:center;height:12px;width:12px}#onetrust-banner-sdk .powered-by-logo,#onetrust-banner-sdk .ot-pc-footer-logo a,#onetrust-pc-sdk .powered-by-logo,#onetrust-pc-sdk .ot-pc-footer-logo a,#ot-sync-ntfy .powered-by-logo,#ot-sync-ntfy .ot-pc-footer-logo a{background-size:contain;background-repeat:no-repeat;background-position:center;height:25px;width:152px;display:block}#onetrust-banner-sdk h3 *,#onetrust-banner-sdk h4 *,#onetrust-banner-sdk h6 *,#onetrust-banner-sdk button *,#onetrust-banner-sdk a[data-parent-id] *,#onetrust-pc-sdk h3 *,#onetrust-pc-sdk h4 *,#onetrust-pc-sdk h6 *,#onetrust-pc-sdk button *,#onetrust-pc-sdk a[data-parent-id] *,#ot-sync-ntfy h3 *,#ot-sync-ntfy h4 *,#ot-sync-ntfy h6 *,#ot-sync-ntfy button *,#ot-sync-ntfy a[data-parent-id] *{font-size:inherit;font-weight:inherit;color:inherit}#onetrust-banner-sdk .ot-hide,#onetrust-pc-sdk .ot-hide,#ot-sync-ntfy .ot-hide{display:none !important}#onetrust-pc-sdk .ot-sdk-row .ot-sdk-column{padding:0}#onetrust-pc-sdk .ot-sdk-container{padding-right:0}#onetrust-pc-sdk .ot-sdk-row{flex-direction:initial;width:100%}#onetrust-pc-sdk [type=\"checkbox\"]:checked,#onetrust-pc-sdk [type=\"checkbox\"]:not(:checked){pointer-events:initial}#onetrust-pc-sdk [type=\"checkbox\"]:disabled+label::before,#onetrust-pc-sdk [type=\"checkbox\"]:disabled+label:after,#onetrust-pc-sdk [type=\"checkbox\"]:disabled+label{pointer-events:none;opacity:0.7}#onetrust-pc-sdk #vendor-list-content{transform:translate3d(0, 0, 0)}#onetrust-pc-sdk li input[type=\"checkbox\"]{z-index:1}#onetrust-pc-sdk li .ot-checkbox label{z-index:2}#onetrust-pc-sdk li .ot-checkbox input[type=\"checkbox\"]{height:auto;width:auto}#onetrust-pc-sdk li .host-title a,#onetrust-pc-sdk li .ot-host-name a,#onetrust-pc-sdk li .accordion-text,#onetrust-pc-sdk li .ot-acc-txt{z-index:2;position:relative}#onetrust-pc-sdk input{margin:3px 0.1ex}#onetrust-pc-sdk .toggle-always-active{opacity:0.6;cursor:default}#onetrust-pc-sdk .pc-logo,#onetrust-pc-sdk .ot-pc-logo{height:60px;width:180px;background-position:center;background-size:contain;background-repeat:no-repeat}#onetrust-pc-sdk .ot-tooltip .ot-tooltiptext{visibility:hidden;width:120px;background-color:#555;color:#fff;text-align:center;padding:5px 0;border-radius:6px;position:absolute;z-index:1;bottom:125%;left:50%;margin-left:-60px;opacity:0;transition:opacity 0.3s}#onetrust-pc-sdk .ot-tooltip .ot-tooltiptext::after{content:\"\";position:absolute;top:100%;left:50%;margin-left:-5px;border-width:5px;border-style:solid;border-color:#555 transparent transparent transparent}#onetrust-pc-sdk .ot-tooltip:hover .ot-tooltiptext{visibility:visible;opacity:1}#onetrust-pc-sdk .ot-tooltip{position:relative;display:inline-block;z-index:3}#onetrust-pc-sdk .ot-tooltip svg{color:grey;height:20px;width:20px}#onetrust-pc-sdk .screen-reader-only,#onetrust-pc-sdk .ot-scrn-rdr,.ot-sdk-cookie-policy .screen-reader-only,.ot-sdk-cookie-policy .ot-scrn-rdr{border:0;clip:rect(0 0 0 0);height:1px;margin:-1px;overflow:hidden;padding:0;position:absolute;width:1px}#onetrust-pc-sdk.ot-fade-in,.onetrust-pc-dark-filter.ot-fade-in,#onetrust-banner-sdk.ot-fade-in{animation-name:onetrust-fade-in;animation-duration:400ms;animation-timing-function:ease-in-out}#onetrust-pc-sdk.ot-hide{display:none !important}.onetrust-pc-dark-filter.ot-hide{display:none !important}#ot-sdk-btn.ot-sdk-show-settings,#ot-sdk-btn.optanon-show-settings{color:#68b631;border:1px solid #68b631;height:auto;white-space:normal;word-wrap:break-word;padding:0.8em 2em;font-size:0.8em;line-height:1.2;cursor:pointer;-moz-transition:0.1s ease;-o-transition:0.1s ease;-webkit-transition:1s ease;transition:0.1s ease}#ot-sdk-btn.ot-sdk-show-settings:hover,#ot-sdk-btn.optanon-show-settings:hover{color:#fff;background-color:#68b631}.onetrust-pc-dark-filter{background:rgba(0,0,0,0.5);z-index:2147483646;width:100%;height:100%;overflow:hidden;position:fixed;top:0;bottom:0;left:0}@keyframes onetrust-fade-in{0%{opacity:0}100%{opacity:1}}@media only screen and (min-width: 426px) and (max-width: 896px) and (orientation: landscape){#onetrust-pc-sdk p{font-size:0.75em}}#onetrust-banner-sdk .banner-option-input:focus+label{outline:1px solid #000;outline-style:auto}\n",
      "#onetrust-banner-sdk,#onetrust-pc-sdk,#ot-sdk-cookie-policy,#ot-sync-ntfy{font-size:16px}#onetrust-banner-sdk *,#onetrust-banner-sdk ::after,#onetrust-banner-sdk ::before,#onetrust-pc-sdk *,#onetrust-pc-sdk ::after,#onetrust-pc-sdk ::before,#ot-sdk-cookie-policy *,#ot-sdk-cookie-policy ::after,#ot-sdk-cookie-policy ::before,#ot-sync-ntfy *,#ot-sync-ntfy ::after,#ot-sync-ntfy ::before{-webkit-box-sizing:content-box;-moz-box-sizing:content-box;box-sizing:content-box}#onetrust-banner-sdk div,#onetrust-banner-sdk span,#onetrust-banner-sdk h1,#onetrust-banner-sdk h2,#onetrust-banner-sdk h3,#onetrust-banner-sdk h4,#onetrust-banner-sdk h5,#onetrust-banner-sdk h6,#onetrust-banner-sdk p,#onetrust-banner-sdk img,#onetrust-banner-sdk svg,#onetrust-banner-sdk button,#onetrust-banner-sdk section,#onetrust-banner-sdk a,#onetrust-banner-sdk label,#onetrust-banner-sdk input,#onetrust-banner-sdk ul,#onetrust-banner-sdk li,#onetrust-banner-sdk nav,#onetrust-banner-sdk table,#onetrust-banner-sdk thead,#onetrust-banner-sdk tr,#onetrust-banner-sdk td,#onetrust-banner-sdk tbody,#onetrust-banner-sdk .ot-main-content,#onetrust-banner-sdk .ot-toggle,#onetrust-banner-sdk #ot-content,#onetrust-banner-sdk #ot-pc-content,#onetrust-banner-sdk .checkbox,#onetrust-pc-sdk div,#onetrust-pc-sdk span,#onetrust-pc-sdk h1,#onetrust-pc-sdk h2,#onetrust-pc-sdk h3,#onetrust-pc-sdk h4,#onetrust-pc-sdk h5,#onetrust-pc-sdk h6,#onetrust-pc-sdk p,#onetrust-pc-sdk img,#onetrust-pc-sdk svg,#onetrust-pc-sdk button,#onetrust-pc-sdk section,#onetrust-pc-sdk a,#onetrust-pc-sdk label,#onetrust-pc-sdk input,#onetrust-pc-sdk ul,#onetrust-pc-sdk li,#onetrust-pc-sdk nav,#onetrust-pc-sdk table,#onetrust-pc-sdk thead,#onetrust-pc-sdk tr,#onetrust-pc-sdk td,#onetrust-pc-sdk tbody,#onetrust-pc-sdk .ot-main-content,#onetrust-pc-sdk .ot-toggle,#onetrust-pc-sdk #ot-content,#onetrust-pc-sdk #ot-pc-content,#onetrust-pc-sdk .checkbox,#ot-sdk-cookie-policy div,#ot-sdk-cookie-policy span,#ot-sdk-cookie-policy h1,#ot-sdk-cookie-policy h2,#ot-sdk-cookie-policy h3,#ot-sdk-cookie-policy h4,#ot-sdk-cookie-policy h5,#ot-sdk-cookie-policy h6,#ot-sdk-cookie-policy p,#ot-sdk-cookie-policy img,#ot-sdk-cookie-policy svg,#ot-sdk-cookie-policy button,#ot-sdk-cookie-policy section,#ot-sdk-cookie-policy a,#ot-sdk-cookie-policy label,#ot-sdk-cookie-policy input,#ot-sdk-cookie-policy ul,#ot-sdk-cookie-policy li,#ot-sdk-cookie-policy nav,#ot-sdk-cookie-policy table,#ot-sdk-cookie-policy thead,#ot-sdk-cookie-policy tr,#ot-sdk-cookie-policy td,#ot-sdk-cookie-policy tbody,#ot-sdk-cookie-policy .ot-main-content,#ot-sdk-cookie-policy .ot-toggle,#ot-sdk-cookie-policy #ot-content,#ot-sdk-cookie-policy #ot-pc-content,#ot-sdk-cookie-policy .checkbox,#ot-sync-ntfy div,#ot-sync-ntfy span,#ot-sync-ntfy h1,#ot-sync-ntfy h2,#ot-sync-ntfy h3,#ot-sync-ntfy h4,#ot-sync-ntfy h5,#ot-sync-ntfy h6,#ot-sync-ntfy p,#ot-sync-ntfy img,#ot-sync-ntfy svg,#ot-sync-ntfy button,#ot-sync-ntfy section,#ot-sync-ntfy a,#ot-sync-ntfy label,#ot-sync-ntfy input,#ot-sync-ntfy ul,#ot-sync-ntfy li,#ot-sync-ntfy nav,#ot-sync-ntfy table,#ot-sync-ntfy thead,#ot-sync-ntfy tr,#ot-sync-ntfy td,#ot-sync-ntfy tbody,#ot-sync-ntfy .ot-main-content,#ot-sync-ntfy .ot-toggle,#ot-sync-ntfy #ot-content,#ot-sync-ntfy #ot-pc-content,#ot-sync-ntfy .checkbox{font-family:inherit;font-weight:normal;-webkit-font-smoothing:auto;letter-spacing:normal;line-height:normal;padding:0;margin:0;height:auto;min-height:0;max-height:none;width:auto;min-width:0;max-width:none;border-radius:0;border:none;clear:none;float:none;position:static;bottom:auto;left:auto;right:auto;top:auto;text-align:left;text-decoration:none;text-indent:0;text-shadow:none;text-transform:none;white-space:normal;background:none;overflow:visible;vertical-align:baseline;visibility:visible;z-index:auto;box-shadow:none}#onetrust-banner-sdk label:before,#onetrust-banner-sdk label:after,#onetrust-banner-sdk .checkbox:after,#onetrust-banner-sdk .checkbox:before,#onetrust-pc-sdk label:before,#onetrust-pc-sdk label:after,#onetrust-pc-sdk .checkbox:after,#onetrust-pc-sdk .checkbox:before,#ot-sdk-cookie-policy label:before,#ot-sdk-cookie-policy label:after,#ot-sdk-cookie-policy .checkbox:after,#ot-sdk-cookie-policy .checkbox:before,#ot-sync-ntfy label:before,#ot-sync-ntfy label:after,#ot-sync-ntfy .checkbox:after,#ot-sync-ntfy .checkbox:before{content:\"\";content:none}\n",
      "#onetrust-banner-sdk .ot-sdk-container,#onetrust-pc-sdk .ot-sdk-container,#ot-sdk-cookie-policy .ot-sdk-container{position:relative;width:100%;max-width:100%;margin:0 auto;padding:0 20px;box-sizing:border-box}#onetrust-banner-sdk .ot-sdk-column,#onetrust-banner-sdk .ot-sdk-columns,#onetrust-pc-sdk .ot-sdk-column,#onetrust-pc-sdk .ot-sdk-columns,#ot-sdk-cookie-policy .ot-sdk-column,#ot-sdk-cookie-policy .ot-sdk-columns{width:100%;float:left;box-sizing:border-box;padding:0;display:initial}@media (min-width: 400px){#onetrust-banner-sdk .ot-sdk-container,#onetrust-pc-sdk .ot-sdk-container,#ot-sdk-cookie-policy .ot-sdk-container{width:90%;padding:0}}@media (min-width: 550px){#onetrust-banner-sdk .ot-sdk-container,#onetrust-pc-sdk .ot-sdk-container,#ot-sdk-cookie-policy .ot-sdk-container{width:100%}#onetrust-banner-sdk .ot-sdk-column,#onetrust-banner-sdk .ot-sdk-columns,#onetrust-pc-sdk .ot-sdk-column,#onetrust-pc-sdk .ot-sdk-columns,#ot-sdk-cookie-policy .ot-sdk-column,#ot-sdk-cookie-policy .ot-sdk-columns{margin-left:4%}#onetrust-banner-sdk .ot-sdk-column:first-child,#onetrust-banner-sdk .ot-sdk-columns:first-child,#onetrust-pc-sdk .ot-sdk-column:first-child,#onetrust-pc-sdk .ot-sdk-columns:first-child,#ot-sdk-cookie-policy .ot-sdk-column:first-child,#ot-sdk-cookie-policy .ot-sdk-columns:first-child{margin-left:0}#onetrust-banner-sdk .ot-sdk-one.ot-sdk-column,#onetrust-banner-sdk .ot-sdk-one.ot-sdk-columns,#onetrust-pc-sdk .ot-sdk-one.ot-sdk-column,#onetrust-pc-sdk .ot-sdk-one.ot-sdk-columns,#ot-sdk-cookie-policy .ot-sdk-one.ot-sdk-column,#ot-sdk-cookie-policy .ot-sdk-one.ot-sdk-columns{width:4.66666666667%}#onetrust-banner-sdk .ot-sdk-two.ot-sdk-columns,#onetrust-pc-sdk .ot-sdk-two.ot-sdk-columns,#ot-sdk-cookie-policy .ot-sdk-two.ot-sdk-columns{width:13.3333333333%}#onetrust-banner-sdk .ot-sdk-three.ot-sdk-columns,#onetrust-pc-sdk .ot-sdk-three.ot-sdk-columns,#ot-sdk-cookie-policy .ot-sdk-three.ot-sdk-columns{width:22%}#onetrust-banner-sdk .ot-sdk-four.ot-sdk-columns,#onetrust-pc-sdk .ot-sdk-four.ot-sdk-columns,#ot-sdk-cookie-policy .ot-sdk-four.ot-sdk-columns{width:30.6666666667%}#onetrust-banner-sdk .ot-sdk-five.ot-sdk-columns,#onetrust-pc-sdk .ot-sdk-five.ot-sdk-columns,#ot-sdk-cookie-policy .ot-sdk-five.ot-sdk-columns{width:39.3333333333%}#onetrust-banner-sdk .ot-sdk-six.ot-sdk-columns,#onetrust-pc-sdk .ot-sdk-six.ot-sdk-columns,#ot-sdk-cookie-policy .ot-sdk-six.ot-sdk-columns{width:48%}#onetrust-banner-sdk .ot-sdk-seven.ot-sdk-columns,#onetrust-pc-sdk .ot-sdk-seven.ot-sdk-columns,#ot-sdk-cookie-policy .ot-sdk-seven.ot-sdk-columns{width:56.6666666667%}#onetrust-banner-sdk .ot-sdk-eight.ot-sdk-columns,#onetrust-pc-sdk .ot-sdk-eight.ot-sdk-columns,#ot-sdk-cookie-policy .ot-sdk-eight.ot-sdk-columns{width:65.3333333333%}#onetrust-banner-sdk .ot-sdk-nine.ot-sdk-columns,#onetrust-pc-sdk .ot-sdk-nine.ot-sdk-columns,#ot-sdk-cookie-policy .ot-sdk-nine.ot-sdk-columns{width:74%}#onetrust-banner-sdk .ot-sdk-ten.ot-sdk-columns,#onetrust-pc-sdk .ot-sdk-ten.ot-sdk-columns,#ot-sdk-cookie-policy .ot-sdk-ten.ot-sdk-columns{width:82.6666666667%}#onetrust-banner-sdk .ot-sdk-eleven.ot-sdk-columns,#onetrust-pc-sdk .ot-sdk-eleven.ot-sdk-columns,#ot-sdk-cookie-policy .ot-sdk-eleven.ot-sdk-columns{width:91.3333333333%}#onetrust-banner-sdk .ot-sdk-twelve.ot-sdk-columns,#onetrust-pc-sdk .ot-sdk-twelve.ot-sdk-columns,#ot-sdk-cookie-policy .ot-sdk-twelve.ot-sdk-columns{width:100%;margin-left:0}#onetrust-banner-sdk .ot-sdk-one-third.ot-sdk-column,#onetrust-pc-sdk .ot-sdk-one-third.ot-sdk-column,#ot-sdk-cookie-policy .ot-sdk-one-third.ot-sdk-column{width:30.6666666667%}#onetrust-banner-sdk .ot-sdk-two-thirds.ot-sdk-column,#onetrust-pc-sdk .ot-sdk-two-thirds.ot-sdk-column,#ot-sdk-cookie-policy .ot-sdk-two-thirds.ot-sdk-column{width:65.3333333333%}#onetrust-banner-sdk .ot-sdk-one-half.ot-sdk-column,#onetrust-pc-sdk .ot-sdk-one-half.ot-sdk-column,#ot-sdk-cookie-policy .ot-sdk-one-half.ot-sdk-column{width:48%}#onetrust-banner-sdk .ot-sdk-offset-by-one.ot-sdk-column,#onetrust-banner-sdk .ot-sdk-offset-by-one.ot-sdk-columns,#onetrust-pc-sdk .ot-sdk-offset-by-one.ot-sdk-column,#onetrust-pc-sdk .ot-sdk-offset-by-one.ot-sdk-columns,#ot-sdk-cookie-policy .ot-sdk-offset-by-one.ot-sdk-column,#ot-sdk-cookie-policy .ot-sdk-offset-by-one.ot-sdk-columns{margin-left:8.66666666667%}#onetrust-banner-sdk .ot-sdk-offset-by-two.ot-sdk-column,#onetrust-banner-sdk .ot-sdk-offset-by-two.ot-sdk-columns,#onetrust-pc-sdk .ot-sdk-offset-by-two.ot-sdk-column,#onetrust-pc-sdk .ot-sdk-offset-by-two.ot-sdk-columns,#ot-sdk-cookie-policy .ot-sdk-offset-by-two.ot-sdk-column,#ot-sdk-cookie-policy .ot-sdk-offset-by-two.ot-sdk-columns{margin-left:17.3333333333%}#onetrust-banner-sdk .ot-sdk-offset-by-three.ot-sdk-column,#onetrust-banner-sdk .ot-sdk-offset-by-three.ot-sdk-columns,#onetrust-pc-sdk .ot-sdk-offset-by-three.ot-sdk-column,#onetrust-pc-sdk .ot-sdk-offset-by-three.ot-sdk-columns,#ot-sdk-cookie-policy .ot-sdk-offset-by-three.ot-sdk-column,#ot-sdk-cookie-policy .ot-sdk-offset-by-three.ot-sdk-columns{margin-left:26%}#onetrust-banner-sdk .ot-sdk-offset-by-four.ot-sdk-column,#onetrust-banner-sdk .ot-sdk-offset-by-four.ot-sdk-columns,#onetrust-pc-sdk .ot-sdk-offset-by-four.ot-sdk-column,#onetrust-pc-sdk .ot-sdk-offset-by-four.ot-sdk-columns,#ot-sdk-cookie-policy .ot-sdk-offset-by-four.ot-sdk-column,#ot-sdk-cookie-policy .ot-sdk-offset-by-four.ot-sdk-columns{margin-left:34.6666666667%}#onetrust-banner-sdk .ot-sdk-offset-by-five.ot-sdk-column,#onetrust-banner-sdk .ot-sdk-offset-by-five.ot-sdk-columns,#onetrust-pc-sdk .ot-sdk-offset-by-five.ot-sdk-column,#onetrust-pc-sdk .ot-sdk-offset-by-five.ot-sdk-columns,#ot-sdk-cookie-policy .ot-sdk-offset-by-five.ot-sdk-column,#ot-sdk-cookie-policy .ot-sdk-offset-by-five.ot-sdk-columns{margin-left:43.3333333333%}#onetrust-banner-sdk .ot-sdk-offset-by-six.ot-sdk-column,#onetrust-banner-sdk .ot-sdk-offset-by-six.ot-sdk-columns,#onetrust-pc-sdk .ot-sdk-offset-by-six.ot-sdk-column,#onetrust-pc-sdk .ot-sdk-offset-by-six.ot-sdk-columns,#ot-sdk-cookie-policy .ot-sdk-offset-by-six.ot-sdk-column,#ot-sdk-cookie-policy .ot-sdk-offset-by-six.ot-sdk-columns{margin-left:52%}#onetrust-banner-sdk .ot-sdk-offset-by-seven.ot-sdk-column,#onetrust-banner-sdk .ot-sdk-offset-by-seven.ot-sdk-columns,#onetrust-pc-sdk .ot-sdk-offset-by-seven.ot-sdk-column,#onetrust-pc-sdk .ot-sdk-offset-by-seven.ot-sdk-columns,#ot-sdk-cookie-policy .ot-sdk-offset-by-seven.ot-sdk-column,#ot-sdk-cookie-policy .ot-sdk-offset-by-seven.ot-sdk-columns{margin-left:60.6666666667%}#onetrust-banner-sdk .ot-sdk-offset-by-eight.ot-sdk-column,#onetrust-banner-sdk .ot-sdk-offset-by-eight.ot-sdk-columns,#onetrust-pc-sdk .ot-sdk-offset-by-eight.ot-sdk-column,#onetrust-pc-sdk .ot-sdk-offset-by-eight.ot-sdk-columns,#ot-sdk-cookie-policy .ot-sdk-offset-by-eight.ot-sdk-column,#ot-sdk-cookie-policy .ot-sdk-offset-by-eight.ot-sdk-columns{margin-left:69.3333333333%}#onetrust-banner-sdk .ot-sdk-offset-by-nine.ot-sdk-column,#onetrust-banner-sdk .ot-sdk-offset-by-nine.ot-sdk-columns,#onetrust-pc-sdk .ot-sdk-offset-by-nine.ot-sdk-column,#onetrust-pc-sdk .ot-sdk-offset-by-nine.ot-sdk-columns,#ot-sdk-cookie-policy .ot-sdk-offset-by-nine.ot-sdk-column,#ot-sdk-cookie-policy .ot-sdk-offset-by-nine.ot-sdk-columns{margin-left:78%}#onetrust-banner-sdk .ot-sdk-offset-by-ten.ot-sdk-column,#onetrust-banner-sdk .ot-sdk-offset-by-ten.ot-sdk-columns,#onetrust-pc-sdk .ot-sdk-offset-by-ten.ot-sdk-column,#onetrust-pc-sdk .ot-sdk-offset-by-ten.ot-sdk-columns,#ot-sdk-cookie-policy .ot-sdk-offset-by-ten.ot-sdk-column,#ot-sdk-cookie-policy .ot-sdk-offset-by-ten.ot-sdk-columns{margin-left:86.6666666667%}#onetrust-banner-sdk .ot-sdk-offset-by-eleven.ot-sdk-column,#onetrust-banner-sdk .ot-sdk-offset-by-eleven.ot-sdk-columns,#onetrust-pc-sdk .ot-sdk-offset-by-eleven.ot-sdk-column,#onetrust-pc-sdk .ot-sdk-offset-by-eleven.ot-sdk-columns,#ot-sdk-cookie-policy .ot-sdk-offset-by-eleven.ot-sdk-column,#ot-sdk-cookie-policy .ot-sdk-offset-by-eleven.ot-sdk-columns{margin-left:95.3333333333%}#onetrust-banner-sdk .ot-sdk-offset-by-one-third.ot-sdk-column,#onetrust-banner-sdk .ot-sdk-offset-by-one-third.ot-sdk-columns,#onetrust-pc-sdk .ot-sdk-offset-by-one-third.ot-sdk-column,#onetrust-pc-sdk .ot-sdk-offset-by-one-third.ot-sdk-columns,#ot-sdk-cookie-policy .ot-sdk-offset-by-one-third.ot-sdk-column,#ot-sdk-cookie-policy .ot-sdk-offset-by-one-third.ot-sdk-columns{margin-left:34.6666666667%}#onetrust-banner-sdk .ot-sdk-offset-by-two-thirds.ot-sdk-column,#onetrust-banner-sdk .ot-sdk-offset-by-two-thirds.ot-sdk-columns,#onetrust-pc-sdk .ot-sdk-offset-by-two-thirds.ot-sdk-column,#onetrust-pc-sdk .ot-sdk-offset-by-two-thirds.ot-sdk-columns,#ot-sdk-cookie-policy .ot-sdk-offset-by-two-thirds.ot-sdk-column,#ot-sdk-cookie-policy .ot-sdk-offset-by-two-thirds.ot-sdk-columns{margin-left:69.3333333333%}#onetrust-banner-sdk .ot-sdk-offset-by-one-half.ot-sdk-column,#onetrust-banner-sdk .ot-sdk-offset-by-one-half.ot-sdk-columns,#onetrust-pc-sdk .ot-sdk-offset-by-one-half.ot-sdk-column,#onetrust-pc-sdk .ot-sdk-offset-by-one-half.ot-sdk-columns,#ot-sdk-cookie-policy .ot-sdk-offset-by-one-half.ot-sdk-column,#ot-sdk-cookie-policy .ot-sdk-offset-by-one-half.ot-sdk-columns{margin-left:52%}}#onetrust-banner-sdk h1,#onetrust-banner-sdk h2,#onetrust-banner-sdk h3,#onetrust-banner-sdk h4,#onetrust-banner-sdk h5,#onetrust-banner-sdk h6,#onetrust-pc-sdk h1,#onetrust-pc-sdk h2,#onetrust-pc-sdk h3,#onetrust-pc-sdk h4,#onetrust-pc-sdk h5,#onetrust-pc-sdk h6,#ot-sdk-cookie-policy h1,#ot-sdk-cookie-policy h2,#ot-sdk-cookie-policy h3,#ot-sdk-cookie-policy h4,#ot-sdk-cookie-policy h5,#ot-sdk-cookie-policy h6{margin-top:0;font-weight:600;font-family:inherit}#onetrust-banner-sdk h1,#onetrust-pc-sdk h1,#ot-sdk-cookie-policy h1{font-size:1.5rem;line-height:1.2}#onetrust-banner-sdk h2,#onetrust-pc-sdk h2,#ot-sdk-cookie-policy h2{font-size:1.5rem;line-height:1.25}#onetrust-banner-sdk h3,#onetrust-pc-sdk h3,#ot-sdk-cookie-policy h3{font-size:1.5rem;line-height:1.3}#onetrust-banner-sdk h4,#onetrust-pc-sdk h4,#ot-sdk-cookie-policy h4{font-size:1.5rem;line-height:1.35}#onetrust-banner-sdk h5,#onetrust-pc-sdk h5,#ot-sdk-cookie-policy h5{font-size:1.5rem;line-height:1.5}#onetrust-banner-sdk h6,#onetrust-pc-sdk h6,#ot-sdk-cookie-policy h6{font-size:1.5rem;line-height:1.6}@media (min-width: 550px){#onetrust-banner-sdk h1,#onetrust-pc-sdk h1,#ot-sdk-cookie-policy h1{font-size:1.5rem}#onetrust-banner-sdk h2,#onetrust-pc-sdk h2,#ot-sdk-cookie-policy h2{font-size:1.5rem}#onetrust-banner-sdk h3,#onetrust-pc-sdk h3,#ot-sdk-cookie-policy h3{font-size:1.5rem}#onetrust-banner-sdk h4,#onetrust-pc-sdk h4,#ot-sdk-cookie-policy h4{font-size:1.5rem}#onetrust-banner-sdk h5,#onetrust-pc-sdk h5,#ot-sdk-cookie-policy h5{font-size:1.5rem}#onetrust-banner-sdk h6,#onetrust-pc-sdk h6,#ot-sdk-cookie-policy h6{font-size:1.5rem}}#onetrust-banner-sdk p,#onetrust-pc-sdk p,#ot-sdk-cookie-policy p{margin:0 0 1em 0;font-family:inherit;line-height:normal}#onetrust-banner-sdk a,#onetrust-pc-sdk a,#ot-sdk-cookie-policy a{color:#565656;text-decoration:underline}#onetrust-banner-sdk a:hover,#onetrust-pc-sdk a:hover,#ot-sdk-cookie-policy a:hover{color:#565656;text-decoration:none}#onetrust-banner-sdk .ot-sdk-button,#onetrust-banner-sdk button,#onetrust-pc-sdk .ot-sdk-button,#onetrust-pc-sdk button,#ot-sdk-cookie-policy .ot-sdk-button,#ot-sdk-cookie-policy button{margin-bottom:1rem;font-family:inherit}#onetrust-banner-sdk .ot-sdk-button,#onetrust-banner-sdk button,#onetrust-banner-sdk input[type=\"submit\"],#onetrust-banner-sdk input[type=\"reset\"],#onetrust-banner-sdk input[type=\"button\"],#onetrust-pc-sdk .ot-sdk-button,#onetrust-pc-sdk button,#onetrust-pc-sdk input[type=\"submit\"],#onetrust-pc-sdk input[type=\"reset\"],#onetrust-pc-sdk input[type=\"button\"],#ot-sdk-cookie-policy .ot-sdk-button,#ot-sdk-cookie-policy button,#ot-sdk-cookie-policy input[type=\"submit\"],#ot-sdk-cookie-policy input[type=\"reset\"],#ot-sdk-cookie-policy input[type=\"button\"]{display:inline-block;height:38px;padding:0 30px;color:#555;text-align:center;font-size:0.9em;font-weight:400;line-height:38px;letter-spacing:0.01em;text-decoration:none;white-space:nowrap;background-color:transparent;border-radius:2px;border:1px solid #bbb;cursor:pointer;box-sizing:border-box}#onetrust-banner-sdk .ot-sdk-button:hover,#onetrust-banner-sdk :not(.ot-leg-btn-container)>button:hover,#onetrust-banner-sdk input[type=\"submit\"]:hover,#onetrust-banner-sdk input[type=\"reset\"]:hover,#onetrust-banner-sdk input[type=\"button\"]:hover,#onetrust-banner-sdk .ot-sdk-button:focus,#onetrust-banner-sdk :not(.ot-leg-btn-container)>button:focus,#onetrust-banner-sdk input[type=\"submit\"]:focus,#onetrust-banner-sdk input[type=\"reset\"]:focus,#onetrust-banner-sdk input[type=\"button\"]:focus,#onetrust-pc-sdk .ot-sdk-button:hover,#onetrust-pc-sdk :not(.ot-leg-btn-container)>button:hover,#onetrust-pc-sdk input[type=\"submit\"]:hover,#onetrust-pc-sdk input[type=\"reset\"]:hover,#onetrust-pc-sdk input[type=\"button\"]:hover,#onetrust-pc-sdk .ot-sdk-button:focus,#onetrust-pc-sdk :not(.ot-leg-btn-container)>button:focus,#onetrust-pc-sdk input[type=\"submit\"]:focus,#onetrust-pc-sdk input[type=\"reset\"]:focus,#onetrust-pc-sdk input[type=\"button\"]:focus,#ot-sdk-cookie-policy .ot-sdk-button:hover,#ot-sdk-cookie-policy :not(.ot-leg-btn-container)>button:hover,#ot-sdk-cookie-policy input[type=\"submit\"]:hover,#ot-sdk-cookie-policy input[type=\"reset\"]:hover,#ot-sdk-cookie-policy input[type=\"button\"]:hover,#ot-sdk-cookie-policy .ot-sdk-button:focus,#ot-sdk-cookie-policy :not(.ot-leg-btn-container)>button:focus,#ot-sdk-cookie-policy input[type=\"submit\"]:focus,#ot-sdk-cookie-policy input[type=\"reset\"]:focus,#ot-sdk-cookie-policy input[type=\"button\"]:focus{color:#333;border-color:#888;opacity:0.7}#onetrust-banner-sdk .ot-sdk-button:focus,#onetrust-banner-sdk :not(.ot-leg-btn-container)>button:focus,#onetrust-banner-sdk input[type=\"submit\"]:focus,#onetrust-banner-sdk input[type=\"reset\"]:focus,#onetrust-banner-sdk input[type=\"button\"]:focus,#onetrust-pc-sdk .ot-sdk-button:focus,#onetrust-pc-sdk :not(.ot-leg-btn-container)>button:focus,#onetrust-pc-sdk input[type=\"submit\"]:focus,#onetrust-pc-sdk input[type=\"reset\"]:focus,#onetrust-pc-sdk input[type=\"button\"]:focus,#ot-sdk-cookie-policy .ot-sdk-button:focus,#ot-sdk-cookie-policy :not(.ot-leg-btn-container)>button:focus,#ot-sdk-cookie-policy input[type=\"submit\"]:focus,#ot-sdk-cookie-policy input[type=\"reset\"]:focus,#ot-sdk-cookie-policy input[type=\"button\"]:focus{outline:2px solid #000}#onetrust-banner-sdk .ot-sdk-button.ot-sdk-button-primary,#onetrust-banner-sdk button.ot-sdk-button-primary,#onetrust-banner-sdk input[type=\"submit\"].ot-sdk-button-primary,#onetrust-banner-sdk input[type=\"reset\"].ot-sdk-button-primary,#onetrust-banner-sdk input[type=\"button\"].ot-sdk-button-primary,#onetrust-pc-sdk .ot-sdk-button.ot-sdk-button-primary,#onetrust-pc-sdk button.ot-sdk-button-primary,#onetrust-pc-sdk input[type=\"submit\"].ot-sdk-button-primary,#onetrust-pc-sdk input[type=\"reset\"].ot-sdk-button-primary,#onetrust-pc-sdk input[type=\"button\"].ot-sdk-button-primary,#ot-sdk-cookie-policy .ot-sdk-button.ot-sdk-button-primary,#ot-sdk-cookie-policy button.ot-sdk-button-primary,#ot-sdk-cookie-policy input[type=\"submit\"].ot-sdk-button-primary,#ot-sdk-cookie-policy input[type=\"reset\"].ot-sdk-button-primary,#ot-sdk-cookie-policy input[type=\"button\"].ot-sdk-button-primary{color:#fff;background-color:#33c3f0;border-color:#33c3f0}#onetrust-banner-sdk .ot-sdk-button.ot-sdk-button-primary:hover,#onetrust-banner-sdk button.ot-sdk-button-primary:hover,#onetrust-banner-sdk input[type=\"submit\"].ot-sdk-button-primary:hover,#onetrust-banner-sdk input[type=\"reset\"].ot-sdk-button-primary:hover,#onetrust-banner-sdk input[type=\"button\"].ot-sdk-button-primary:hover,#onetrust-banner-sdk .ot-sdk-button.ot-sdk-button-primary:focus,#onetrust-banner-sdk button.ot-sdk-button-primary:focus,#onetrust-banner-sdk input[type=\"submit\"].ot-sdk-button-primary:focus,#onetrust-banner-sdk input[type=\"reset\"].ot-sdk-button-primary:focus,#onetrust-banner-sdk input[type=\"button\"].ot-sdk-button-primary:focus,#onetrust-pc-sdk .ot-sdk-button.ot-sdk-button-primary:hover,#onetrust-pc-sdk button.ot-sdk-button-primary:hover,#onetrust-pc-sdk input[type=\"submit\"].ot-sdk-button-primary:hover,#onetrust-pc-sdk input[type=\"reset\"].ot-sdk-button-primary:hover,#onetrust-pc-sdk input[type=\"button\"].ot-sdk-button-primary:hover,#onetrust-pc-sdk .ot-sdk-button.ot-sdk-button-primary:focus,#onetrust-pc-sdk button.ot-sdk-button-primary:focus,#onetrust-pc-sdk input[type=\"submit\"].ot-sdk-button-primary:focus,#onetrust-pc-sdk input[type=\"reset\"].ot-sdk-button-primary:focus,#onetrust-pc-sdk input[type=\"button\"].ot-sdk-button-primary:focus,#ot-sdk-cookie-policy .ot-sdk-button.ot-sdk-button-primary:hover,#ot-sdk-cookie-policy button.ot-sdk-button-primary:hover,#ot-sdk-cookie-policy input[type=\"submit\"].ot-sdk-button-primary:hover,#ot-sdk-cookie-policy input[type=\"reset\"].ot-sdk-button-primary:hover,#ot-sdk-cookie-policy input[type=\"button\"].ot-sdk-button-primary:hover,#ot-sdk-cookie-policy .ot-sdk-button.ot-sdk-button-primary:focus,#ot-sdk-cookie-policy button.ot-sdk-button-primary:focus,#ot-sdk-cookie-policy input[type=\"submit\"].ot-sdk-button-primary:focus,#ot-sdk-cookie-policy input[type=\"reset\"].ot-sdk-button-primary:focus,#ot-sdk-cookie-policy input[type=\"button\"].ot-sdk-button-primary:focus{color:#fff;background-color:#1eaedb;border-color:#1eaedb}#onetrust-banner-sdk input[type=\"email\"],#onetrust-banner-sdk input[type=\"number\"],#onetrust-banner-sdk input[type=\"search\"],#onetrust-banner-sdk input[type=\"text\"],#onetrust-banner-sdk input[type=\"tel\"],#onetrust-banner-sdk input[type=\"url\"],#onetrust-banner-sdk input[type=\"password\"],#onetrust-banner-sdk textarea,#onetrust-banner-sdk select,#onetrust-pc-sdk input[type=\"email\"],#onetrust-pc-sdk input[type=\"number\"],#onetrust-pc-sdk input[type=\"search\"],#onetrust-pc-sdk input[type=\"text\"],#onetrust-pc-sdk input[type=\"tel\"],#onetrust-pc-sdk input[type=\"url\"],#onetrust-pc-sdk input[type=\"password\"],#onetrust-pc-sdk textarea,#onetrust-pc-sdk select,#ot-sdk-cookie-policy input[type=\"email\"],#ot-sdk-cookie-policy input[type=\"number\"],#ot-sdk-cookie-policy input[type=\"search\"],#ot-sdk-cookie-policy input[type=\"text\"],#ot-sdk-cookie-policy input[type=\"tel\"],#ot-sdk-cookie-policy input[type=\"url\"],#ot-sdk-cookie-policy input[type=\"password\"],#ot-sdk-cookie-policy textarea,#ot-sdk-cookie-policy select{height:38px;padding:6px 10px;background-color:#fff;border:1px solid #d1d1d1;border-radius:4px;box-shadow:none;box-sizing:border-box}#onetrust-banner-sdk input[type=\"email\"],#onetrust-banner-sdk input[type=\"number\"],#onetrust-banner-sdk input[type=\"search\"],#onetrust-banner-sdk input[type=\"text\"],#onetrust-banner-sdk input[type=\"tel\"],#onetrust-banner-sdk input[type=\"url\"],#onetrust-banner-sdk input[type=\"password\"],#onetrust-banner-sdk textarea,#onetrust-pc-sdk input[type=\"email\"],#onetrust-pc-sdk input[type=\"number\"],#onetrust-pc-sdk input[type=\"search\"],#onetrust-pc-sdk input[type=\"text\"],#onetrust-pc-sdk input[type=\"tel\"],#onetrust-pc-sdk input[type=\"url\"],#onetrust-pc-sdk input[type=\"password\"],#onetrust-pc-sdk textarea,#ot-sdk-cookie-policy input[type=\"email\"],#ot-sdk-cookie-policy input[type=\"number\"],#ot-sdk-cookie-policy input[type=\"search\"],#ot-sdk-cookie-policy input[type=\"text\"],#ot-sdk-cookie-policy input[type=\"tel\"],#ot-sdk-cookie-policy input[type=\"url\"],#ot-sdk-cookie-policy input[type=\"password\"],#ot-sdk-cookie-policy textarea{-webkit-appearance:none;-moz-appearance:none;appearance:none}#onetrust-banner-sdk textarea,#onetrust-pc-sdk textarea,#ot-sdk-cookie-policy textarea{min-height:65px;padding-top:6px;padding-bottom:6px}#onetrust-banner-sdk input[type=\"email\"]:focus,#onetrust-banner-sdk input[type=\"number\"]:focus,#onetrust-banner-sdk input[type=\"search\"]:focus,#onetrust-banner-sdk input[type=\"text\"]:focus,#onetrust-banner-sdk input[type=\"tel\"]:focus,#onetrust-banner-sdk input[type=\"url\"]:focus,#onetrust-banner-sdk input[type=\"password\"]:focus,#onetrust-banner-sdk textarea:focus,#onetrust-banner-sdk select:focus,#onetrust-pc-sdk input[type=\"email\"]:focus,#onetrust-pc-sdk input[type=\"number\"]:focus,#onetrust-pc-sdk input[type=\"search\"]:focus,#onetrust-pc-sdk input[type=\"text\"]:focus,#onetrust-pc-sdk input[type=\"tel\"]:focus,#onetrust-pc-sdk input[type=\"url\"]:focus,#onetrust-pc-sdk input[type=\"password\"]:focus,#onetrust-pc-sdk textarea:focus,#onetrust-pc-sdk select:focus,#ot-sdk-cookie-policy input[type=\"email\"]:focus,#ot-sdk-cookie-policy input[type=\"number\"]:focus,#ot-sdk-cookie-policy input[type=\"search\"]:focus,#ot-sdk-cookie-policy input[type=\"text\"]:focus,#ot-sdk-cookie-policy input[type=\"tel\"]:focus,#ot-sdk-cookie-policy input[type=\"url\"]:focus,#ot-sdk-cookie-policy input[type=\"password\"]:focus,#ot-sdk-cookie-policy textarea:focus,#ot-sdk-cookie-policy select:focus{border:1px solid #000;outline:0}#onetrust-banner-sdk label,#onetrust-banner-sdk legend,#onetrust-pc-sdk label,#onetrust-pc-sdk legend,#ot-sdk-cookie-policy label,#ot-sdk-cookie-policy legend{display:block;margin-bottom:0.5rem;font-weight:600}#onetrust-banner-sdk fieldset,#onetrust-pc-sdk fieldset,#ot-sdk-cookie-policy fieldset{padding:0;border-width:0}#onetrust-banner-sdk input[type=\"checkbox\"],#onetrust-banner-sdk input[type=\"radio\"],#onetrust-pc-sdk input[type=\"checkbox\"],#onetrust-pc-sdk input[type=\"radio\"],#ot-sdk-cookie-policy input[type=\"checkbox\"],#ot-sdk-cookie-policy input[type=\"radio\"]{display:inline}#onetrust-banner-sdk label>.label-body,#onetrust-pc-sdk label>.label-body,#ot-sdk-cookie-policy label>.label-body{display:inline-block;margin-left:0.5rem;font-weight:normal}#onetrust-banner-sdk ul,#onetrust-pc-sdk ul,#ot-sdk-cookie-policy ul{list-style:circle inside}#onetrust-banner-sdk ol,#onetrust-pc-sdk ol,#ot-sdk-cookie-policy ol{list-style:decimal inside}#onetrust-banner-sdk ol,#onetrust-banner-sdk ul,#onetrust-pc-sdk ol,#onetrust-pc-sdk ul,#ot-sdk-cookie-policy ol,#ot-sdk-cookie-policy ul{padding-left:0;margin-top:0}#onetrust-banner-sdk ul ul,#onetrust-banner-sdk ul ol,#onetrust-banner-sdk ol ol,#onetrust-banner-sdk ol ul,#onetrust-pc-sdk ul ul,#onetrust-pc-sdk ul ol,#onetrust-pc-sdk ol ol,#onetrust-pc-sdk ol ul,#ot-sdk-cookie-policy ul ul,#ot-sdk-cookie-policy ul ol,#ot-sdk-cookie-policy ol ol,#ot-sdk-cookie-policy ol ul{margin:1.5rem 0 1.5rem 3rem;font-size:90%}#onetrust-banner-sdk li,#onetrust-pc-sdk li,#ot-sdk-cookie-policy li{margin-bottom:1rem}#onetrust-banner-sdk code,#onetrust-pc-sdk code,#ot-sdk-cookie-policy code{padding:0.2rem 0.5rem;margin:0 0.2rem;font-size:90%;white-space:nowrap;background:#f1f1f1;border:1px solid #e1e1e1;border-radius:4px}#onetrust-banner-sdk pre>code,#onetrust-pc-sdk pre>code,#ot-sdk-cookie-policy pre>code{display:block;padding:1rem 1.5rem;white-space:pre}#onetrust-banner-sdk th,#onetrust-banner-sdk td,#onetrust-pc-sdk th,#onetrust-pc-sdk td,#ot-sdk-cookie-policy th,#ot-sdk-cookie-policy td{padding:12px 15px;text-align:left;border-bottom:1px solid #e1e1e1}#onetrust-banner-sdk .ot-sdk-u-full-width,#onetrust-pc-sdk .ot-sdk-u-full-width,#ot-sdk-cookie-policy .ot-sdk-u-full-width{width:100%;box-sizing:border-box}#onetrust-banner-sdk .ot-sdk-u-max-full-width,#onetrust-pc-sdk .ot-sdk-u-max-full-width,#ot-sdk-cookie-policy .ot-sdk-u-max-full-width{max-width:100%;box-sizing:border-box}#onetrust-banner-sdk .ot-sdk-u-pull-right,#onetrust-pc-sdk .ot-sdk-u-pull-right,#ot-sdk-cookie-policy .ot-sdk-u-pull-right{float:right}#onetrust-banner-sdk .ot-sdk-u-pull-left,#onetrust-pc-sdk .ot-sdk-u-pull-left,#ot-sdk-cookie-policy .ot-sdk-u-pull-left{float:left}#onetrust-banner-sdk hr,#onetrust-pc-sdk hr,#ot-sdk-cookie-policy hr{margin-top:3rem;margin-bottom:3.5rem;border-width:0;border-top:1px solid #e1e1e1}#onetrust-banner-sdk .ot-sdk-container:after,#onetrust-banner-sdk .ot-sdk-row:after,#onetrust-banner-sdk .ot-sdk-u-cf,#onetrust-pc-sdk .ot-sdk-container:after,#onetrust-pc-sdk .ot-sdk-row:after,#onetrust-pc-sdk .ot-sdk-u-cf,#ot-sdk-cookie-policy .ot-sdk-container:after,#ot-sdk-cookie-policy .ot-sdk-row:after,#ot-sdk-cookie-policy .ot-sdk-u-cf{content:\"\";display:table;clear:both}#onetrust-banner-sdk .ot-sdk-row,#onetrust-pc-sdk .ot-sdk-row,#ot-sdk-cookie-policy .ot-sdk-row{margin:0;max-width:none;display:block}\n",
      "#onetrust-banner-sdk{box-shadow:0 0 18px rgba(0,0,0,.2)}#onetrust-banner-sdk.otFlat{position:fixed;z-index:2147483645;bottom:0;right:0;left:0;background-color:#fff;max-height:90%;overflow-x:hidden;overflow-y:auto}#onetrust-banner-sdk.otFlat.top{top:0px;bottom:auto}#onetrust-banner-sdk.otRelFont{font-size:1rem}#onetrust-banner-sdk>.ot-sdk-container{overflow:hidden}#onetrust-banner-sdk::-webkit-scrollbar{width:11px}#onetrust-banner-sdk::-webkit-scrollbar-thumb{border-radius:10px;background:#c1c1c1}#onetrust-banner-sdk{scrollbar-arrow-color:#c1c1c1;scrollbar-darkshadow-color:#c1c1c1;scrollbar-face-color:#c1c1c1;scrollbar-shadow-color:#c1c1c1}#onetrust-banner-sdk #onetrust-policy{margin:1.25em 0 .625em 2em;overflow:hidden}#onetrust-banner-sdk #onetrust-policy .ot-gv-list-handler{float:left;font-size:.82em;padding:0;margin-bottom:0;border:0;line-height:normal;height:auto;width:auto}#onetrust-banner-sdk #onetrust-policy-title{font-size:1.2em;line-height:1.3;margin-bottom:10px}#onetrust-banner-sdk #onetrust-policy-text{clear:both;text-align:left;font-size:.88em;line-height:1.4}#onetrust-banner-sdk #onetrust-policy-text *{font-size:inherit;line-height:inherit}#onetrust-banner-sdk #onetrust-policy-text a{font-weight:bold;margin-left:5px}#onetrust-banner-sdk #onetrust-policy-title,#onetrust-banner-sdk #onetrust-policy-text{color:dimgray;float:left}#onetrust-banner-sdk #onetrust-button-group-parent{min-height:1px;text-align:center}#onetrust-banner-sdk #onetrust-button-group{display:inline-block}#onetrust-banner-sdk #onetrust-accept-btn-handler,#onetrust-banner-sdk #onetrust-reject-all-handler,#onetrust-banner-sdk #onetrust-pc-btn-handler{background-color:#68b631;color:#fff;border-color:#68b631;margin-right:1em;min-width:125px;height:auto;white-space:normal;word-break:break-word;word-wrap:break-word;padding:12px 10px;line-height:1.2;font-size:.813em;font-weight:600}#onetrust-banner-sdk #onetrust-pc-btn-handler.cookie-setting-link{background-color:#fff;border:none;color:#68b631;text-decoration:underline;padding-left:0;padding-right:0}#onetrust-banner-sdk .onetrust-close-btn-ui{width:44px;height:44px;background-size:12px;border:none;position:relative;margin:auto;padding:0}#onetrust-banner-sdk .banner_logo{display:none}#onetrust-banner-sdk .ot-b-addl-desc{clear:both;float:left;display:block}#onetrust-banner-sdk #banner-options{float:left;display:table;margin-right:0;margin-left:1em;width:calc(100% - 1em)}#onetrust-banner-sdk .banner-option-input{cursor:pointer;width:auto;height:auto;border:none;padding:0;padding-right:3px;margin:0 0 10px;font-size:.82em;line-height:1.4}#onetrust-banner-sdk .banner-option-input *{pointer-events:none;font-size:inherit;line-height:inherit}#onetrust-banner-sdk .banner-option-input[aria-expanded=true]~.banner-option-details{display:block;height:auto}#onetrust-banner-sdk .banner-option-input[aria-expanded=true] .ot-arrow-container{transform:rotate(90deg)}#onetrust-banner-sdk .banner-option{margin-bottom:12px;margin-left:0;border:none;float:left;padding:0}#onetrust-banner-sdk .banner-option:first-child{padding-left:2px}#onetrust-banner-sdk .banner-option:not(:first-child){padding:0;border:none}#onetrust-banner-sdk .banner-option-header{cursor:pointer;display:inline-block}#onetrust-banner-sdk .banner-option-header :first-child{color:dimgray;font-weight:bold;float:left}#onetrust-banner-sdk .banner-option-header .ot-arrow-container{display:inline-block;border-top:6px solid transparent;border-bottom:6px solid transparent;border-left:6px solid dimgray;margin-left:10px;vertical-align:middle}#onetrust-banner-sdk .banner-option-details{display:none;font-size:.83em;line-height:1.5;padding:10px 0px 5px 10px;margin-right:10px;height:0px}#onetrust-banner-sdk .banner-option-details *{font-size:inherit;line-height:inherit;color:dimgray}#onetrust-banner-sdk .ot-arrow-container,#onetrust-banner-sdk .banner-option-details{transition:all 300ms ease-in 0s;-webkit-transition:all 300ms ease-in 0s;-moz-transition:all 300ms ease-in 0s;-o-transition:all 300ms ease-in 0s}#onetrust-banner-sdk .ot-dpd-container{float:left}#onetrust-banner-sdk .ot-dpd-title{margin-bottom:10px}#onetrust-banner-sdk .ot-dpd-title,#onetrust-banner-sdk .ot-dpd-desc{font-size:.88em;line-height:1.4;color:dimgray}#onetrust-banner-sdk .ot-dpd-title *,#onetrust-banner-sdk .ot-dpd-desc *{font-size:inherit;line-height:inherit}#onetrust-banner-sdk.ot-iab-2 #onetrust-policy-text *{margin-bottom:0}#onetrust-banner-sdk.ot-iab-2 .onetrust-vendors-list-handler{display:block;margin-left:0;margin-top:5px;clear:both;margin-bottom:0;padding:0;border:0;height:auto;width:auto}#onetrust-banner-sdk.ot-iab-2 #onetrust-button-group button{display:block}#onetrust-banner-sdk.ot-close-btn-link{padding-top:25px}#onetrust-banner-sdk.ot-close-btn-link #onetrust-close-btn-container{top:15px;transform:none;right:15px}#onetrust-banner-sdk.ot-close-btn-link #onetrust-close-btn-container button{padding:0;white-space:pre-wrap;border:none;height:auto;line-height:1.5;text-decoration:underline;font-size:.69em}#onetrust-banner-sdk #onetrust-policy-text,#onetrust-banner-sdk .ot-dpd-desc,#onetrust-banner-sdk .ot-b-addl-desc{font-size:.813em;line-height:1.5}#onetrust-banner-sdk .ot-dpd-desc{margin-bottom:10px}#onetrust-banner-sdk .ot-dpd-desc>.ot-b-addl-desc{margin-top:10px;margin-bottom:10px;font-size:1em}@media only screen and (max-width: 425px){#onetrust-banner-sdk #onetrust-close-btn-container{position:absolute;top:10px;right:10px}#onetrust-banner-sdk #onetrust-policy{margin-left:0}#onetrust-banner-sdk #onetrust-button-group{display:block}#onetrust-banner-sdk #onetrust-accept-btn-handler,#onetrust-banner-sdk #onetrust-reject-all-handler,#onetrust-banner-sdk #onetrust-pc-btn-handler{width:100%}#onetrust-banner-sdk .onetrust-close-btn-ui{top:auto;transform:none}#onetrust-banner-sdk #onetrust-policy-title{display:inline;float:none}#onetrust-banner-sdk #banner-options{margin:0;padding:0;width:100%}}@media only screen and (min-width: 426px)and (max-width: 896px){#onetrust-banner-sdk #onetrust-close-btn-container{position:absolute;top:0;right:0}#onetrust-banner-sdk #onetrust-policy{margin-left:1em;margin-right:1em}#onetrust-banner-sdk .onetrust-close-btn-ui{top:10px;right:10px}#onetrust-banner-sdk:not(.ot-iab-2) #onetrust-group-container{width:95%}#onetrust-banner-sdk.ot-iab-2 #onetrust-group-container{width:100%}#onetrust-banner-sdk #onetrust-button-group-parent{width:100%;position:relative;margin-left:0}#onetrust-banner-sdk #onetrust-button-group button{display:inline-block}#onetrust-banner-sdk #onetrust-button-group{margin-right:0;text-align:center}#onetrust-banner-sdk .has-reject-all-button #onetrust-pc-btn-handler{float:left}#onetrust-banner-sdk .has-reject-all-button #onetrust-reject-all-handler,#onetrust-banner-sdk .has-reject-all-button #onetrust-accept-btn-handler{float:right}#onetrust-banner-sdk .has-reject-all-button #onetrust-button-group{width:calc(100% - 2em);margin-right:0}#onetrust-banner-sdk .has-reject-all-button #onetrust-pc-btn-handler.cookie-setting-link{padding-left:0px;text-align:left}#onetrust-banner-sdk.ot-buttons-fw .ot-sdk-three button{width:100%;text-align:center}#onetrust-banner-sdk.ot-buttons-fw #onetrust-button-group-parent button{float:none}#onetrust-banner-sdk.ot-buttons-fw #onetrust-pc-btn-handler.cookie-setting-link{text-align:center}}@media only screen and (min-width: 550px){#onetrust-banner-sdk .banner-option:not(:first-child){border-left:1px solid #d8d8d8;padding-left:25px}}@media only screen and (min-width: 425px)and (max-width: 550px){#onetrust-banner-sdk.ot-iab-2 #onetrust-button-group,#onetrust-banner-sdk.ot-iab-2 #onetrust-policy,#onetrust-banner-sdk.ot-iab-2 .banner-option{width:100%}}@media only screen and (min-width: 769px){#onetrust-banner-sdk #onetrust-button-group{margin-right:30%}#onetrust-banner-sdk #banner-options{margin-left:2em;margin-right:5em;margin-bottom:1.25em;width:calc(100% - 7em)}}@media only screen and (min-width: 897px)and (max-width: 1023px){#onetrust-banner-sdk.vertical-align-content #onetrust-button-group-parent{position:absolute;top:50%;left:75%;transform:translateY(-50%)}#onetrust-banner-sdk #onetrust-close-btn-container{top:50%;margin:auto;transform:translate(-50%, -50%);position:absolute;padding:0;right:0}#onetrust-banner-sdk #onetrust-close-btn-container button{position:relative;margin:0;right:-22px;top:2px}}@media only screen and (min-width: 1024px){#onetrust-banner-sdk #onetrust-close-btn-container{top:50%;margin:auto;transform:translate(-50%, -50%);position:absolute;right:0}#onetrust-banner-sdk #onetrust-close-btn-container button{right:-12px}#onetrust-banner-sdk #onetrust-policy{margin-left:2em}#onetrust-banner-sdk.vertical-align-content #onetrust-button-group-parent{position:absolute;top:50%;left:60%;transform:translateY(-50%)}#onetrust-banner-sdk.ot-iab-2 #onetrust-policy-title{width:50%}#onetrust-banner-sdk.ot-iab-2 #onetrust-policy-text,#onetrust-banner-sdk.ot-iab-2 :not(.ot-dpd-desc)>.ot-b-addl-desc{margin-bottom:1em;width:50%;border-right:1px solid #d8d8d8;padding-right:1rem}#onetrust-banner-sdk.ot-iab-2 #onetrust-policy-text{margin-bottom:0;padding-bottom:1em}#onetrust-banner-sdk.ot-iab-2 :not(.ot-dpd-desc)>.ot-b-addl-desc{margin-bottom:0;padding-bottom:1em}#onetrust-banner-sdk.ot-iab-2 .ot-dpd-container{width:45%;padding-left:1rem;display:inline-block;float:none}#onetrust-banner-sdk.ot-iab-2 .ot-dpd-title{line-height:1.7}#onetrust-banner-sdk.ot-iab-2 #onetrust-button-group-parent{left:auto;right:4%;margin-left:0}#onetrust-banner-sdk.ot-iab-2 #onetrust-button-group button{display:block}#onetrust-banner-sdk:not(.ot-iab-2) #onetrust-button-group-parent{margin:auto;width:30%}#onetrust-banner-sdk:not(.ot-iab-2) #onetrust-group-container{width:60%}#onetrust-banner-sdk #onetrust-button-group{margin-right:auto}#onetrust-banner-sdk #onetrust-accept-btn-handler,#onetrust-banner-sdk #onetrust-reject-all-handler,#onetrust-banner-sdk #onetrust-pc-btn-handler{margin-top:1em}}@media only screen and (min-width: 890px){#onetrust-banner-sdk.ot-buttons-fw:not(.ot-iab-2) #onetrust-button-group-parent{padding-left:3%;padding-right:4%;margin-left:0}#onetrust-banner-sdk.ot-buttons-fw:not(.ot-iab-2) #onetrust-button-group{margin-right:0;margin-top:1.25em;width:100%}#onetrust-banner-sdk.ot-buttons-fw:not(.ot-iab-2) #onetrust-button-group button{width:100%;margin-bottom:5px;margin-top:5px}#onetrust-banner-sdk.ot-buttons-fw:not(.ot-iab-2) #onetrust-button-group button:last-of-type{margin-bottom:20px}}@media only screen and (min-width: 1280px){#onetrust-banner-sdk:not(.ot-iab-2) #onetrust-group-container{width:55%}#onetrust-banner-sdk:not(.ot-iab-2) #onetrust-button-group-parent{width:44%;padding-left:2%;padding-right:2%}#onetrust-banner-sdk:not(.ot-iab-2).vertical-align-content #onetrust-button-group-parent{position:absolute;left:55%}}\n",
      "        #onetrust-consent-sdk #onetrust-banner-sdk {background-color: #FFFFFF;}\n",
      "            #onetrust-consent-sdk #onetrust-policy-title,\n",
      "                    #onetrust-consent-sdk #onetrust-policy-text,\n",
      "                    #onetrust-consent-sdk .ot-b-addl-desc,\n",
      "                    #onetrust-consent-sdk .ot-dpd-desc,\n",
      "                    #onetrust-consent-sdk .ot-dpd-title,\n",
      "                    #onetrust-consent-sdk #onetrust-policy-text *:not(.onetrust-vendors-list-handler),\n",
      "                    #onetrust-consent-sdk .ot-dpd-desc *:not(.onetrust-vendors-list-handler),\n",
      "                    #onetrust-consent-sdk #onetrust-banner-sdk #banner-options *,\n",
      "                    #onetrust-banner-sdk .ot-cat-header {\n",
      "                        color: #000000;\n",
      "                    }\n",
      "            #onetrust-consent-sdk #onetrust-banner-sdk .banner-option-details {\n",
      "                    background-color: #E5E5E5;}\n",
      "             #onetrust-consent-sdk #onetrust-banner-sdk a[href],\n",
      "                    #onetrust-consent-sdk #onetrust-banner-sdk a[href] font,\n",
      "                    #onetrust-consent-sdk #onetrust-banner-sdk .ot-link-btn\n",
      "                        {\n",
      "                            color: #0033BB;\n",
      "                        }#onetrust-consent-sdk #onetrust-accept-btn-handler,\n",
      "                         #onetrust-banner-sdk #onetrust-reject-all-handler {\n",
      "                            background-color: #000000;border-color: #000000;\n",
      "                            color: #FFFFFF;\n",
      "                        }\n",
      "            #onetrust-consent-sdk #onetrust-pc-btn-handler,\n",
      "            #onetrust-consent-sdk #onetrust-pc-btn-handler.cookie-setting-link {\n",
      "                color: #0033BB; border-color: #0033BB;\n",
      "                background-color: \n",
      "                #FFFFFF;\n",
      "            }/* H1 header */\n",
      "#onetrust-consent-sdk #onetrust-policy-title {\n",
      "font-size: 20px;\n",
      "line-height: 24px;\n",
      "}\n",
      "/* H2 header */\n",
      "#onetrust-banner-sdk.ot-iab-2 .ot-dpd-title {\n",
      "font-size: 12px;\n",
      "line-height: 16px;\n",
      "}\n",
      "/* p text */\n",
      "#onetrust-consent-sdk .ot-dpd-desc {\n",
      "font-size: 12px;\n",
      "line-height: 16px;\n",
      "}\n",
      "/* yellow border */\n",
      "#onetrust-consent-sdk #onetrust-banner-sdk {\n",
      "border-top: 8px solid #F5DF2D;\n",
      "}\n",
      "\n",
      "\n",
      "/* cookie policy link */ \n",
      "#onetrust-consent-sdk #onetrust-banner-sdk a[href] {\n",
      "text-decoration: none;\n",
      "font-weight: normal;\n",
      "}\n",
      "#onetrust-consent-sdk #onetrust-banner-sdk a[href]:hover {\n",
      "text-decoration: underline;\n",
      "}\n",
      "\n",
      "#onetrust-banner-sdk.ot-iab-2 #onetrust-policy-text { \n",
      "border-right: none;\n",
      "font-size: 12px;\n",
      "line-height: 16px;\n",
      "font-weight: normal;\n",
      "}\n",
      "\n",
      "/*  buttons */ \n",
      "#onetrust-banner-sdk.ot-iab-2 #onetrust-button-group button {\n",
      "letter-spacing: .06em;\n",
      "font-size: .875em;\n",
      "font-weight: normal;\n",
      "width: 250px;\n",
      "height: 44px;\n",
      "margin-top: 10px;\n",
      "}\n",
      "/* vendor link */\n",
      "#onetrust-consent-sdk #onetrust-banner-sdk .ot-link-btn {\n",
      "font-weight: normal;\n",
      "font-size: 12px;\n",
      "line-height: 16px;\n",
      "}\n",
      "#onetrust-consent-sdk #onetrust-banner-sdk .ot-link-btn:hover {\n",
      "text-decoration: underline;\n",
      "opacity: 1;\n",
      "}\n",
      "#onetrust-consent-sdk #onetrust-pc-sdk .ot-pc-footer .ot-btn-container button {\n",
      "letter-spacing: .06em;\n",
      "font-size: .875em;\n",
      "font-weight: normal;\n",
      "}\n",
      "\n",
      "/* more options button*/\n",
      "#onetrust-consent-sdk #onetrust-pc-btn-handler, #onetrust-consent-sdk #onetrust-pc-btn-handler.cookie-setting-link {\n",
      "text-decoration: none;\n",
      "font-weight: normal;\n",
      "}\n",
      "#onetrust-consent-sdk #onetrust-pc-btn-handler, #onetrust-consent-sdk #onetrust-pc-btn-handler.cookie-setting-link:hover {\n",
      "text-decoration: underline;\n",
      "opacity: 1;\n",
      "}\n",
      "\n",
      "/* override spaceing of button groups for ipad */ \n",
      "#onetrust-banner-sdk.ot-iab-2 #onetrust-button-group-parent {\n",
      "left: auto;\n",
      "}\n",
      "\n",
      "/* media specifici css */\n",
      "\n",
      "@media (min-width: 550px) {\n",
      "/* text content */\n",
      "#onetrust-banner-sdk .ot-sdk-ten.ot-sdk-columns, #onetrust-pc-sdk .ot-sdk-ten.ot-sdk-columns, #ot-sdk-cookie-policy .ot-sdk-ten.ot-sdk-columns {\n",
      "    width: 70%;\n",
      "}\n",
      "/* button group parent */\n",
      "#onetrust-banner-sdk .ot-sdk-two.ot-sdk-columns, #onetrust-pc-sdk .ot-sdk-two.ot-sdk-columns, #ot-sdk-cookie-policy .ot-sdk-two.ot-sdk-columns {\n",
      "    width: 30%;\n",
      "}\n",
      "/* button group margin top */ \n",
      "#onetrust-banner-sdk #onetrust-button-group {\n",
      "    margin-top: 10px;\n",
      "}\n",
      "}\n",
      "\n",
      "@media only screen and (max-width: 425px) {\n",
      "#onetrust-banner-sdk.ot-iab-2 #onetrust-button-group button {\n",
      "    width: 100%;\n",
      "    height: auto;\n",
      "}\n",
      "}\n",
      "\n",
      ".ot-sdk-cookie-policy{font-family:inherit;font-size:16px}.ot-sdk-cookie-policy.otRelFont{font-size:1rem}.ot-sdk-cookie-policy h3,.ot-sdk-cookie-policy h4,.ot-sdk-cookie-policy h6,.ot-sdk-cookie-policy p,.ot-sdk-cookie-policy li,.ot-sdk-cookie-policy a,.ot-sdk-cookie-policy th,.ot-sdk-cookie-policy #cookie-policy-description,.ot-sdk-cookie-policy .ot-sdk-cookie-policy-group,.ot-sdk-cookie-policy #cookie-policy-title{color:dimgray}.ot-sdk-cookie-policy #cookie-policy-description{margin-bottom:1em}.ot-sdk-cookie-policy h4{font-size:1.2em}.ot-sdk-cookie-policy h6{font-size:1em;margin-top:2em}.ot-sdk-cookie-policy th{min-width:75px}.ot-sdk-cookie-policy a,.ot-sdk-cookie-policy a:hover{background:#fff}.ot-sdk-cookie-policy thead{background-color:#f6f6f4;font-weight:bold}.ot-sdk-cookie-policy .ot-mobile-border{display:none}.ot-sdk-cookie-policy section{margin-bottom:2em}.ot-sdk-cookie-policy table{border-collapse:inherit}#ot-sdk-cookie-policy-v2.ot-sdk-cookie-policy{font-family:inherit;font-size:1rem}#ot-sdk-cookie-policy-v2.ot-sdk-cookie-policy h3,#ot-sdk-cookie-policy-v2.ot-sdk-cookie-policy h4,#ot-sdk-cookie-policy-v2.ot-sdk-cookie-policy h6,#ot-sdk-cookie-policy-v2.ot-sdk-cookie-policy p,#ot-sdk-cookie-policy-v2.ot-sdk-cookie-policy li,#ot-sdk-cookie-policy-v2.ot-sdk-cookie-policy a,#ot-sdk-cookie-policy-v2.ot-sdk-cookie-policy th,#ot-sdk-cookie-policy-v2.ot-sdk-cookie-policy #cookie-policy-description,#ot-sdk-cookie-policy-v2.ot-sdk-cookie-policy .ot-sdk-cookie-policy-group,#ot-sdk-cookie-policy-v2.ot-sdk-cookie-policy #cookie-policy-title{color:dimgray}#ot-sdk-cookie-policy-v2.ot-sdk-cookie-policy #cookie-policy-description{margin-bottom:1em}#ot-sdk-cookie-policy-v2.ot-sdk-cookie-policy .ot-sdk-subgroup{margin-left:1.5em}#ot-sdk-cookie-policy-v2.ot-sdk-cookie-policy #cookie-policy-description,#ot-sdk-cookie-policy-v2.ot-sdk-cookie-policy .ot-sdk-cookie-policy-group-desc,#ot-sdk-cookie-policy-v2.ot-sdk-cookie-policy .ot-table-header,#ot-sdk-cookie-policy-v2.ot-sdk-cookie-policy a,#ot-sdk-cookie-policy-v2.ot-sdk-cookie-policy span,#ot-sdk-cookie-policy-v2.ot-sdk-cookie-policy td{font-size:.9em}#ot-sdk-cookie-policy-v2.ot-sdk-cookie-policy td span,#ot-sdk-cookie-policy-v2.ot-sdk-cookie-policy td a{font-size:inherit}#ot-sdk-cookie-policy-v2.ot-sdk-cookie-policy .ot-sdk-cookie-policy-group{font-size:1em;margin-bottom:.6em}#ot-sdk-cookie-policy-v2.ot-sdk-cookie-policy .ot-sdk-cookie-policy-title{margin-bottom:1.2em}#ot-sdk-cookie-policy-v2.ot-sdk-cookie-policy>section{margin-bottom:1em}#ot-sdk-cookie-policy-v2.ot-sdk-cookie-policy th{min-width:75px}#ot-sdk-cookie-policy-v2.ot-sdk-cookie-policy a,#ot-sdk-cookie-policy-v2.ot-sdk-cookie-policy a:hover{background:#fff}#ot-sdk-cookie-policy-v2.ot-sdk-cookie-policy thead{background-color:#f6f6f4;font-weight:bold}#ot-sdk-cookie-policy-v2.ot-sdk-cookie-policy .ot-mobile-border{display:none}#ot-sdk-cookie-policy-v2.ot-sdk-cookie-policy section{margin-bottom:2em}#ot-sdk-cookie-policy-v2.ot-sdk-cookie-policy .ot-sdk-subgroup ul li{list-style:disc;margin-left:1.5em}#ot-sdk-cookie-policy-v2.ot-sdk-cookie-policy .ot-sdk-subgroup ul li h4{display:inline-block}#ot-sdk-cookie-policy-v2.ot-sdk-cookie-policy table{border-collapse:inherit;margin:auto;border:1px solid #d7d7d7;border-radius:5px;border-spacing:initial;width:100%;overflow:hidden}#ot-sdk-cookie-policy-v2.ot-sdk-cookie-policy table th,#ot-sdk-cookie-policy-v2.ot-sdk-cookie-policy table td{border-bottom:1px solid #d7d7d7;border-right:1px solid #d7d7d7}#ot-sdk-cookie-policy-v2.ot-sdk-cookie-policy table tr:last-child td{border-bottom:0px}#ot-sdk-cookie-policy-v2.ot-sdk-cookie-policy table tr th:last-child,#ot-sdk-cookie-policy-v2.ot-sdk-cookie-policy table tr td:last-child{border-right:0px}#ot-sdk-cookie-policy-v2.ot-sdk-cookie-policy table .ot-host,#ot-sdk-cookie-policy-v2.ot-sdk-cookie-policy table .ot-cookies-type{width:25%}.ot-sdk-cookie-policy[dir=rtl]{text-align:left}#ot-sdk-cookie-policy h3{font-size:1.5em}@media only screen and (max-width: 530px){.ot-sdk-cookie-policy:not(#ot-sdk-cookie-policy-v2) table,.ot-sdk-cookie-policy:not(#ot-sdk-cookie-policy-v2) thead,.ot-sdk-cookie-policy:not(#ot-sdk-cookie-policy-v2) tbody,.ot-sdk-cookie-policy:not(#ot-sdk-cookie-policy-v2) th,.ot-sdk-cookie-policy:not(#ot-sdk-cookie-policy-v2) td,.ot-sdk-cookie-policy:not(#ot-sdk-cookie-policy-v2) tr{display:block}.ot-sdk-cookie-policy:not(#ot-sdk-cookie-policy-v2) thead tr{position:absolute;top:-9999px;left:-9999px}.ot-sdk-cookie-policy:not(#ot-sdk-cookie-policy-v2) tr{margin:0 0 1em 0}.ot-sdk-cookie-policy:not(#ot-sdk-cookie-policy-v2) tr:nth-child(odd),.ot-sdk-cookie-policy:not(#ot-sdk-cookie-policy-v2) tr:nth-child(odd) a{background:#f6f6f4}.ot-sdk-cookie-policy:not(#ot-sdk-cookie-policy-v2) td{border:none;border-bottom:1px solid #eee;position:relative;padding-left:50%}.ot-sdk-cookie-policy:not(#ot-sdk-cookie-policy-v2) td:before{position:absolute;height:100%;left:6px;width:40%;padding-right:10px}.ot-sdk-cookie-policy:not(#ot-sdk-cookie-policy-v2) .ot-mobile-border{display:inline-block;background-color:#e4e4e4;position:absolute;height:100%;top:0;left:45%;width:2px}.ot-sdk-cookie-policy:not(#ot-sdk-cookie-policy-v2) td:before{content:attr(data-label);font-weight:bold}.ot-sdk-cookie-policy:not(#ot-sdk-cookie-policy-v2) li{word-break:break-word;word-wrap:break-word}#ot-sdk-cookie-policy-v2.ot-sdk-cookie-policy table{overflow:hidden}#ot-sdk-cookie-policy-v2.ot-sdk-cookie-policy table td{border:none;border-bottom:1px solid #d7d7d7}#ot-sdk-cookie-policy-v2.ot-sdk-cookie-policy table,#ot-sdk-cookie-policy-v2.ot-sdk-cookie-policy thead,#ot-sdk-cookie-policy-v2.ot-sdk-cookie-policy tbody,#ot-sdk-cookie-policy-v2.ot-sdk-cookie-policy th,#ot-sdk-cookie-policy-v2.ot-sdk-cookie-policy td,#ot-sdk-cookie-policy-v2.ot-sdk-cookie-policy tr{display:block}#ot-sdk-cookie-policy-v2.ot-sdk-cookie-policy table .ot-host,#ot-sdk-cookie-policy-v2.ot-sdk-cookie-policy table .ot-cookies-type{width:auto}#ot-sdk-cookie-policy-v2.ot-sdk-cookie-policy tr{margin:0 0 1em 0}#ot-sdk-cookie-policy-v2.ot-sdk-cookie-policy td:before{height:100%;width:40%;padding-right:10px}#ot-sdk-cookie-policy-v2.ot-sdk-cookie-policy td:before{content:attr(data-label);font-weight:bold}#ot-sdk-cookie-policy-v2.ot-sdk-cookie-policy li{word-break:break-word;word-wrap:break-word}#ot-sdk-cookie-policy-v2.ot-sdk-cookie-policy thead tr{position:absolute;top:-9999px;left:-9999px;z-index:-9999}#ot-sdk-cookie-policy-v2.ot-sdk-cookie-policy table tr:last-child td{border-bottom:1px solid #d7d7d7;border-right:0px}#ot-sdk-cookie-policy-v2.ot-sdk-cookie-policy table tr:last-child td:last-child{border-bottom:0px}}\n",
      "                \n",
      "                    #ot-sdk-cookie-policy-v2.ot-sdk-cookie-policy h5,\n",
      "                    #ot-sdk-cookie-policy-v2.ot-sdk-cookie-policy h6,\n",
      "                    #ot-sdk-cookie-policy-v2.ot-sdk-cookie-policy li,\n",
      "                    #ot-sdk-cookie-policy-v2.ot-sdk-cookie-policy p,\n",
      "                    #ot-sdk-cookie-policy-v2.ot-sdk-cookie-policy a,\n",
      "                    #ot-sdk-cookie-policy-v2.ot-sdk-cookie-policy span,\n",
      "                    #ot-sdk-cookie-policy-v2.ot-sdk-cookie-policy td,\n",
      "                    #ot-sdk-cookie-policy-v2.ot-sdk-cookie-policy #cookie-policy-description {\n",
      "                        color: #696969;\n",
      "                    }\n",
      "                    #ot-sdk-cookie-policy-v2.ot-sdk-cookie-policy th {\n",
      "                        color: #696969;\n",
      "                    }\n",
      "                    #ot-sdk-cookie-policy-v2.ot-sdk-cookie-policy .ot-sdk-cookie-policy-group {\n",
      "                        color: #696969;\n",
      "                    }\n",
      "                    \n",
      "                    #ot-sdk-cookie-policy-v2.ot-sdk-cookie-policy #cookie-policy-title {\n",
      "                            color: #696969;\n",
      "                        }\n",
      "                    \n",
      "            \n",
      "                    #ot-sdk-cookie-policy-v2.ot-sdk-cookie-policy table th {\n",
      "                            background-color: #F8F8F8;\n",
      "                        }\n",
      "                    \n",
      "            \n",
      "                      @keyframes slide-down-custom {\n",
      "                          0% {\n",
      "                              bottom: 600px !important;\n",
      "                          }\n",
      "                          100% {\n",
      "                              bottom: 0px;\n",
      "                          }\n",
      "                      }\n",
      "                      @-webkit-keyframes slide-down-custom {\n",
      "                          0% {\n",
      "                              bottom: 600px !important;\n",
      "                          }\n",
      "                          100% {\n",
      "                              bottom: 0px;\n",
      "                          }\n",
      "                      }\n",
      "                      @-moz-keyframes slide-down-custom {\n",
      "                          0% {\n",
      "                              bottom: 600px !important;\n",
      "                          }\n",
      "                          100% {\n",
      "                              bottom: 0px;\n",
      "                          }\n",
      "                      }\n",
      "                      </style></head><body><noscript><iframe src=\"https://www.googletagmanager.com/ns.html?idGTM-KMW8HRV\" height=\"0\" width=\"0\" style=\"display:none;visibility:hidden\"></iframe></noscript><div id=\"app\"><div class=\"root_2aII_\"><div class=\"header_2TYJF\"><div class=\"content_3oPo5\"><div class=\"wrapper_2PBns\"><a href=\"/\" hreflang=\"en\" class=\"link_1ctor logo_2EgN2\" title=\"Home Page\"><img src=\"/internal/release-page/_assets/9f36f22b.svg\" alt=\"logo\"></a><form class=\"search_1Ms28 search_3dQh3\" action=\"/search\" role=\"search\" aria-label=\"Search Discogs\"><input type=\"text\" name=\"q\" value=\"\" placeholder=\"Search artists, albums and more...\" aria-label=\"Search artists, albums and more...\" autocomplete=\"off\" autocorrect=\"off\" autocapitalize=\"off\"><input type=\"hidden\" name=\"type\" value=\"all\"><svg viewBox=\"0 0 1024 1024\" class=\"icon_21neJ spinner_36FBY\" role=\"img\"><title>Spinner</title><path d=\"M301 797q0 30-22 51t-52 22q-29 0-51-22t-22-51q0-31 22-52t51-22 52 22 22 52zm284 117q0 31-21 52t-52 21-52-21-21-52 21-51 52-22 52 22 21 51zM183 512q0 30-22 52t-51 21-52-21-21-52 21-52 52-21 51 21 22 52zm687 285q0 29-22 51t-51 22q-31 0-52-22t-22-51 22-52 52-22 51 22 22 52zM319 227q0 38-27 65t-65 27-64-27-27-65 27-64 64-27 65 27 27 64zm668 285q0 30-21 52t-52 21-51-21-22-52 22-52 51-21 52 21 21 52zM622 110q0 45-32 77t-78 32-78-32-32-77 32-78 78-32 78 32 32 78zm303 117q0 54-38 91t-90 37q-54 0-91-37t-37-91q0-52 37-90t91-38q52 0 90 38t38 90z\"></path></svg><button type=\"submit\" title=\"Search\" class=\"submit_1SQ5c\"><svg viewBox=\"0 0 951 1024\" class=\"icon_21neJ icon_1CcIq\" role=\"img\"><title>Search</title><path d=\"M658 475q0-105-75-180t-181-76-181 76-75 180 75 181 181 75 181-75 75-181zm293 476q0 30-22 51t-51 22q-31 0-52-22L630 807q-102 71-228 71-81 0-156-32t-129-86-85-128T0 475t32-156 85-128 129-86 156-32 157 32 128 86 86 128 32 156q0 126-71 228l196 196q21 22 21 52z\"></path></svg></button><span role=\"status\" aria-live=\"polite\" aria-atomic=\"true\" class=\"status_17tSg\"></span><div class=\"dropdown_KJhVE\" hidden=\"\" aria-hidden=\"true\"><div class=\"categories_3lQAg\"><button type=\"button\" class=\"active_3GSX-\">Everything</button><button type=\"button\" class=\"\">Releases</button><button type=\"button\" class=\"\">Artists</button><button type=\"button\" class=\"\">Labels</button></div><a href=\"/search/advanced\" hreflang=\"en\" class=\"link_1ctor advanced_3mIhQ\"><svg aria-hidden=\"true\" viewBox=\"0 0 951 1024\" class=\"icon_21neJ\" role=\"img\"><title>Search</title><path d=\"M658 475q0-105-75-180t-181-76-181 76-75 180 75 181 181 75 181-75 75-181zm293 476q0 30-22 51t-51 22q-31 0-52-22L630 807q-102 71-228 71-81 0-156-32t-129-86-85-128T0 475t32-156 85-128 129-86 156-32 157 32 128 86 86 128 32 156q0 126-71 228l196 196q21 22 21 52z\"></path></svg> <!-- -->Advanced Search</a></div></form><span class=\"after_3FjUu\"><div class=\"wrapper_16UyR\" aria-label=\"Main Navigation\"><button aria-label=\"Menu\" class=\"headericon_3fHYD mobile_2K9DM\"><svg viewBox=\"0 0 878 1024\" class=\"icon_21neJ icon_hz5Ao\" role=\"img\"><title>Bars</title><path d=\"M878 768v73q0 15-11 26t-26 11H37q-15 0-26-11T0 841v-73q0-15 11-26t26-11h804q15 0 26 11t11 26zm0-293v74q0 14-11 25t-26 11H37q-15 0-26-11T0 549v-74q0-14 11-25t26-11h804q15 0 26 11t11 25zm0-292v73q0 15-11 26t-26 11H37q-15 0-26-11T0 256v-73q0-15 11-26t26-11h804q15 0 26 11t11 26z\"></path></svg> <div class=\"tooltip_2rKLn\" hidden=\"\">Menu</div></button><div class=\"menu_3PqT9\"><div class=\"dropdown_2SdFt\"><button type=\"button\" class=\"button_1CB9i\" aria-label=\"Toggle Explore Menu\">Explore<svg viewBox=\"0 0 585 1024\" class=\"icon_21neJ caret_1aLEx\" role=\"img\"><title>Caret Down</title><path d=\"M585 402q0 15-11 26L318 684q-11 11-25 11t-26-11L11 428Q0 417 0 402t11-25 26-11h512q14 0 25 11t11 25z\"></path></svg></button><nav class=\"groups_3-ypR\"><div class=\"group_231vs\"><h4>Discover</h4><ul><li><a href=\"/search?ev=em_rs\" hreflang=\"en\" class=\"link_1ctor\">Explore All</a></li><li><a href=\"/search?sort=hot%2Cdesc&amp;type=release&amp;em_tr\" hreflang=\"en\" class=\"link_1ctor\">Trending Releases</a></li><li><a href=\"/lists?ev=em_lr\" hreflang=\"en\" class=\"link_1ctor\">List Explorer</a></li><li><a href=\"/search/advanced?ev=em_as\" hreflang=\"en\" class=\"link_1ctor\">Advanced Search</a></li><li><a href=\"https://blog.discogs.com/tag/database-en?utm_source=discogs&amp;utm_medium=referral&amp;utm_campaign=navigation_menu\" hreflang=\"en\" class=\"link_1ctor\">Articles About Music</a></li></ul></div><div class=\"group_231vs\"><h4>Contribute</h4><ul><li><a href=\"https://support.discogs.com/hc/en-us/articles/360004016474-Overview-of-Submission-Guidelines-for-Releases?utm_campaign=navigation_menu&amp;utm_medium=referral&amp;utm_source=discogs\" hreflang=\"en\" class=\"link_1ctor\">Submission Guidelines</a></li><li><a href=\"/release/add?ev=em_sr\" hreflang=\"en\" class=\"link_1ctor\">Submit a Release</a></li><li><a href=\"https://support.discogs.com/hc/en-us/articles/360001567973?utm_campaign=navigation_menu&amp;utm_medium=referral&amp;utm_source=discogs\" hreflang=\"en\" class=\"link_1ctor\">How to Make a List</a></li><li><a href=\"/leaderboard\" hreflang=\"en\" class=\"link_1ctor\">Monthly Leaderboards</a></li><li><a href=\"https://localization.discogs.com/?ev=em_bt\" hreflang=\"en\" class=\"link_1ctor\">Help Translate Discogs</a></li></ul></div><div class=\"group_231vs\"><h4>Genres</h4><ul><li><a href=\"/genre/rock?ev=em_rp\" hreflang=\"en\" class=\"link_1ctor\">Rock</a></li><li><a href=\"/genre/electronic?ev=em_ep\" hreflang=\"en\" class=\"link_1ctor\">Electronic</a></li><li><a href=\"/genre/hip+hop?ev=em_pp\" hreflang=\"en\" class=\"link_1ctor\">Hip Hop</a></li><li><a href=\"/genre/folk%2C+World%2C+%26+Country?ev=em_fwcp\" hreflang=\"en\" class=\"link_1ctor\">Folk, World, &amp; Country</a></li><li><a href=\"/genre/jazz?ev=em_jp\" hreflang=\"en\" class=\"link_1ctor\">Jazz</a></li></ul></div><div class=\"group_231vs\"><h4>Styles</h4><ul><li><a href=\"/style/house?ev=em_hp\" hreflang=\"en\" class=\"link_1ctor\">House</a></li><li><a href=\"/style/punk?ev=em_pup\" hreflang=\"en\" class=\"link_1ctor\">Punk</a></li><li><a href=\"/style/soul?ev=em_vp\" hreflang=\"en\" class=\"link_1ctor\">Soul</a></li><li><a href=\"https://blog.discogs.com/genres-and-styles-list?utm_source=discogs&amp;utm_medium=referral&amp;utm_campaign=navigation_menu\" hreflang=\"en\" class=\"link_1ctor\">Explore All Styles</a></li><li><a href=\"https://blog.discogs.com/regional-music-styles\" hreflang=\"en\" class=\"link_1ctor\">Regional Style Map</a></li></ul></div></nav></div><div class=\"dropdown_2SdFt\"><button type=\"button\" class=\"button_1CB9i\" aria-label=\"Toggle Marketplace Menu\">Marketplace<svg viewBox=\"0 0 585 1024\" class=\"icon_21neJ caret_1aLEx\" role=\"img\"><title>Caret Down</title><path d=\"M585 402q0 15-11 26L318 684q-11 11-25 11t-26-11L11 428Q0 417 0 402t11-25 26-11h512q14 0 25 11t11 25z\"></path></svg></button><nav class=\"groups_3-ypR\"><div class=\"group_231vs\"><h4>Format</h4><ul><li><a href=\"/sell/list?format=Vinyl\" hreflang=\"en\" class=\"link_1ctor\">Vinyl</a></li><li><a href=\"/sell/list?format=CD\" hreflang=\"en\" class=\"link_1ctor\">CD</a></li><li><a href=\"/sell/list?format=Cassette\" hreflang=\"en\" class=\"link_1ctor\">Cassette</a></li><li><a href=\"/sell/list?format=DVD\" hreflang=\"en\" class=\"link_1ctor\">DVD</a></li><li><a href=\"/sell/list?format=Box+Set\" hreflang=\"en\" class=\"link_1ctor\">Box Set</a></li></ul></div><div class=\"group_231vs\"><h4>Genre</h4><ul><li><a href=\"/sell/list?genre=Rock\" hreflang=\"en\" class=\"link_1ctor\">Rock</a></li><li><a href=\"/sell/list?genre=Electronic\" hreflang=\"en\" class=\"link_1ctor\">Electronic</a></li><li><a href=\"/sell/list?genre=Pop\" hreflang=\"en\" class=\"link_1ctor\">Pop</a></li><li><a href=\"/sell/list?genre=Funk+%2F+Soul\" hreflang=\"en\" class=\"link_1ctor\">Funk / Soul</a></li><li><a href=\"/sell/list?genre=Jazz\" hreflang=\"en\" class=\"link_1ctor\">Jazz</a></li></ul></div><div class=\"group_231vs\"><h4>Style</h4><ul><li><a href=\"/sell/list?style=Pop+Rock\" hreflang=\"en\" class=\"link_1ctor\">Pop Rock</a></li><li><a href=\"/sell/list?style=House\" hreflang=\"en\" class=\"link_1ctor\">House</a></li><li><a href=\"/sell/list?style=Disco\" hreflang=\"en\" class=\"link_1ctor\">Disco</a></li><li><a href=\"/sell/list?style=Synth-Pop\" hreflang=\"en\" class=\"link_1ctor\">Synth-Pop</a></li><li><a href=\"/sell/list?style=Soul\" hreflang=\"en\" class=\"link_1ctor\">Soul</a></li></ul></div><div class=\"group_231vs\"><h4><a href=\"/sell/list\" hreflang=\"en\" class=\"link_1ctor\">Buy Music</a></h4><ul><li><a href=\"/sell/list\" hreflang=\"en\" class=\"link_1ctor\">All Items</a></li><li><a href=\"/sell/mywants\" hreflang=\"en\" class=\"link_1ctor\">Items I Want</a></li><li><a href=\"/sell/purchases\" hreflang=\"en\" class=\"link_1ctor\">Purchases</a></li><li><a href=\"/sell/cart\" hreflang=\"en\" class=\"link_1ctor\">Cart</a></li><li><a href=\"/record-store-day\" hreflang=\"en\" class=\"link_1ctor\">Record Store Day</a></li></ul></div><div class=\"group_231vs\"><h4>Sell Music</h4><ul><li><a href=\"/sell\" hreflang=\"en\" class=\"link_1ctor\">List Items For Sale</a></li><li><a href=\"/sell/orders\" hreflang=\"en\" class=\"link_1ctor\">Orders</a></li><li><a href=\"/sell/manage\" hreflang=\"en\" class=\"link_1ctor\">Inventory</a></li><li><a href=\"/sell/billing\" hreflang=\"en\" class=\"link_1ctor\">Billing</a></li><li><a href=\"/seller/my/profile\" hreflang=\"en\" class=\"link_1ctor\">My Store</a></li></ul></div></nav></div><div class=\"dropdown_2SdFt align_1HuoP\"><button type=\"button\" class=\"button_1CB9i\" aria-label=\"Toggle Community Menu\">Community<svg viewBox=\"0 0 585 1024\" class=\"icon_21neJ caret_1aLEx\" role=\"img\"><title>Caret Down</title><path d=\"M585 402q0 15-11 26L318 684q-11 11-25 11t-26-11L11 428Q0 417 0 402t11-25 26-11h512q14 0 25 11t11 25z\"></path></svg></button><nav class=\"groups_3-ypR\"><div class=\"group_231vs\"><ul><li><a href=\"/group\" hreflang=\"en\" class=\"link_1ctor\">Groups</a></li><li><a href=\"/forum\" hreflang=\"en\" class=\"link_1ctor\">Forum</a></li><li><a href=\"https://blog.discogs.com/\" hreflang=\"en\" class=\"link_1ctor\">Blog</a></li><li><a href=\"/users/friends\" hreflang=\"en\" class=\"link_1ctor\">Friends</a></li><li><a href=\"/help/doc/forums\" hreflang=\"en\" class=\"link_1ctor\">Community Guidelines</a></li><li><a href=\"https://support.discogs.com/hc/en-us/articles/360004016474-Overview-of-Submission-Guidelines-for-Releases\" hreflang=\"en\" class=\"link_1ctor\">Database Guidelines</a></li><li><a href=\"https://www.discogs.com/events\" hreflang=\"en\" class=\"link_1ctor\">Events</a></li><li><a href=\"https://vinylhub.discogs.com/?utm_source=discogs-top-nav&amp;utm_medium=referral\" hreflang=\"en\" class=\"link_1ctor\">Record Shops</a></li></ul></div></nav></div></div></div></span><div class=\"profile_2xwkL\"><a href=\"/sell/cart\" hreflang=\"en\" class=\"link_1ctor headericon_3fHYD empty_2gwcZ cart_21607\" aria-label=\"0 in cart\"><svg viewBox=\"0 0 951 1024\" class=\"icon_21neJ icon_hz5Ao\" role=\"img\"><title>Shopping Cart</title><path d=\"M366 878q0 29-22 51t-51 22-52-22-22-51 22-52 52-21 51 21 22 52zm512 0q0 29-22 51t-51 22-52-22-22-51 22-52 52-21 51 21 22 52zm73-622v293q0 13-10 24t-23 12l-596 70q7 34 7 40 0 9-14 36h526q15 0 26 11t11 26-11 26-26 11H256q-15 0-26-11t-11-26q0-6 5-18t9-21 12-22 9-17L153 219H37q-15 0-26-10T0 183t11-26 26-11h146q9 0 16 4t11 9 8 14 4 15 3 17 3 14h686q15 0 26 11t11 26z\"></path></svg> <div class=\"tooltip_2rKLn\" hidden=\"\">0 in cart</div></a><div class=\"loggedout_1jrrC\"><a href=\"/login\" hreflang=\"en\" class=\"link_1ctor\">Log In</a> <a href=\"/users/create\" hreflang=\"en\" class=\"link_1ctor register_4zT3K\">Register</a></div></div></div></div></div><div class=\"placeholder_RubWw\"></div><div class=\"content_pzwez\"><div class=\"content_3oPo5\"><script type=\"application/ld+json\" id=\"release_schema\">{\"@context\":\"http://schema.org\",\"@type\":\"MusicRelease\",\"@id\":\"https://www.discogs.com/Various-Hyperdub-52/release/1923860\",\"name\":\"Hyperdub 5.2\",\"musicReleaseFormat\":\"Vinyl\",\"genre\":[\"Electronic\"],\"description\":\"Part 2 of 5.\\r\\n\\r\\nwww.hyperdub.net \\r\\nhyperdub.inc@gmail.com \\r\\ninfo@cargorecords.co.uk \\r\\n\\r\\nBPM:\\r\\nA1: 140\\r\\nAA1: 118 | AA2: 86\\r\\n\",\"datePublished\":2009,\"catalogNumber\":\"HDB024, 5.2\",\"recordLabel\":[{\"@type\":\"Organization\",\"@id\":\"https://www.discogs.com/label/25386-Hyperdub\",\"name\":\"Hyperdub\"}],\"releaseOf\":{\"@type\":\"MusicAlbum\",\"@id\":null,\"name\":\"Hyperdub 5.2\",\"datePublished\":2009,\"byArtist\":[{\"@type\":\"MusicGroup\",\"@id\":\"https://www.discogs.com/artist/194-Various\",\"name\":\"Various\"}]},\"releasedEvent\":{\"@type\":\"PublicationEvent\",\"startDate\":2009,\"location\":{\"@type\":\"Country\",\"name\":\"UK\"}},\"image\":\"https://img.discogs.com/b8177tbI73kY7_ig695pkDVJg9o=/fit-in/594x600/filters:strip_icc():format(jpeg):mode_rgb():quality(90)/discogs-images/R-1923860-1260631810.jpeg.jpg\",\"offers\":{\"@type\":\"AggregateOffer\",\"offerCount\":28,\"priceCurrency\":\"USD\",\"lowPrice\":2.35,\"itemOffered\":{\"@type\":\"Product\",\"name\":\"Various - Hyperdub 5.2\",\"aggregateRating\":{\"@type\":\"AggregateRating\",\"ratingCount\":66,\"ratingValue\":4.15}}}}</script><div class=\"ad_top_1GBnA ad_1qeN9 ad display-ad ads-here ads-ad\" role=\"marquee\" aria-label=\"Advertisement\"><div class=\"label_2wIjW\">Ad</div><div id=\"ad_top\" class=\"inner_3X7e_\"></div></div><div class=\"side_3-xID\" style=\"order:3\"><section id=\"release-actions\" class=\"section_9nUx6 open_BZ6Zt\"><header class=\"header_W2hzl\" role=\"\"><h3>Release</h3><span class=\"spacer_qpIE3\"></span><button type=\"button\" class=\"id_3y8W3\" aria-labelledby=\"discogsid-tooltip\"><svg viewBox=\"0 0 100 100\" class=\"vinyl_3tjPy\"><circle cx=\"50\" cy=\"50\" r=\"33\" fill=\"none\" stroke=\"black\" stroke-width=\"33\"></circle><circle cx=\"50\" cy=\"50\" r=\"4\"></circle></svg> <span>[r<!-- -->1923860<!-- -->]</span><div class=\"tooltip_1ie1O\" id=\"discogsid-tooltip\">Select Release Code</div></button></header><div class=\"content_1TFzi\"><a href=\"/release/1923860/history#latest\" hreflang=\"en\" class=\"link_1ctor\">Edit Release</a><br>Review Changes</div></section></div><div class=\"side_3-xID\" style=\"order:2\"><div class=\"wrapper_cGBtH\"><div class=\"buttons_2jlYL\"><button type=\"button\" class=\"button_3lXdg grey_1js2e small_fzGKo disabled_1jdDa button_3lhp0\" disabled=\"\"><svg viewBox=\"0 0 1061 1024\" class=\"icon_21neJ\" role=\"img\"><title>Collection</title><path d=\"M971 986c-42 0-76-34-76-76V114a76 76 0 01152 0v796c0 42-34 76-76 76zM770 986c-42 0-76-34-76-76V114a76 76 0 01152 0v796c0 42-34 76-76 76zM569 986c-42 0-76-34-76-76V114a76 76 0 01152 0v796c0 42-34 76-76 76zM99 963c-8 0-17-2-25-5a76 76 0 01-46-97l268-749a76 76 0 11143 51L171 912a76 76 0 01-72 51z\"></path></svg> <!-- -->Add to Collection</button><button type=\"button\" class=\"button_3lXdg grey_1js2e small_fzGKo disabled_1jdDa button_3lhp0\" disabled=\"\"><svg viewBox=\"0 0 1024 1024\" class=\"icon_21neJ\" role=\"img\"><title>Eye</title><path d=\"M951 549q-87-135-218-202 35 59 35 128 0 106-75 181t-181 75-181-75-75-181q0-69 35-128-131 67-218 202 76 117 191 186t248 70 248-70 191-186zM539 329q0-11-8-19t-19-8q-71 0-123 51t-51 122q0 12 8 20t20 8 19-8 8-20q0-49 35-84t84-34q11 0 19-8t8-20zm485 220q0 19-11 39-80 131-216 211t-285 79-285-80T11 588Q0 568 0 549t11-40q80-131 216-210t285-80 285 80 216 210q11 20 11 40z\"></path></svg> <!-- -->Add to Wantlist</button></div></div></div><div class=\"side_3-xID\" style=\"order:5\"><section id=\"release-marketplace\" class=\"section_9nUx6 open_BZ6Zt\"><header class=\"header_W2hzl\" role=\"\"><div class=\"header_3eShg\"><h3>Marketplace</h3><span class=\"forsale_QoVFl\"><a href=\"/sell/release/1923860\" hreflang=\"en\" class=\"link_1ctor\">28 For Sale</a> from <span class=\"price_2Wkos\">£1.71</span></span></div></header><div class=\"content_1TFzi\"><div class=\"buttons_1G_mP\"><a href=\"/sell/release/1923860\" hreflang=\"en\" class=\"link_1ctor button_3lXdg blue_2acgV button_1YfdK\">Buy Vinyl</a><a href=\"/sell/post/1923860\" hreflang=\"en\" class=\"link_1ctor button_3lXdg grey_1js2e button_1YfdK\">Sell Vinyl</a></div></div></section></div><div class=\"side_3-xID\" style=\"order:-1\"><div class=\"ad_flexa_185KE ad_1qeN9 no_mobile_3pqqA ad display-ad ads-here ads-ad\" role=\"marquee\" aria-label=\"Advertisement\"><div class=\"label_2wIjW\">Ad</div><div id=\"ad_flexa\" class=\"inner_3X7e_\"></div></div></div><div class=\"side_3-xID\" style=\"order:4\"><div class=\"ratings_1pAt8\"><div><span><button class=\"star_1sqH5\" type=\"button\" title=\"Rate this release 1 star\"><svg viewBox=\"0 0 951 1024\" class=\"icon_21neJ icon_2LaLF\" role=\"img\"><path d=\"M650 574l175-170-242-35-108-219-108 219-241 35 175 170-42 240 216-113 216 113zm301-204q0 12-15 27L729 599l49 286v12q0 28-23 28-11 0-23-7L475 783 219 918q-13 7-23 7-12 0-18-8t-6-20l1-12 49-286L14 397Q0 382 0 370q0-21 32-27l287-41L447 42q11-24 28-24t28 24l129 260 287 41q32 6 32 27z\"></path></svg></button><button class=\"star_1sqH5\" type=\"button\" title=\"Rate this release 2 stars\"><svg viewBox=\"0 0 951 1024\" class=\"icon_21neJ icon_2LaLF\" role=\"img\"><path d=\"M650 574l175-170-242-35-108-219-108 219-241 35 175 170-42 240 216-113 216 113zm301-204q0 12-15 27L729 599l49 286v12q0 28-23 28-11 0-23-7L475 783 219 918q-13 7-23 7-12 0-18-8t-6-20l1-12 49-286L14 397Q0 382 0 370q0-21 32-27l287-41L447 42q11-24 28-24t28 24l129 260 287 41q32 6 32 27z\"></path></svg></button><button class=\"star_1sqH5\" type=\"button\" title=\"Rate this release 3 stars\"><svg viewBox=\"0 0 951 1024\" class=\"icon_21neJ icon_2LaLF\" role=\"img\"><path d=\"M650 574l175-170-242-35-108-219-108 219-241 35 175 170-42 240 216-113 216 113zm301-204q0 12-15 27L729 599l49 286v12q0 28-23 28-11 0-23-7L475 783 219 918q-13 7-23 7-12 0-18-8t-6-20l1-12 49-286L14 397Q0 382 0 370q0-21 32-27l287-41L447 42q11-24 28-24t28 24l129 260 287 41q32 6 32 27z\"></path></svg></button><button class=\"star_1sqH5\" type=\"button\" title=\"Rate this release 4 stars\"><svg viewBox=\"0 0 951 1024\" class=\"icon_21neJ icon_2LaLF\" role=\"img\"><path d=\"M650 574l175-170-242-35-108-219-108 219-241 35 175 170-42 240 216-113 216 113zm301-204q0 12-15 27L729 599l49 286v12q0 28-23 28-11 0-23-7L475 783 219 918q-13 7-23 7-12 0-18-8t-6-20l1-12 49-286L14 397Q0 382 0 370q0-21 32-27l287-41L447 42q11-24 28-24t28 24l129 260 287 41q32 6 32 27z\"></path></svg></button><button class=\"star_1sqH5\" type=\"button\" title=\"Rate this release 5 stars\"><svg viewBox=\"0 0 951 1024\" class=\"icon_21neJ icon_2LaLF\" role=\"img\"><path d=\"M650 574l175-170-242-35-108-219-108 219-241 35 175 170-42 240 216-113 216 113zm301-204q0 12-15 27L729 599l49 286v12q0 28-23 28-11 0-23-7L475 783 219 918q-13 7-23 7-12 0-18-8t-6-20l1-12 49-286L14 397Q0 382 0 370q0-21 32-27l287-41L447 42q11-24 28-24t28 24l129 260 287 41q32 6 32 27z\"></path></svg></button></span><button type=\"button\" class=\"remove_ttFNn\" disabled=\"\" aria-label=\"Remove Rating\"><svg viewBox=\"0 0 805 1024\" class=\"icon_21neJ\" role=\"img\"><title>Close</title><path d=\"M742 755q0 23-16 39l-78 78q-16 16-39 16t-39-16L402 704 234 872q-16 16-39 16t-38-16l-78-78q-16-16-16-39t16-38l168-168L79 381q-16-16-16-39t16-39l78-78q16-16 38-16t39 16l168 168 168-168q16-16 39-16t39 16l78 78q16 16 16 39t-16 39L558 549l168 168q16 16 16 38z\"></path></svg></button></div></div><div class=\"wrapper_3ECKE\"><div class=\"container_2AwjH\"><button type=\"button\" class=\"button_3lXdg link_1judM\"><svg viewBox=\"0 0 951 1024\" class=\"icon_21neJ\" role=\"img\"><title>Share Square</title><path d=\"M805 565v148q0 68-49 116t-116 49H165q-68 0-117-49T0 713V238q0-68 48-117t117-48h145q8 0 13 6t6 12q0 16-15 19-44 15-76 34l-9 2h-64q-38 0-65 27t-27 65v475q0 38 27 65t65 27h475q38 0 65-27t26-65V591q0-11 11-17 16-7 31-21 9-9 20-4 12 5 12 16zm135-283L721 501q-11 11-26 11-7 0-14-3-23-10-23-34V366h-91q-185 0-250 75-68 78-43 270 2 13-11 19l-7 1q-9 0-15-7l-12-18-22-39q-16-29-29-57t-22-65-10-70q0-28 2-52t8-51 16-50 27-47 39-42 54-35 71-28 92-17 112-7h91V37q0-24 23-34 7-3 14-3 15 0 26 11l219 219q11 11 11 26t-11 26z\"></path></svg>Share</button></div></div></div><div class=\"side_3-xID\" style=\"order:14\"><div class=\"ad_right_b_N9yzl ad_1qeN9 ad display-ad ads-here ads-ad\" role=\"marquee\" aria-label=\"Advertisement\"><div class=\"label_2wIjW\">Ad</div><div id=\"ad_right_b\" class=\"inner_3X7e_\"></div></div></div><div class=\"side_3-xID\" style=\"order:5\"><section id=\"release-stats\" class=\"section_9nUx6 open_BZ6Zt\"><header class=\"header_W2hzl\" role=\"\"><h3>Statistics</h3></header><div class=\"content_1TFzi\"><div class=\"items_3gMeU\"><ul><li><h4>Have<!-- -->:</h4><a href=\"/release/stats/1923860\" hreflang=\"en\" class=\"link_1ctor\">617</a></li><li><h4>Want<!-- -->:</h4><a href=\"/release/stats/1923860\" hreflang=\"en\" class=\"link_1ctor\">193</a></li><li><h4>Avg Rating<!-- -->:</h4><span>4.15<!-- --> / 5</span></li><li><h4>Ratings<!-- -->:</h4><a href=\"/release/stats/1923860\" hreflang=\"en\" class=\"link_1ctor\">66</a></li></ul><ul><li><h4>Last Sold<!-- -->:</h4><a href=\"/sell/history/1923860\" hreflang=\"en\" class=\"link_1ctor\"><time datetime=\"2021-07-17\">Jul 17, 2021</time></a></li><li><h4>Lowest<!-- -->:</h4><span>£1.72</span></li><li><h4>Median<!-- -->:</h4><span>£3.31</span></li><li><h4>Highest<!-- -->:</h4><span>£8.58</span></li></ul></div></div></section></div><div class=\"side_3-xID\" style=\"order:17\"><section id=\"release-videos\" class=\"section_9nUx6 open_BZ6Zt\"><header class=\"header_W2hzl\" role=\"\"><h3 class=\"head_WZcFZ\">Videos<!-- --> <!-- --> (3)</h3><a href=\"/release/1923860-/videos/update\" hreflang=\"en\" class=\"link_1ctor edit_1ddlh\">Edit</a></header><div class=\"content_1TFzi\"><div class=\"player_3pThv\"><button class=\"placeholder_1VFFD\" type=\"button\" title=\"Play Video\"><img src=\"https://i.ytimg.com/vi/DvMi_BxjfxA/hqdefault.jpg\" height=\"240\" alt=\"Joker &amp; Ginz - Stash\"><svg viewBox=\"0 0 68 48\" class=\"youtube_-uhKd\"><path class=\"btn_287HC\" d=\"M66.52,7.74c-0.78-2.93-2.49-5.41-5.42-6.19C55.79,.13,34,0,34,0S12.21,.13,6.9,1.55 C3.97,2.33,2.27,4.81,1.48,7.74C0.06,13.05,0,24,0,24s0.06,10.95,1.48,16.26c0.78,2.93,2.49,5.41,5.42,6.19 C12.21,47.87,34,48,34,48s21.79-0.13,27.1-1.55c2.93-0.78,4.64-3.26,5.42-6.19C67.94,34.95,68,24,68,24S67.94,13.05,66.52,7.74z\"></path><path d=\"M 45,24 27,14 27,34\" fill=\"#fff\"></path></svg></button></div><ul class=\"videos_1xVCN\"><li><button type=\"button\" class=\"video_SuWuh\"><img src=\"https://i.ytimg.com/vi/DvMi_BxjfxA/default.jpg\" class=\"thumbnail_f0Yrr\" alt=\"Thumbnail for Joker &amp; Ginz - Stash\" width=\"60\" height=\"45\" loading=\"lazy\"><svg viewBox=\"0 0 805 1024\" class=\"icon_21neJ play_3doe7 media_39TAQ\" role=\"img\"><title>Play</title><path d=\"M791 530L32 951q-13 8-23 2t-9-20V91q0-14 9-20t23 2l759 421q13 8 13 18t-13 18z\"></path></svg><svg viewBox=\"0 0 878 1024\" class=\"icon_21neJ pause_33-Na media_39TAQ\" role=\"img\"><title>Pause</title><path d=\"M878 110v804q0 15-11 26t-26 11H549q-15 0-26-11t-11-26V110q0-15 11-26t26-11h292q15 0 26 11t11 26zm-512 0v804q0 15-11 26t-26 11H37q-15 0-26-11T0 914V110q0-15 11-26t26-11h292q15 0 26 11t11 26z\"></path></svg><div class=\"info_Xvbmo\"><div class=\"title_26yzZ\">Joker &amp; Ginz - Stash</div></div><span class=\"duration_2C2S0\">2:40</span></button></li><li><button type=\"button\" class=\"video_SuWuh\"><img src=\"https://i.ytimg.com/vi/a1rerXsbHro/default.jpg\" class=\"thumbnail_f0Yrr\" alt=\"Thumbnail for Zomby: Tarantula (Hyperdub 2009)\" width=\"60\" height=\"45\" loading=\"lazy\"><svg viewBox=\"0 0 805 1024\" class=\"icon_21neJ play_3doe7 media_39TAQ\" role=\"img\"><title>Play</title><path d=\"M791 530L32 951q-13 8-23 2t-9-20V91q0-14 9-20t23 2l759 421q13 8 13 18t-13 18z\"></path></svg><svg viewBox=\"0 0 878 1024\" class=\"icon_21neJ pause_33-Na media_39TAQ\" role=\"img\"><title>Pause</title><path d=\"M878 110v804q0 15-11 26t-26 11H549q-15 0-26-11t-11-26V110q0-15 11-26t26-11h292q15 0 26 11t11 26zm-512 0v804q0 15-11 26t-26 11H37q-15 0-26-11T0 914V110q0-15 11-26t26-11h292q15 0 26 11t11 26z\"></path></svg><div class=\"info_Xvbmo\"><div class=\"title_26yzZ\">Zomby: Tarantula (Hyperdub 2009)</div></div><span class=\"duration_2C2S0\">4:06</span></button></li><li><button type=\"button\" class=\"video_SuWuh\"><img src=\"https://i.ytimg.com/vi/ZGMkTu3kKQE/default.jpg\" class=\"thumbnail_f0Yrr\" alt=\"Thumbnail for Samiyam: Roller Skates (Hyperdub 2009)\" width=\"60\" height=\"45\" loading=\"lazy\"><svg viewBox=\"0 0 805 1024\" class=\"icon_21neJ play_3doe7 media_39TAQ\" role=\"img\"><title>Play</title><path d=\"M791 530L32 951q-13 8-23 2t-9-20V91q0-14 9-20t23 2l759 421q13 8 13 18t-13 18z\"></path></svg><svg viewBox=\"0 0 878 1024\" class=\"icon_21neJ pause_33-Na media_39TAQ\" role=\"img\"><title>Pause</title><path d=\"M878 110v804q0 15-11 26t-26 11H549q-15 0-26-11t-11-26V110q0-15 11-26t26-11h292q15 0 26 11t11 26zm-512 0v804q0 15-11 26t-26 11H37q-15 0-26-11T0 914V110q0-15 11-26t26-11h292q15 0 26 11t11 26z\"></path></svg><div class=\"info_Xvbmo\"><div class=\"title_26yzZ\">Samiyam: Roller Skates (Hyperdub 2009)</div></div><span class=\"duration_2C2S0\">2:20</span></button></li></ul></div></section></div><div class=\"side_3-xID\" style=\"order:18\"><section id=\"release-lists\" class=\"section_9nUx6 open_BZ6Zt\"><header class=\"header_W2hzl\" role=\"\"><h3>Lists</h3></header><div class=\"content_1TFzi\"><div style=\"min-height:3em\" class=\"loading_3JhRo\"><svg viewBox=\"0 0 1024 1024\" class=\"icon_21neJ spinner_3qsuZ show_17nbC\" role=\"img\"><title>Spinner</title><path d=\"M301 797q0 30-22 51t-52 22q-29 0-51-22t-22-51q0-31 22-52t51-22 52 22 22 52zm284 117q0 31-21 52t-52 21-52-21-21-52 21-51 52-22 52 22 21 51zM183 512q0 30-22 52t-51 21-52-21-21-52 21-52 52-21 51 21 22 52zm687 285q0 29-22 51t-51 22q-31 0-52-22t-22-51 22-52 52-22 51 22 22 52zM319 227q0 38-27 65t-65 27-64-27-27-65 27-64 64-27 65 27 27 64zm668 285q0 30-21 52t-52 21-51-21-22-52 22-52 51-21 52 21 21 52zM622 110q0 45-32 77t-78 32-78-32-32-77 32-78 78-32 78 32 32 78zm303 117q0 54-38 91t-90 37q-54 0-91-37t-37-91q0-52 37-90t91-38q52 0 90 38t38 90z\"></path></svg></div></div></section></div><div class=\"side_3-xID\" style=\"order:19\"><section id=\"release-contributors\" class=\"section_9nUx6 open_BZ6Zt\"><header class=\"header_W2hzl\" role=\"\"><h3>Contributors</h3></header><div class=\"content_1TFzi\"><a href=\"/user/stalkism\" hreflang=\"en\" class=\"link_1ctor original_1aGIQ\">stalkism</a>, <a href=\"/user/r-a-u-m\" hreflang=\"en\" class=\"link_1ctor\">r-a-u-m</a>, <a href=\"/user/TANMUSHIMUSHI\" hreflang=\"en\" class=\"link_1ctor\">TANMUSHIMUSHI</a>, <a href=\"/user/jginzburg\" hreflang=\"en\" class=\"link_1ctor\">jginzburg</a>, <a href=\"/user/xnationdnb\" hreflang=\"en\" class=\"link_1ctor\">xnationdnb</a>, <a href=\"/user/Jux\" hreflang=\"en\" class=\"link_1ctor\">Jux</a>, <a href=\"/user/ryanp\" hreflang=\"en\" class=\"link_1ctor\">ryanp</a>, <a href=\"/user/maoxiung\" hreflang=\"en\" class=\"link_1ctor\">maoxiung</a>, <a href=\"/user/TWRA_SIRIUS\" hreflang=\"en\" class=\"link_1ctor\">TWRA_SIRIUS</a>, <a href=\"/user/lieuwe\" hreflang=\"en\" class=\"link_1ctor\">lieuwe</a>, <a href=\"/user/zin\" hreflang=\"en\" class=\"link_1ctor\">zin</a>, <a href=\"/user/cbkbstudio\" hreflang=\"en\" class=\"link_1ctor\">cbkbstudio</a>, <a href=\"/user/JiggyJamz\" hreflang=\"en\" class=\"link_1ctor\">JiggyJamz</a></div></section></div><div class=\"side_3-xID\" style=\"order:20\"></div><div class=\"side_3-xID\" style=\"order:21\"><div class=\"report_3dOkc\"><a href=\"/release/1923860/report\" hreflang=\"en\" class=\"link_1ctor\">Report</a></div></div><div class=\"side_3-xID\" style=\"order:9\"><div class=\"ad_right_2spJU ad_1qeN9 no_desktop_kjFK7 ad display-ad ads-here ads-ad\" role=\"marquee\" aria-label=\"Advertisement\"><div class=\"label_2wIjW\">Ad</div><div id=\"ad_right\" class=\"inner_3X7e_\"></div></div></div><div class=\"main_2FbVC\" style=\"order:1\"><div id=\"release-header\" class=\"body__xbaR\"><div class=\"thumbnail_2eT6J\"><div class=\"more_8jbxp\"><a hreflang=\"en\" class=\"link_1ctor thumbnail_32ntz\" href=\"/Various-Hyperdub-52/release/1923860/image/SW1hZ2U6MzIyNzU4MA==\"><div class=\"image_3rzgk bezel_2NSgk\"><picture><img src=\"https://img.discogs.com/62mzPMSesUjdxbdVcFtjXaE_l8A=/fit-in/300x300/filters:strip_icc():format(jpeg):mode_rgb():quality(40)/discogs-images/R-1923860-1260631810.jpeg.jpg\" alt=\"Hyperdub 5.2 (12&quot;, 45 RPM, EP) album cover\" width=\"150\" height=\"150\"></picture></div></a><p><a hreflang=\"en\" class=\"link_1ctor thumbnail_32ntz\" href=\"/Various-Hyperdub-52/release/1923860/image/SW1hZ2U6MzIyNzU4MA==\">More images</a></p></div></div><h1 class=\"header_3FV2N\"><span class=\"link_15cpV\"><a href=\"/artist/194-Various\" hreflang=\"en\" class=\"link_1ctor link_15cpV\" title=\"Various\">Various</a></span> – <!-- -->Hyperdub 5.2</h1><div class=\"info_2OHV7\"><div class=\"lineitem_2U49R\"><div class=\"label_2GDTZ\">Label<!-- -->:</div><div class=\"content_3IW3p\"><a href=\"/label/25386-Hyperdub\" hreflang=\"en\" class=\"link_1ctor\">Hyperdub</a> – HDB024</div></div><div class=\"lineitem_2U49R\"><div class=\"label_2GDTZ\">Series<!-- -->:</div><div class=\"content_3IW3p\"><a href=\"/label/990670-Hyperdub-5\" hreflang=\"en\" class=\"link_1ctor\">Hyperdub 5</a> – 5.2</div></div><div class=\"format_3yO6t\"><div class=\"label_2GDTZ\">Format<!-- -->:</div><div class=\"content_3IW3p\"><div class=\"format_item_3SAJn\"><a href=\"/search?format_exact=Vinyl\" hreflang=\"en\" class=\"link_1ctor\">Vinyl</a>, <!-- -->12\", 45 RPM, EP</div></div></div><div class=\"lineitem_2U49R\"><div class=\"label_2GDTZ\">Country<!-- -->:</div><div class=\"content_3IW3p\"><a href=\"/search?country=UK\" hreflang=\"en\" class=\"link_1ctor\">UK</a></div></div><div class=\"lineitem_2U49R\"><div class=\"label_2GDTZ\">Released<!-- -->:</div><div class=\"content_3IW3p\"><a href=\"/search?decade=2000&amp;year=2009\" hreflang=\"en\" class=\"link_1ctor\"><time datetime=\"2009-09\">Sep 2009</time></a></div></div><div class=\"lineitem_2U49R\"><div class=\"label_2GDTZ\">Genre<!-- -->:</div><div class=\"content_3IW3p\"><a href=\"/genre/electronic\" hreflang=\"en\" class=\"link_1ctor\">Electronic</a></div></div><div class=\"lineitem_2U49R\"><div class=\"label_2GDTZ\">Style<!-- -->:</div><div class=\"content_3IW3p\"><a href=\"/style/dubstep\" hreflang=\"en\" class=\"link_1ctor\">Dubstep</a>, <a href=\"/style/house\" hreflang=\"en\" class=\"link_1ctor\">House</a>, <a href=\"/style/electro\" hreflang=\"en\" class=\"link_1ctor\">Electro</a>, <a href=\"/style/broken+beat\" hreflang=\"en\" class=\"link_1ctor\">Broken Beat</a></div></div></div></div></div><div class=\"main_2FbVC\" style=\"order:6\"><section id=\"release-tracklist\" class=\"section_9nUx6 open_BZ6Zt\"><header class=\"header_W2hzl\" role=\"\"><h3>Tracklist</h3><span class=\"spacer_3IYs2\"></span></header><div class=\"content_1TFzi\"><table class=\"tracklist_3QGRS\"><tbody><tr data-track-position=\"A1\"><td class=\"trackPos_2RCje\">A1</td><td class=\"artist_3zAQD\"><span class=\"link_15cpV\"><a href=\"/artist/622822-Joker-5\" hreflang=\"en\" class=\"link_1ctor link_15cpV\">Joker (5)</a></span> &amp; <span class=\"link_15cpV\"><a href=\"/artist/1455923-Ginz-2\" hreflang=\"en\" class=\"link_1ctor link_15cpV\">Ginz (2)</a></span><span class=\"dash_1EAjh\">–</span></td><td class=\"trackTitle_CTKp4\"><span class=\"trackTitle_CTKp4\">Stash</span></td><td class=\"duration_2t4qr\"><span>4:38</span></td></tr><tr data-track-position=\"AA1\"><td class=\"trackPos_2RCje\">AA1</td><td class=\"artist_3zAQD\"><span class=\"link_15cpV\"><a href=\"/artist/830984-Zomby\" hreflang=\"en\" class=\"link_1ctor link_15cpV\">Zomby</a></span><span class=\"dash_1EAjh\">–</span></td><td class=\"trackTitle_CTKp4\"><span class=\"trackTitle_CTKp4\">Tarantula</span></td><td class=\"duration_2t4qr\"><span>4:07</span></td></tr><tr data-track-position=\"AA2\"><td class=\"trackPos_2RCje\">AA2</td><td class=\"artist_3zAQD\"><span class=\"link_15cpV\"><a href=\"/artist/803904-Samiyam\" hreflang=\"en\" class=\"link_1ctor link_15cpV\">Samiyam</a></span><span class=\"dash_1EAjh\">–</span></td><td class=\"trackTitle_CTKp4\"><span class=\"trackTitle_CTKp4\">Roller Skates</span></td><td class=\"duration_2t4qr\"><span>2:18</span></td></tr></tbody></table></div></section></div><div class=\"main_2FbVC\" style=\"order:7\"><div class=\"ad_video_1R1G1 ad display-ad ads-here ads-ad\" role=\"marquee\" aria-label=\"Advertisement\"><div class=\"label_2wIjW\">Ad</div><div id=\"ad_video\" class=\"inner_3X7e_\"></div></div></div><div class=\"main_2FbVC\" style=\"order:10\"><section id=\"release-companies\" class=\"section_9nUx6 open_BZ6Zt\"><header class=\"header_W2hzl\" role=\"\"><h3>Companies, etc.</h3></header><div class=\"content_1TFzi\"><ul class=\"list_3ky-r\"><li><span class=\"entity_1XpR8\">Distributed By</span> – <a href=\"/label/274712-Cargo-2\" hreflang=\"en\" class=\"link_1ctor\">Cargo (2)</a></li><li><span class=\"entity_1XpR8\">Mastered At</span> – <a href=\"/label/275155-Transition-Mastering-Studios\" hreflang=\"en\" class=\"link_1ctor\">Transition Mastering Studios</a></li></ul></div></section></div><div class=\"main_2FbVC\" style=\"order:8\"></div><div class=\"main_2FbVC\" style=\"order:12\"><section id=\"release-notes\" class=\"section_9nUx6 open_BZ6Zt\"><header class=\"header_W2hzl\" role=\"\"><h3>Notes</h3></header><div class=\"content_1TFzi\"><div>Part 2 of 5.\n",
      "<br>\n",
      "<br>www.hyperdub.net \n",
      "<br>hyperdub.inc@gmail.com \n",
      "<br>info@cargorecords.co.uk \n",
      "<br>\n",
      "<br>BPM:\n",
      "<br>A1: 140\n",
      "<br>AA1: 118 | AA2: 86\n",
      "<br></div></div></section></div><div class=\"main_2FbVC\" style=\"order:11\"><section id=\"release-barcodes\" class=\"section_9nUx6 open_BZ6Zt\"><header class=\"header_W2hzl\" role=\"\"><h3>Barcode and Other Identifiers</h3></header><div class=\"content_1TFzi\"><ul class=\"simple_iPiaF\"><li>Matrix / Runout<!-- --> (Site A runout, etched)<!-- -->: <!-- -->HDB024A TRANSITION</li><li>Matrix / Runout<!-- --> (Site AA runout, etched)<!-- -->: <!-- -->HDB024AA TRANSITION</li></ul></div></section></div><div class=\"main_2FbVC\" style=\"order:12\"><section id=\"release-other-versions\" class=\"section_9nUx6 open_BZ6Zt\"><header class=\"header_W2hzl\" role=\"\"><h3>Other Versions</h3></header><div class=\"content_1TFzi\"><div style=\"min-height:100px\" class=\"loading_3JhRo\"><svg viewBox=\"0 0 1024 1024\" class=\"icon_21neJ spinner_3qsuZ show_17nbC\" role=\"img\"><title>Spinner</title><path d=\"M301 797q0 30-22 51t-52 22q-29 0-51-22t-22-51q0-31 22-52t51-22 52 22 22 52zm284 117q0 31-21 52t-52 21-52-21-21-52 21-51 52-22 52 22 21 51zM183 512q0 30-22 52t-51 21-52-21-21-52 21-52 52-21 51 21 22 52zm687 285q0 29-22 51t-51 22q-31 0-52-22t-22-51 22-52 52-22 51 22 22 52zM319 227q0 38-27 65t-65 27-64-27-27-65 27-64 64-27 65 27 27 64zm668 285q0 30-21 52t-52 21-51-21-22-52 22-52 51-21 52 21 21 52zM622 110q0 45-32 77t-78 32-78-32-32-77 32-78 78-32 78 32 32 78zm303 117q0 54-38 91t-90 37q-54 0-91-37t-37-91q0-52 37-90t91-38q52 0 90 38t38 90z\"></path></svg></div></div></section></div><div class=\"main_2FbVC\" style=\"order:13\"><section id=\"release-recommendations\" class=\"section_9nUx6 open_BZ6Zt\"><header class=\"header_W2hzl\" role=\"\"><h3>Recommendations</h3></header><div class=\"content_1TFzi\"><div style=\"min-height:200px\" class=\"loading_3JhRo\"><svg viewBox=\"0 0 1024 1024\" class=\"icon_21neJ spinner_3qsuZ show_17nbC\" role=\"img\"><title>Spinner</title><path d=\"M301 797q0 30-22 51t-52 22q-29 0-51-22t-22-51q0-31 22-52t51-22 52 22 22 52zm284 117q0 31-21 52t-52 21-52-21-21-52 21-51 52-22 52 22 21 51zM183 512q0 30-22 52t-51 21-52-21-21-52 21-52 52-21 51 21 22 52zm687 285q0 29-22 51t-51 22q-31 0-52-22t-22-51 22-52 52-22 51 22 22 52zM319 227q0 38-27 65t-65 27-64-27-27-65 27-64 64-27 65 27 27 64zm668 285q0 30-21 52t-52 21-51-21-22-52 22-52 51-21 52 21 21 52zM622 110q0 45-32 77t-78 32-78-32-32-77 32-78 78-32 78 32 32 78zm303 117q0 54-38 91t-90 37q-54 0-91-37t-37-91q0-52 37-90t91-38q52 0 90 38t38 90z\"></path></svg></div></div></section></div><div class=\"main_2FbVC\" style=\"order:17\"><section id=\"release-reviews\" class=\"section_9nUx6 open_BZ6Zt\"><header class=\"header_W2hzl\" role=\"\"><h3>Reviews</h3></header><div class=\"content_1TFzi\"><div style=\"min-height:200px\" class=\"loading_3JhRo\"><svg viewBox=\"0 0 1024 1024\" class=\"icon_21neJ spinner_3qsuZ show_17nbC\" role=\"img\"><title>Spinner</title><path d=\"M301 797q0 30-22 51t-52 22q-29 0-51-22t-22-51q0-31 22-52t51-22 52 22 22 52zm284 117q0 31-21 52t-52 21-52-21-21-52 21-51 52-22 52 22 21 51zM183 512q0 30-22 52t-51 21-52-21-21-52 21-52 52-21 51 21 22 52zm687 285q0 29-22 51t-51 22q-31 0-52-22t-22-51 22-52 52-22 51 22 22 52zM319 227q0 38-27 65t-65 27-64-27-27-65 27-64 64-27 65 27 27 64zm668 285q0 30-21 52t-52 21-51-21-22-52 22-52 51-21 52 21 21 52zM622 110q0 45-32 77t-78 32-78-32-32-77 32-78 78-32 78 32 32 78zm303 117q0 54-38 91t-90 37q-54 0-91-37t-37-91q0-52 37-90t91-38q52 0 90 38t38 90z\"></path></svg></div></div></section></div></div><div class=\"ad_bottom_3Oh2o ad_1qeN9 sticky_8060C sticky_footer ad display-ad ads-here ads-ad\" role=\"marquee\" aria-label=\"Advertisement\"><button class=\"close_1Uae1\" title=\"Hide Ad\"><svg viewBox=\"0 0 805 1024\" class=\"icon_21neJ\" role=\"img\"><title>Close</title><path d=\"M742 755q0 23-16 39l-78 78q-16 16-39 16t-39-16L402 704 234 872q-16 16-39 16t-38-16l-78-78q-16-16-16-39t16-38l168-168L79 381q-16-16-16-39t16-39l78-78q16-16 38-16t39 16l168 168 168-168q16-16 39-16t39 16l78 78q16 16 16 39t-16 39L558 549l168 168q16 16 16 38z\"></path></svg></button><div class=\"label_2wIjW\">Ad</div><div id=\"ad_bottom\" class=\"inner_3X7e_\"></div></div></div><footer id=\"site_footer_wrap\" class=\"footer_3-cC_\"><div class=\"content_3oPo5\"><div class=\"columns_1cHGx\"><section class=\"section_Wp20B\"><h5><button>About Discogs<svg viewBox=\"0 0 1024 1024\" class=\"icon_21neJ\" role=\"img\"><title>Chevron Down</title><path d=\"M962 462L538 885q-11 11-26 11t-26-11L62 462q-11-11-11-26t11-26l95-95q11-10 26-10t26 10l303 304 303-304q11-10 26-10t26 10l95 95q11 11 11 26t-11 26z\"></path></svg></button></h5><nav class=\"content_3HQ8R\"><ul><li><a href=\"/about\" hreflang=\"en\" class=\"link_1ctor\">About Us</a></li><li><a href=\"https://blog.discogs.com/\" hreflang=\"en\" class=\"link_1ctor\">Blog</a></li><li><a href=\"/app\" hreflang=\"en\" class=\"link_1ctor\">App</a></li><li><a href=\"/careers\" hreflang=\"en\" class=\"link_1ctor\">Careers</a></li><li><a href=\"/developers\" hreflang=\"en\" class=\"link_1ctor\">API</a></li><li><a href=\"https://blog.discogs.com/tag/engineering-en\" hreflang=\"en\" class=\"link_1ctor\">Change Log</a></li></ul></nav></section><section class=\"section_Wp20B\"><h5><button>Help Is Here<svg viewBox=\"0 0 1024 1024\" class=\"icon_21neJ\" role=\"img\"><title>Chevron Down</title><path d=\"M962 462L538 885q-11 11-26 11t-26-11L62 462q-11-11-11-26t11-26l95-95q11-10 26-10t26 10l303 304 303-304q11-10 26-10t26 10l95 95q11 11 11 26t-11 26z\"></path></svg></button></h5><nav class=\"content_3HQ8R\"><ul><li><a href=\"https://support.discogs.com/\" hreflang=\"en\" class=\"link_1ctor\">Help &amp; Support</a></li><li><a href=\"/forum\" hreflang=\"en\" class=\"link_1ctor\">Forum</a></li><li><button type=\"button\">Keyboard Shortcuts</button></li><li><a href=\"https://support.discogs.com/hc/articles/360004016474-Overview-of-Submission-Guidelines-for-Releases\" hreflang=\"en\" class=\"link_1ctor\">Database Guidelines</a></li><li><a href=\"https://www.discogs.com/shipping\" hreflang=\"en\" class=\"link_1ctor\">Discogs Shipping</a></li></ul></nav></section><section class=\"section_Wp20B\"><h5><button>Join In<svg viewBox=\"0 0 1024 1024\" class=\"icon_21neJ\" role=\"img\"><title>Chevron Down</title><path d=\"M962 462L538 885q-11 11-26 11t-26-11L62 462q-11-11-11-26t11-26l95-95q11-10 26-10t26 10l303 304 303-304q11-10 26-10t26 10l95 95q11 11 11 26t-11 26z\"></path></svg></button></h5><nav class=\"content_3HQ8R\"><ul><li><a href=\"https://www.discogs.com/getstarted\" hreflang=\"en\" class=\"link_1ctor\">Get Started</a></li><li><a href=\"https://www.discogs.com/help/doc/contributing\" hreflang=\"en\" class=\"link_1ctor\">Contribute</a></li><li><a href=\"https://www.discogs.com/release/add\" hreflang=\"en\" class=\"link_1ctor\">Add Release</a></li><li><a href=\"https://www.discogs.com/stats/contributors\" hreflang=\"en\" class=\"link_1ctor\">Contributor List</a></li><li><a href=\"https://support.discogs.com/hc/articles/360001585814-How-Can-I-Help-Translate-Discogs-\" hreflang=\"en\" class=\"link_1ctor\">Help Translate</a></li><li><a href=\"https://www.discogs.com/events\" hreflang=\"en\" class=\"link_1ctor\">Discogs Events</a></li><li><a href=\"https://www.discogs.com/record-store-day\" hreflang=\"en\" class=\"link_1ctor\">Record Store Day</a></li><li><a href=\"https://campaigns.discogs.com/\" hreflang=\"en\" class=\"link_1ctor\">Advertise With Us</a></li></ul></nav></section><section class=\"social_I-ufT\"><h5>Follow Us</h5><nav><ul><li><a href=\"https://www.facebook.com/discogs\" hreflang=\"en\" class=\"link_1ctor\"><svg viewBox=\"0 0 878 1024\" class=\"icon_21neJ\" role=\"img\"><title>Facebook Square</title><path d=\"M713 73q68 0 116 48t49 117v548q0 68-49 117t-116 48H606V611h113l18-133H606v-84q0-32 13-48t52-16l70-1V211q-36-5-102-5-77 0-124 45t-46 130v97H354v133h115v340H165q-68 0-117-48T0 786V238q0-68 48-117t117-48h548z\"></path></svg> Facebook</a></li><li><a href=\"https://twitter.com/discogs\" hreflang=\"en\" class=\"link_1ctor\"><svg viewBox=\"0 0 951 1024\" class=\"icon_21neJ\" role=\"img\"><title>Twitter</title><path d=\"M926 233q-39 56-93 96l1 24q0 74-22 148t-66 142-105 120-148 84-184 31q-155 0-284-83 20 2 45 2 128 0 229-79-60-1-108-37t-65-91q19 3 35 3 25 0 49-6-64-13-106-64T62 406v-3q39 22 83 24-38-25-60-66t-22-88q0-50 25-93 69 85 168 136t213 57q-5-22-5-42 0-77 54-131t131-54q80 0 134 59 63-12 118-45-22 66-82 102 54-6 107-29z\"></path></svg> Twitter</a></li><li><a href=\"https://www.youtube.com/channel/UCIJC0XjREJDO7ZTb9Nx7zfw\" hreflang=\"en\" class=\"link_1ctor\"><svg viewBox=\"0 0 1024 1024\" class=\"icon_21neJ\" role=\"img\"><title>Youtube</title><path d=\"M1014 307s-10-70-41-101c-39-41-83-41-103-44-143-10-358-10-358-10s-215 0-358 10c-20 3-64 3-103 44-31 31-41 101-41 101S0 390 0 473v78c0 82 10 165 10 165s10 71 41 102c39 41 90 39 113 44 82 8 348 10 348 10s215 0 359-11c20-2 63-2 102-43 31-31 41-102 41-102s10-82 10-165v-78c0-83-10-166-10-166zM406 645V357l277 144-277 144z\"></path></svg> Youtube</a></li><li><a href=\"https://www.instagram.com/discogs\" hreflang=\"en\" class=\"link_1ctor\"><svg viewBox=\"0 0 878 1024\" class=\"icon_21neJ\" role=\"img\"><title>Instagram</title><path d=\"M778 815V445h-77q12 36 12 74 0 72-37 133t-99 97-138 35q-112 0-192-77t-80-188q0-38 11-74H98v370q0 15 10 25t25 10h610q15 0 25-10t10-25zM616 510q0-71-52-121t-125-50q-72 0-124 50t-52 121 52 121 124 50q74 0 125-50t52-121zm162-205v-95q0-16-11-27t-28-12H639q-16 0-28 12t-11 27v95q0 16 11 28t28 11h100q16 0 28-11t11-28zm100-119v652q0 47-33 80t-80 33H113q-47 0-80-33T0 838V186q0-47 33-80t80-33h652q46 0 80 33t33 80z\"></path></svg> Instagram</a></li><li><a href=\"http://www.mixcloud.com/discogs\" hreflang=\"en\" class=\"link_1ctor\"><svg viewBox=\"0 0 1024 1024\" class=\"icon_21neJ\" role=\"img\"><title>Mixcloud</title><path d=\"M419 757H185a183 183 0 01-44-362l9-1c6 0 8-4 10-9 37-94 105-153 204-173 144-30 286 64 318 207 3 11 4 21 5 31 1 3 2 4 5 5 24 5 45 16 63 32a153 153 0 01-97 269l-239 1zm267-235v3l-11 41c-6 19-27 27-44 19-16-7-23-24-17-41a207 207 0 00-384-155l-4 7 3 1c31 8 59 24 82 46 7 7 11 14 11 24 1 13-7 25-19 31-13 5-26 3-37-7A118 118 0 0067 595c12 57 59 96 117 96h470l17-1c37-6 67-37 72-74 5-39-16-76-51-92l-6-2zM1024 603c-1 72-21 139-61 199-7 12-19 17-33 15s-23-11-26-24c-3-9-1-18 4-26a295 295 0 000-326c-10-16-6-36 9-46 16-10 35-6 46 10 29 44 48 92 56 144l5 54z\"></path><path d=\"M916 603c-1 52-15 100-44 143-8 12-21 18-35 14-14-3-22-12-25-26-2-9 1-18 6-26a188 188 0 000-209c-7-11-9-23-3-35 11-22 42-24 56-4 21 31 35 64 40 101 3 14 3 28 5 42z\"></path></svg> Mixcloud</a></li><li><a href=\"https://soundcloud.com/discogs\" hreflang=\"en\" class=\"link_1ctor\"><svg viewBox=\"0 0 1317 1024\" class=\"icon_21neJ\" role=\"img\"><title>Soundcloud</title><path d=\"M448 784l9-138-9-299q-1-5-4-9t-10-4q-5 0-9 4t-4 9l-8 299 8 138q1 6 4 9t9 4q13 0 14-13zm169-17l6-120-6-335q0-9-8-14-4-3-9-3t-9 3q-8 5-8 14v3l-6 331 6 135v1q0 5 4 9 5 7 13 7 6 0 11-5 6-4 6-12zM20 573l11 73-11 72q-1 5-5 5t-5-5L0 646l10-73q1-5 5-5t5 5zm49-45l15 118-15 116q-1 5-6 5t-5-5L45 646l13-118q0-5 5-5t6 5zm53-22l14 140-14 136q0 6-7 6-5 0-6-6L97 646l12-140q1-7 6-7 7 0 7 7zm53-4l14 144-14 140q-1 7-8 7t-7-7l-12-140 12-144q0-7 7-7t8 7zm54 11l12 133-12 141q-1 9-9 9-3 0-6-3t-3-6l-11-141 11-133q0-4 3-6t6-3q8 0 9 9zm54-84l12 217-12 141q0 4-3 7t-7 3q-9 0-10-10l-10-141 10-217q1-10 10-10 4 0 7 3t3 7zm54-49l10 267-10 140q0 4-4 8t-7 3q-11 0-12-11l-9-140 9-267q1-11 12-11 4 0 7 3t4 8zm56-23l10 289-10 139q-2 12-13 12t-12-12l-9-139 9-289q0-5 4-9t8-3q5 0 9 3t4 9zm224 424zM503 355l9 291-9 137q0 6-4 10t-10 4-10-4-4-10l-8-137 8-291q0-6 4-10t10-4 10 4 4 10zm57 11l8 281-8 135q0 6-5 11t-10 4-11-4-5-11l-7-135 7-281q0-7 5-12t11-4 10 4 5 12zm121 281l-8 132q0 7-5 12t-13 6-12-6-6-12l-3-65-4-67 7-364v-1q1-9 7-14 5-4 11-4 5 0 9 3 8 4 9 15zm636-11q0 67-48 114t-114 47H706q-8-1-13-6t-5-13V265q0-14 16-19 49-20 103-20 112 0 194 75t91 185q30-12 63-12 67 0 114 47t48 115z\"></path></svg> Soundcloud</a></li><li><a href=\"https://pinterest.com/officialdiscogs/boards\" hreflang=\"en\" class=\"link_1ctor\"><svg viewBox=\"0 0 1024 1024\" class=\"icon_21neJ\" role=\"img\"><title>Pinterest</title><path d=\"M512 68a444 444 0 00-162 857c-3-35-7-89 2-127l52-221s-13-26-13-65c0-62 36-108 80-108 38 0 56 28 56 62 0 38-24 95-37 148-10 44 22 80 66 80 79 0 139-83 139-203 0-106-76-181-185-181-126 0-200 95-200 193 0 38 15 79 33 101 4 5 4 8 3 13l-12 50c-2 9-7 10-15 6-56-25-90-106-90-171 0-140 101-269 293-269 154 0 273 110 273 256 0 153-96 276-230 276-45 0-87-23-102-51l-27 106c-10 38-37 87-55 116a446 446 0 00575-424c0-245-199-444-444-444z\"></path></svg> Pinterest</a></li></ul></nav></section></div></div><div class=\"bottom_2yh9B\"><div class=\"content_3oPo5 inner_13FEG\"><nav><a href=\"/\" hreflang=\"en\" class=\"link_1ctor\" title=\"Discogs Home\"><img src=\"/internal/release-page/_assets/9f36f22b.svg\" class=\"logo_2QhZC\" alt=\"logo\"></a>© <!-- -->2021<!-- --> Discogs®<ul><li><button type=\"button\" class=\"ot-sdk-show-settings cookies_2Hmh2\" id=\"ot-sdk-btn\">Manage Cookie Settings</button></li><li><a href=\"https://www.discogs.com/help/doc/cookie-policy\" hreflang=\"en\" class=\"link_1ctor\">Cookie Policy</a></li><li><a href=\"https://www.discogs.com/help/doc/terms-of-service\" hreflang=\"en\" class=\"link_1ctor\">Terms of Service</a></li><li><a href=\"https://www.discogs.com/help/doc/privacy-policy\" hreflang=\"en\" class=\"link_1ctor\">Privacy Policy</a></li><li><a href=\"https://support.discogs.com/hc/articles/360039846494-California-Privacy-Notice\" hreflang=\"en\" class=\"link_1ctor\">California Privacy Notice</a></li><li><a href=\"https://support.discogs.com/hc/en-us/articles/360017786278-Accessibility-Statement\" hreflang=\"en\" class=\"link_1ctor\">Accessibility Statement</a></li></ul></nav><label class=\"i18n_3EAFb\" for=\"select-lang\"><svg viewBox=\"0 0 878 1024\" class=\"icon_21neJ globe_2x2tg\" role=\"img\"><title>Globe</title><path d=\"M439 73q119 0 220 59t160 160 59 220-59 220-160 160-220 59-220-59T59 732 0 512t59-220 160-160 220-59zm156 298l-5 5q-4 5-8 6l3-3 3-6 2-4q3-4 12-9 8-3 30-7 19-4 29 6-1-1 6-7t8-7l8-2q6-1 9-5l1-12q-7 0-10-4t-4-12l-3 4q0-4-3-4t-6 0-5 1l-9-4q-3-2-4-10t-3-8q-1-3-5-6t-6-6l-1-4-2-3-2-3q-1-2-3-2t-4 3-4 6-3 3q-2-2-3-1t-3 0-3 2-2 2l-5 2-5 1q8-3-1-6-5-3-9-2 5-2 4-7t-4-8h2q0-2-4-5t-10-5-8-3q-4-3-19-6t-19 0l-3 6 3 8q3 6 2 7 0 4-4 8t-3 7q0 4 8 8t5 13q-1 4-9 9t-9 7q-3 4-1 10t6 10l1 2-2 3-3 2-4 2-1 1q-7 3-12-3t-8-15q-4-15-9-17-13-5-17 0-2-7-23-15-14-5-33-2 3-1 0-9-4-8-11-6 2-4 2-10t1-8q2-8 7-13l4-5q4-4 5-8t0-3q20 2 29-7 3-2 7-9t6-10q5-3 8-3t8 3 8 3q8 0 9-6t-4-12q7 1 1-10l-4-5q-7-2-16 3-4 2 2 5-1-1-6 6t-9 10-9-3l-4-8q-3-7-5-8-5 0-9 9 2-5-6-9t-14-4q11-7-5-16-4-2-11-2t-12 2l-3 6q-1 2 3 5t6 3 7 2 5 2q8 6 4 8l-5 2-6 3-4 2v8q1 6-1 8-3-3-5-10t-4-9q4 5-14 3l-6-1-9 2q-7 2-12 0t-8-4q-2-5 0-12 1-2 3-1l-7-5-5-5q-27 8-54 23h7l7-4 6-3q19-8 24-4l3-3 11 14q-4-2-17 0-11 3-12 6 4 7 2 11l-6-6-8-6-9-3h-13q-83 46-134 127l7 5q2 0 3 5t1 6 7-1q5 4 2 10l25 16 12 12q1 6-6 10l-5-5q-4-4-5-2-2 3 0 10t6 7q-4 0-5 10t-2 20 0 13l1 1q-2 7 3 20t12 11q-7 1 12 24l4 5 7 5 9 5q4 2 5 6 3 3 6 13t8 14q-1 3 5 11t6 13l-1 1h-1q1 4 8 8t9 8l1 6q0 4 2 6t5 1q1-11-14-35l-10-17-3-9-2-8 3 1 5 2 4 2 1 2q-1 4 1 10t7 10 10 11 7 8l8 11q5 8 0 7 5 0 11 6t10 12q3 4 5 14t2 14l5 8q3 4 7 5l10 5 7 4 11 6 12 6 9 3 8-2 8-2q9-1 17 9t12 12q20 11 31 6v4l5 9 5 9 3 4 10 9 11 9 4-6q-2 5 4 12t10 6q8-2 8-19-18 9-28-10l-1-3-3-5q-2-3-1-5t0-4 3-2q5 0 5-2t-1-7-2-7q-1-5-6-12t-7-8q-3 5-9 4t-9-5l-1 3-1 4-9-1 2-10 2-13 3-6q3-4 4-9t2-7-2-5-10-2q-11 1-15 12l-2 6q-1 5-3 6t-5 4q-4 2-13 1t-14-2q-8-5-13-17t-5-21l1-15 2-15q1-6-3-14l5-5 5-6 3-1h3l2-1 2-3-3-2-2-2q4 2 16 0t16 0q9 7 13-1l-2-5q-2-5 0-8 3 16 16 5 2 2 9 3t10 3l4 3 3 3q1 1 3-1t5-3q6 8 7 13 6 23 11 26l6 1q2 0 3-6t0-8-1-7l-1-4v-15q-9-2-11-7t1-11 9-10l4-2 9-4 7-5q12-10 9-20 4 0 6-5l-3-1-4-3q-2-2-3-1 5-3 1-10 3-1 5-6t4-6q5 7 12 2 4-5 1-10 2-4 11-6t11-5q4 1 4-1t1-7 2-7q2-3 8-5t8-3l9-6q2-2 0-2 11 1 18-7 6-6-3-11 1-4-2-6t-9-3h7l6-1q9-6-4-9-10-3-25 7zm-93 501q118-21 201-108-2-2-7-3t-7-2l-14-4-2-8-4-5-7-4-7-4-4-4-4-3-4-2-5-2-5 1-2 1-3 1-3 2-3 1v2q-12-10-20-13-3 0-7-3t-6-4-5-1-7 4q-3 3-3 9t-1 7q-4-3 0-10t1-10q-2-4-6-3t-7 3-7 5-5 3-5 3-5 5l-3 7-3 6q-1-2-6-4t-6-3l2 20 3 22q4 17-7 27-15 14-16 23-2 13 7 15 0 4-5 12t-4 12l1 9z\"></path></svg> <select id=\"select-lang\"><option value=\"de\">Deutsch</option><option selected=\"\" value=\"en\">English</option><option value=\"es\">Español</option><option value=\"fr\">Français</option><option value=\"it\">Italiano</option><option value=\"ja\"> 日本語 </option><option value=\"ko\"> 한국어 </option><option value=\"pt-BR\">Português (Brasil)</option><option value=\"ru\"> Русский </option></select><svg viewBox=\"0 0 585 1024\" class=\"icon_21neJ caret_1hfmX\" role=\"img\"><title>Caret Down</title><path d=\"M585 402q0 15-11 26L318 684q-11 11-25 11t-26-11L11 428Q0 417 0 402t11-25 26-11h512q14 0 25 11t11 25z\"></path></svg></label></div></div></footer></div></div><script id=\"dsdata\" type=\"application/json\">{\"config\":{\"BUILD_ID\":\"f3536f7e\",\"NODE_ENV\":\"production\",\"SEARCH_URL\":\"\",\"SENTRY_CLIENT_DSN\":\"https://31684db80f89494bbbc2a5e385f387b0@o8337.ingest.sentry.io/5173537\",\"DATADOG_APP_ID\":\"49b2300a-317f-4807-839c-30a5c950a730\",\"GTM_CLIENT_ID\":\"GTM-KMW8HRV\",\"REDIRECT_DEFAULT_LOCALE\":true,\"AD_SCRIPT\":\"https://lngtd.com/discogs_a.js\",\"DISABLE_ADS\":false},\"data\":{\"Release:{\\\"discogsId\\\":1923860}\":{\"discogsId\":1923860,\"__typename\":\"Release\",\"title\":\"Hyperdub 5.2\",\"blockedFromSale\":false,\"formats\":[{\"__typename\":\"Format\",\"name\":\"Vinyl\",\"description\":[\"12\\\"\",\"45 RPM\",\"EP\"],\"quantity\":\"1\",\"text\":null}],\"marketplaceListings\":{\"__typename\":\"ReleaseMarketplaceListingConnection\",\"totalCount\":28},\"lowestPrice\":{\"__typename\":\"Price\",\"converted({\\\"toCurrency\\\":\\\"GBP\\\"})\":{\"__typename\":\"Price\",\"amount\":1.7082037580482674,\"currency\":\"GBP\"}},\"ratings({\\\"first\\\":1})\":{\"__typename\":\"RatingConnection\",\"averageRating\":4.15,\"totalCount\":66},\"inCollectionCount\":617,\"inWantlistCount\":193,\"statistics\":{\"__typename\":\"ReleaseStatisticsConnection\",\"lastSaleDate\":\"2021-07-16T21:12:08-07:00\",\"max\":{\"__typename\":\"Price\",\"converted({\\\"toCurrency\\\":\\\"GBP\\\"})\":{\"__typename\":\"Price\",\"amount\":8.577518870541514,\"currency\":\"GBP\"}},\"median\":{\"__typename\":\"Price\",\"converted({\\\"toCurrency\\\":\\\"GBP\\\"})\":{\"__typename\":\"Price\",\"amount\":3.3142072912560403,\"currency\":\"GBP\"}},\"min\":{\"__typename\":\"Price\",\"converted({\\\"toCurrency\\\":\\\"USD\\\"})\":{\"__typename\":\"Price\",\"currency\":\"USD\",\"amount\":2.35},\"converted({\\\"toCurrency\\\":\\\"GBP\\\"})\":{\"__typename\":\"Price\",\"amount\":1.715503774108303,\"currency\":\"GBP\"},\"amount\":2.35,\"currency\":\"USD\"}},\"isOffensive\":false,\"siteUrl\":\"/Various-Hyperdub-52/release/1923860\",\"dataQuality\":\"REVIEW_CHANGES\",\"visibility\":\"PUBLIC\",\"masterRelease\":null,\"barcodes\":[{\"__typename\":\"Barcode\",\"type\":\"MATRIX_RUNOUT\",\"description\":\"Site A runout, etched\",\"value\":\"HDB024A TRANSITION\"},{\"__typename\":\"Barcode\",\"type\":\"MATRIX_RUNOUT\",\"description\":\"Site AA runout, etched\",\"value\":\"HDB024AA TRANSITION\"}],\"labels\":[{\"__typename\":\"LabelRelationship\",\"catalogNumber\":\"HDB024\",\"labelRole\":\"LABEL\",\"label\":{\"__typename\":\"Label\",\"discogsId\":25386,\"name\":\"Hyperdub\"}},{\"__typename\":\"LabelRelationship\",\"catalogNumber\":\"5.2\",\"labelRole\":\"SERIES\",\"label\":{\"__typename\":\"Label\",\"discogsId\":990670,\"name\":\"Hyperdub 5\"}},{\"__typename\":\"LabelRelationship\",\"catalogNumber\":null,\"labelRole\":\"DISTRIBUTED_BY\",\"label\":{\"__typename\":\"Label\",\"discogsId\":274712,\"name\":\"Cargo (2)\"}},{\"__typename\":\"LabelRelationship\",\"catalogNumber\":null,\"labelRole\":\"MASTERED_AT\",\"label\":{\"__typename\":\"Label\",\"discogsId\":275155,\"name\":\"Transition Mastering Studios\"}}],\"contributors\":[{\"__typename\":\"ReleaseContributor\",\"isOriginalSubmitter\":true,\"user\":{\"__typename\":\"User\",\"username\":\"stalkism\"}},{\"__typename\":\"ReleaseContributor\",\"isOriginalSubmitter\":false,\"user\":{\"__typename\":\"User\",\"username\":\"r-a-u-m\"}},{\"__typename\":\"ReleaseContributor\",\"isOriginalSubmitter\":false,\"user\":{\"__typename\":\"User\",\"username\":\"TANMUSHIMUSHI\"}},{\"__typename\":\"ReleaseContributor\",\"isOriginalSubmitter\":false,\"user\":{\"__typename\":\"User\",\"username\":\"jginzburg\"}},{\"__typename\":\"ReleaseContributor\",\"isOriginalSubmitter\":false,\"user\":{\"__typename\":\"User\",\"username\":\"xnationdnb\"}},{\"__typename\":\"ReleaseContributor\",\"isOriginalSubmitter\":false,\"user\":{\"__typename\":\"User\",\"username\":\"Jux\"}},{\"__typename\":\"ReleaseContributor\",\"isOriginalSubmitter\":false,\"user\":{\"__typename\":\"User\",\"username\":\"ryanp\"}},{\"__typename\":\"ReleaseContributor\",\"isOriginalSubmitter\":false,\"user\":{\"__typename\":\"User\",\"username\":\"maoxiung\"}},{\"__typename\":\"ReleaseContributor\",\"isOriginalSubmitter\":false,\"user\":{\"__typename\":\"User\",\"username\":\"TWRA_SIRIUS\"}},{\"__typename\":\"ReleaseContributor\",\"isOriginalSubmitter\":false,\"user\":{\"__typename\":\"User\",\"username\":\"lieuwe\"}},{\"__typename\":\"ReleaseContributor\",\"isOriginalSubmitter\":false,\"user\":{\"__typename\":\"User\",\"username\":\"zin\"}},{\"__typename\":\"ReleaseContributor\",\"isOriginalSubmitter\":false,\"user\":{\"__typename\":\"User\",\"username\":\"cbkbstudio\"}},{\"__typename\":\"ReleaseContributor\",\"isOriginalSubmitter\":false,\"user\":{\"__typename\":\"User\",\"username\":\"JiggyJamz\"}}],\"releaseCredits\":[],\"country\":\"UK\",\"released\":\"2009-09-00\",\"genres\":[\"Electronic\"],\"styles\":[\"Dubstep\",\"House\",\"Electro\",\"Broken Beat\"],\"primaryArtists\":[{\"__typename\":\"PrimaryArtist\",\"artist\":{\"__typename\":\"Artist\",\"discogsId\":194,\"name\":\"Various\"},\"nameVariation\":null,\"joiningText\":\",\"}],\"images({\\\"first\\\":1})\":{\"__typename\":\"ImagesConnection\",\"edges\":[{\"__typename\":\"ImagesEdge\",\"node\":{\"__ref\":\"Image:SW1hZ2U6MzIyNzU4MA==\"}}],\"totalCount\":3},\"notesFormatted\":{\"__typename\":\"DiscogsMarkup\",\"html\":\"Part 2 of 5.\\r<br>\\r<br>www.hyperdub.net \\r<br>hyperdub.inc@gmail.com \\r<br>info@cargorecords.co.uk \\r<br>\\r<br>BPM:\\r<br>A1: 140\\r<br>AA1: 118 | AA2: 86\\r<br>\"},\"notes\":{\"__typename\":\"DiscogsMarkup\",\"html\":\"Part 2 of 5.\\r<br>\\r<br>www.hyperdub.net \\r<br>hyperdub.inc@gmail.com \\r<br>info@cargorecords.co.uk \\r<br>\\r<br>BPM:\\r<br>A1: 140\\r<br>AA1: 118 | AA2: 86\\r<br>\"},\"tracks\":[{\"__typename\":\"Track\",\"title\":\"Stash\",\"position\":\"A1\",\"durationInSeconds\":278,\"trackType\":\"TRACK\",\"primaryArtists\":[{\"__typename\":\"PrimaryArtist\",\"artist\":{\"__typename\":\"Artist\",\"discogsId\":622822,\"name\":\"Joker (5)\"},\"joiningText\":\"&\",\"nameVariation\":null},{\"__typename\":\"PrimaryArtist\",\"artist\":{\"__typename\":\"Artist\",\"discogsId\":1455923,\"name\":\"Ginz (2)\"},\"joiningText\":\",\",\"nameVariation\":null}],\"trackCredits\":[],\"subTracks\":null},{\"__typename\":\"Track\",\"title\":\"Tarantula\",\"position\":\"AA1\",\"durationInSeconds\":247,\"trackType\":\"TRACK\",\"primaryArtists\":[{\"__typename\":\"PrimaryArtist\",\"artist\":{\"__typename\":\"Artist\",\"discogsId\":830984,\"name\":\"Zomby\"},\"joiningText\":\",\",\"nameVariation\":null}],\"trackCredits\":[],\"subTracks\":null},{\"__typename\":\"Track\",\"title\":\"Roller Skates\",\"position\":\"AA2\",\"durationInSeconds\":138,\"trackType\":\"TRACK\",\"primaryArtists\":[{\"__typename\":\"PrimaryArtist\",\"artist\":{\"__typename\":\"Artist\",\"discogsId\":803904,\"name\":\"Samiyam\"},\"joiningText\":\",\",\"nameVariation\":null}],\"trackCredits\":[],\"subTracks\":null}],\"videos\":[{\"__typename\":\"Video\",\"discogsId\":755589,\"youtubeId\":\"DvMi_BxjfxA\",\"title\":\"Joker & Ginz - Stash\",\"duration\":160,\"description\":\"New Joker tune featuring Ginz. Greezy choon.\\r\\nAdd '&fmt=18' for HQ.\"},{\"__typename\":\"Video\",\"discogsId\":2712031,\"youtubeId\":\"a1rerXsbHro\",\"title\":\"Zomby: Tarantula (Hyperdub 2009)\",\"duration\":246,\"description\":\"Taken from the Hyperdub compilation '5' \\niTunes: https://itunes.apple.com/gb/album/5-five-years-of-hyperdub/id333175462\\nhttp://www.hyperdub.net/releases/view/47/HDBCD005\\nhttps://www.facebook.com/Hyperdub.Records\\nhttps://twitter.com/Hyperdub\\nwww.hyperdub.n\"},{\"__typename\":\"Video\",\"discogsId\":2712032,\"youtubeId\":\"ZGMkTu3kKQE\",\"title\":\"Samiyam: Roller Skates (Hyperdub 2009)\",\"duration\":140,\"description\":\"Taken from the Hyperdub compilation '5' \\niTunes: https://itunes.apple.com/gb/album/5-five-years-of-hyperdub/id333175462\\nhttp://www.hyperdub.net/releases/view/47/HDBCD005\\nhttps://www.facebook.com/Hyperdub.Records\\nhttps://twitter.com/Hyperdub\\nwww.hyperdub.n\"}]},\"ROOT_QUERY\":{\"__typename\":\"Query\",\"release({\\\"discogsId\\\":1923860})\":{\"__ref\":\"Release:{\\\"discogsId\\\":1923860}\"}},\"ImageInfo:{\\\"sourceUrl\\\":\\\"https://img.discogs.com/b8177tbI73kY7_ig695pkDVJg9o=/fit-in/594x600/filters:strip_icc():format(jpeg):mode_rgb():quality(90)/discogs-images/R-1923860-1260631810.jpeg.jpg\\\"}\":{\"sourceUrl\":\"https://img.discogs.com/b8177tbI73kY7_ig695pkDVJg9o=/fit-in/594x600/filters:strip_icc():format(jpeg):mode_rgb():quality(90)/discogs-images/R-1923860-1260631810.jpeg.jpg\",\"__typename\":\"ImageInfo\",\"webpUrl\":\"https://img.discogs.com/Hot4g3VX4hcfhdiI17EUQzy1VRM=/fit-in/594x600/filters:strip_icc():format(webp):mode_rgb():quality(90)/discogs-images/R-1923860-1260631810.jpeg.jpg\",\"width\":594,\"height\":600},\"Image:SW1hZ2U6MzIyNzU4MA==\":{\"id\":\"SW1hZ2U6MzIyNzU4MA==\",\"__typename\":\"Image\",\"fullsize\":{\"__ref\":\"ImageInfo:{\\\"sourceUrl\\\":\\\"https://img.discogs.com/b8177tbI73kY7_ig695pkDVJg9o=/fit-in/594x600/filters:strip_icc():format(jpeg):mode_rgb():quality(90)/discogs-images/R-1923860-1260631810.jpeg.jpg\\\"}\"},\"thumbnail\":{\"__ref\":\"ImageInfo:{\\\"sourceUrl\\\":\\\"https://img.discogs.com/62mzPMSesUjdxbdVcFtjXaE_l8A=/fit-in/300x300/filters:strip_icc():format(jpeg):mode_rgb():quality(40)/discogs-images/R-1923860-1260631810.jpeg.jpg\\\"}\"}},\"ImageInfo:{\\\"sourceUrl\\\":\\\"https://img.discogs.com/62mzPMSesUjdxbdVcFtjXaE_l8A=/fit-in/300x300/filters:strip_icc():format(jpeg):mode_rgb():quality(40)/discogs-images/R-1923860-1260631810.jpeg.jpg\\\"}\":{\"sourceUrl\":\"https://img.discogs.com/62mzPMSesUjdxbdVcFtjXaE_l8A=/fit-in/300x300/filters:strip_icc():format(jpeg):mode_rgb():quality(40)/discogs-images/R-1923860-1260631810.jpeg.jpg\",\"__typename\":\"ImageInfo\",\"webpUrl\":\"https://img.discogs.com/idIxqkO1Y3NVn8_NmPVYgSjATVE=/fit-in/300x300/filters:strip_icc():format(webp):mode_rgb():quality(40)/discogs-images/R-1923860-1260631810.jpeg.jpg\",\"width\":0,\"height\":0}},\"locale\":\"en\",\"userLocation\":{\"country\":\"GB\",\"currency\":\"GBP\",\"blockedIds\":[],\"isExact\":true},\"flags\":{\"ssr_login\":true,\"ssr_location\":true,\"ssr_user\":false,\"ssr_defer\":false,\"disable_ads\":false}}</script><script>window.__DISCOGS_DATA__=JSON.parse(document.getElementById(\"dsdata\").innerText);</script><script id=\"__LOADABLE_REQUIRED_CHUNKS__\" type=\"application/json\">[159,427]</script><script id=\"__LOADABLE_REQUIRED_CHUNKS___ext\" type=\"application/json\">{\"namedChunks\":[\"pages-release-page\"]}</script><script async=\"\" data-chunk=\"main\" src=\"/internal/release-page/_assets/runtime.5302ccf2.js\"></script><script async=\"\" data-chunk=\"main\" src=\"/internal/release-page/_assets/vendors.a54132e6.js\"></script><script async=\"\" data-chunk=\"main\" src=\"/internal/release-page/_assets/main.e903de8e.js\"></script><script async=\"\" data-chunk=\"en\" src=\"/internal/release-page/_assets/7c8606cc.js\"></script><script async=\"\" data-chunk=\"pages-release-page\" src=\"/internal/release-page/_assets/51dd33d3.js\"></script><script async=\"\" data-chunk=\"pages-release-page\" src=\"/internal/release-page/_assets/ae70caad.js\"></script><style>\n",
      "  #ot-sdk-btn-floating { display: none; }\n",
      "</style><div style=\"display: none; visibility: hidden;\">\n",
      "<script src=\"https://cdn.cookielaw.org/scripttemplates/otSDKStub.js\" data-language=\"en\" type=\"text/javascript\" charset=\"UTF-8\" data-domain-script=\"e2e3af03-81d8-4f04-a42d-a3cd6cb9ce35\"></script>\n",
      "<script type=\"text/javascript\">function OptanonWrapper(){};</script>\n",
      "</div><script src=\"https://lngtd.com/discogs_a.js\" id=\"lngtd\"></script><iframe style=\"display: none;\" name=\"__tcfapiLocator\" title=\"CMP Locator\"></iframe><div id=\"onetrust-consent-sdk\"><div class=\"onetrust-pc-dark-filter ot-fade-in\" style=\"z-index:2147483645\"></div><div id=\"onetrust-banner-sdk\" class=\"otFlat ot-iab-2 bottom vertical-align-content ot-buttons-fw\" style=\"bottom: 0px\"><div role=\"alertdialog\" aria-describedby=\"onetrust-policy-text\" aria-labelledby=\"onetrust-policy-title\"><div class=\"ot-sdk-container\"><div class=\"ot-sdk-row\"><div id=\"onetrust-group-container\" class=\"ot-sdk-columns ot-sdk-ten\"><div class=\"banner_logo\"></div><div id=\"onetrust-policy\"><h3 id=\"onetrust-policy-title\">Let's manage your privacy </h3><p id=\"onetrust-policy-text\">We and our partners store and/or access information on a device, such as unique IDs in cookies to process personal data. You may accept or manage your choices by clicking below, including your right to object where legitimate interest is used, or at any time in the privacy policy page. These choices will be signaled to our partners and will not affect browsing data.<a href=\"https://support.discogs.com/hc/en-us/articles/360009334413-Cookie-and-Internet-Advertising-Policy\">Read our Cookie and Internet Advertising Policy</a></p><div class=\"ot-dpd-container\"><h3 class=\"ot-dpd-title\">We and our partners process data to provide:</h3><div class=\"ot-dpd-content\"><p class=\"ot-dpd-desc\">Actively scan device characteristics for identification. Use precise geolocation data. Measure content performance. Store and/or access information on a device. Select personalised content. Develop and improve products. Apply market research to generate audience insights. Create a personalised content profile. Personalised ads, and ad measurement. <button class=\"ot-link-btn onetrust-vendors-list-handler\">\n",
      "                View our list of partners (vendors)\n",
      "                </button></p></div></div></div></div><div id=\"onetrust-button-group-parent\" class=\"ot-sdk-columns has-reject-all-button ot-sdk-two\"><div id=\"onetrust-button-group\"><button id=\"onetrust-accept-btn-handler\">Allow all cookies </button> <button id=\"onetrust-reject-all-handler\">Reject all unnecessary cookies</button> <button id=\"onetrust-pc-btn-handler\" class=\"cookie-setting-link\">Show purposes</button></div></div></div></div><!-- Close Button --><div id=\"onetrust-close-btn-container\"></div><!-- Close Button END--></div></div></div></body></html>\n"
     ]
    }
   ],
   "source": [
    "a = driver.page_source\n",
    "driver.quit()\n",
    "print(a)"
   ]
  },
  {
   "cell_type": "code",
   "execution_count": 284,
   "id": "4c6a3513",
   "metadata": {},
   "outputs": [],
   "source": [
    "soupd = BeautifulSoup(a, 'html.parser')"
   ]
  },
  {
   "cell_type": "code",
   "execution_count": 272,
   "id": "557f2ace",
   "metadata": {},
   "outputs": [
    {
     "data": {
      "text/plain": [
       "30.0"
      ]
     },
     "execution_count": 272,
     "metadata": {},
     "output_type": "execute_result"
    }
   ],
   "source": [
    "price = float(soup.find('div', class_='items_3gMeU').find_all('span')[2].text.replace('£', ''))\n",
    "price"
   ]
  },
  {
   "cell_type": "code",
   "execution_count": 285,
   "id": "7f4eb295",
   "metadata": {},
   "outputs": [],
   "source": [
    "release_header = soupd.find('div', id='release-header')"
   ]
  },
  {
   "cell_type": "code",
   "execution_count": 141,
   "id": "e0a4b49a",
   "metadata": {},
   "outputs": [
    {
     "data": {
      "text/plain": [
       "<h1 class=\"header_3FV2N\"> – <!-- -->I Want Your Love / Le Freak / Chic Cheer</h1>"
      ]
     },
     "execution_count": 141,
     "metadata": {},
     "output_type": "execute_result"
    }
   ],
   "source": [
    "artist_tag = release_header.h1\n",
    "# artist = release_header.h1.span.exclude().text\n",
    "artist_tag"
   ]
  },
  {
   "cell_type": "code",
   "execution_count": 131,
   "id": "b42ba0f3",
   "metadata": {},
   "outputs": [
    {
     "data": {
      "text/plain": [
       "'I Want Your Love / Le Freak / Chic Cheer'"
      ]
     },
     "execution_count": 131,
     "metadata": {},
     "output_type": "execute_result"
    }
   ],
   "source": [
    "artist_tag.extract()\n",
    "title = release_header.h1.text[3:].replace(u'\\xa0', u' ')\n",
    "title"
   ]
  },
  {
   "cell_type": "code",
   "execution_count": 286,
   "id": "e12ce316",
   "metadata": {},
   "outputs": [],
   "source": [
    "info = release_header.find('div', class_='info_2OHV7')"
   ]
  },
  {
   "cell_type": "code",
   "execution_count": 287,
   "id": "0cd4f0fc",
   "metadata": {},
   "outputs": [],
   "source": [
    "line_items = info.find_all('div', class_='content_3IW3p')"
   ]
  },
  {
   "cell_type": "code",
   "execution_count": 291,
   "id": "a12d94e5",
   "metadata": {},
   "outputs": [
    {
     "name": "stdout",
     "output_type": "stream",
     "text": [
      "['Hyperdub – HDB024', 'Hyperdub 5 – 5.2', 'UK', 'Sep 2009', 'Electronic', 'Dubstep, House, Electro, Broken Beat']\n"
     ]
    },
    {
     "data": {
      "text/plain": [
       "'Electronic'"
      ]
     },
     "execution_count": 291,
     "metadata": {},
     "output_type": "execute_result"
    }
   ],
   "source": [
    "line_items = [div.text.split(':')[1] for div in info.find_all('div', class_='lineitem_2U49R')]\n",
    "print(line_items)\n",
    "if len(line_items) == 6:\n",
    "    year = int([int(s) for s in line_items[3].split() if s.isdigit()][0])\n",
    "    genre = line_items[4]\n",
    "else:\n",
    "    year = int([int(s) for s in line_items[2].split() if s.isdigit()][0])\n",
    "    genre = line_items[3]\n",
    "year\n",
    "genre"
   ]
  },
  {
   "cell_type": "code",
   "execution_count": null,
   "id": "c32395cb",
   "metadata": {},
   "outputs": [],
   "source": [
    "items_3gMeU"
   ]
  },
  {
   "cell_type": "code",
   "execution_count": 231,
   "id": "5e3b52e5",
   "metadata": {},
   "outputs": [],
   "source": [
    "format_line = info.find('div', class_='format_3yO6t').text.split(':')[1].split(',')\n",
    "format_line\n",
    "\n",
    "if 'EP' in format_line or 'Album' in format_line:\n",
    "    format_type = 'EP'\n",
    "else:\n",
    "    format_type = 'LP'\n",
    "    \n",
    "# if ['Single']"
   ]
  },
  {
   "cell_type": "code",
   "execution_count": 76,
   "id": "75114885",
   "metadata": {
    "collapsed": true
   },
   "outputs": [
    {
     "data": {
      "text/plain": [
       "['Atlantic – LV 16, Atlantic – LV16, Atlantic – MS 5086X',\n",
       " 'Vinyl, 12\", 45 RPM, Single, Stereo, CBS Pressing',\n",
       " 'UK',\n",
       " '1978',\n",
       " 'Funk / Soul',\n",
       " 'Disco']"
      ]
     },
     "execution_count": 76,
     "metadata": {},
     "output_type": "execute_result"
    }
   ],
   "source": [
    "[line.text for line in line_items]"
   ]
  },
  {
   "cell_type": "code",
   "execution_count": 106,
   "id": "4f819686",
   "metadata": {},
   "outputs": [
    {
     "data": {
      "text/plain": [
       "['https://www.discogs.com/Zomby-Mush-Spliff-Dub-Rustie-Remix/release/1827863',\n",
       " 'https://www.discogs.com/Harry-Craze-Wa6-Thirty-Six-Hours/release/2015339',\n",
       " 'https://www.discogs.com/Skream-Midnight-Request-Line-I/release/561478',\n",
       " 'https://www.discogs.com/Joker-City-Hopper/release/2045542',\n",
       " 'https://www.discogs.com/Terror-Danjah-Acid-ProPlus/release/2132871',\n",
       " 'https://www.discogs.com/Pinch-2-Ft-Yolanda-Get-Up/release/2054095',\n",
       " 'https://www.discogs.com/Flying-Lotus-Joker-Glendale-Galleria-Untitled_Rsn/release/1763987',\n",
       " 'https://www.discogs.com/Various-Hyperdub-52/release/1923860',\n",
       " 'https://www.discogs.com/The-Bug-Feat-KillaP-Flow-Dan-Skeng/release/1067932']"
      ]
     },
     "execution_count": 106,
     "metadata": {},
     "output_type": "execute_result"
    }
   ],
   "source": [
    "links = \"\"\"\n",
    "https://www.discogs.com/Zomby-Mush-Spliff-Dub-Rustie-Remix/release/1827863\n",
    "https://www.discogs.com/Harry-Craze-Wa6-Thirty-Six-Hours/release/2015339\n",
    "https://www.discogs.com/Skream-Midnight-Request-Line-I/release/561478\n",
    "https://www.discogs.com/Joker-City-Hopper/release/2045542\n",
    "https://www.discogs.com/Terror-Danjah-Acid-ProPlus/release/2132871\n",
    "https://www.discogs.com/Pinch-2-Ft-Yolanda-Get-Up/release/2054095\n",
    "https://www.discogs.com/Flying-Lotus-Joker-Glendale-Galleria-Untitled_Rsn/release/1763987\n",
    "https://www.discogs.com/Various-Hyperdub-52/release/1923860\n",
    "https://www.discogs.com/The-Bug-Feat-KillaP-Flow-Dan-Skeng/release/1067932\n",
    "\"\"\".split('\\n')[1:-1]\n",
    "links"
   ]
  },
  {
   "cell_type": "code",
   "execution_count": 98,
   "id": "c2b29532",
   "metadata": {},
   "outputs": [
    {
     "name": "stdout",
     "output_type": "stream",
     "text": [
      "Chic – I Want Your Love / Le Freak / Chic Cheer\n",
      "[['Label', 'Atlantic – LV 16, Atlantic – LV16, Atlantic – MS 5086X'], ['Country', 'UK'], ['Released', '1978'], ['Genre', 'Funk / Soul'], ['Style', 'Disco']]\n",
      "['Format', 'Vinyl, 12\", 45 RPM, Single, Stereo, CBS Pressing']\n"
     ]
    }
   ],
   "source": [
    "chrome_options = webdriver.chrome.options.Options()\n",
    "chrome_options.add_argument('--headless')\n",
    "driver = webdriver.Chrome(options=chrome_options)\n",
    "\n",
    "driver.get('https://www.discogs.com/Harry-Craze-Wa6-Thirty-Six-Hours/release/2015339')\n",
    "\n",
    "soup = BeautifulSoup(driver.page_source, 'html.parser') \n",
    "    \n",
    "get_info_from_soup(soup)\n"
   ]
  },
  {
   "cell_type": "code",
   "execution_count": 120,
   "id": "41adef21",
   "metadata": {},
   "outputs": [
    {
     "name": "stdout",
     "output_type": "stream",
     "text": [
      "Harry Craze – Wa6 / Thirty Six Hours\n",
      "{'Label': 'Deep Medi Musik – medi-22', 'Country': 'UK', 'Released': 'Nov 18, 2009', 'Genre': 'Electronic', 'Style': 'Dubstep'}\n",
      "['Format', 'Vinyl, 12\", 45 RPM']\n"
     ]
    }
   ],
   "source": [
    "# driver.get('https://www.discogs.com/Harry-Craze-Wa6-Thirty-Six-Hours/release/2015339')\n",
    "\n",
    "# soup = BeautifulSoup(driver.page_source, 'html.parser') \n",
    "    \n",
    "get_info_from_soup(soup)"
   ]
  },
  {
   "cell_type": "code",
   "execution_count": 292,
   "id": "5dface2e",
   "metadata": {},
   "outputs": [],
   "source": [
    "def get_info_from_soup(soup):\n",
    "    data = ['']\n",
    "    \n",
    "    release_header = soup.find('div', id='release-header')\n",
    "    \n",
    "    artist_tag = release_header.h1.span\n",
    "    artist = artist_tag.text\n",
    "    artist_tag.extract()\n",
    "    data.append(artist)\n",
    "#     print(artist)\n",
    "#     info_dict['Artist'] = artist\n",
    "    \n",
    "    title = release_header.h1.text[3:].replace(u'\\xa0', u' ')\n",
    "#     print(title)\n",
    "    data.append(title)\n",
    "#     info_dict['title'] = title\n",
    "\n",
    "    info = release_header.find('div', class_='info_2OHV7')\n",
    "\n",
    "    format_line = info.find('div', class_='format_3yO6t').text.split(':')[1].split(',')\n",
    "    if 'EP' in format_line or 'Album' in format_line:\n",
    "        format_type = 'EP'\n",
    "    else:\n",
    "        format_type = 'LP'\n",
    "    data.append(format_type)\n",
    "    \n",
    "    line_items = [div.text.split(':')[1] for div in info.find_all('div', class_='lineitem_2U49R')]\n",
    "    \n",
    "    if len(line_items) == 6:\n",
    "        year = int([int(s) for s in line_items[3].split() if s.isdigit()][0])\n",
    "        genre = line_items[4]\n",
    "    else:\n",
    "        year = int([int(s) for s in line_items[2].split() if s.isdigit()][0])\n",
    "        genre = line_items[3]\n",
    "        \n",
    "    data.append(genre)\n",
    "\n",
    "    print(line_items)\n",
    "    data.append(year)\n",
    "#     for line in line_items:\n",
    "#         data.append(line)\n",
    "        \n",
    "#     info_dict = add_lines_to_info_dict(line_items, info_dict)\n",
    "#     print(info_dict)\n",
    "\n",
    "    data.append('')\n",
    "    \n",
    "    price = float(soup.find('div', class_='items_3gMeU').find_all('span')[2].text.replace('£', ''))\n",
    "    data.append(price)\n",
    "#     info_dict['Format'] = format_line\n",
    "\n",
    "    print(data)\n",
    "    \n",
    "    return data"
   ]
  },
  {
   "cell_type": "code",
   "execution_count": null,
   "id": "2b0a948f",
   "metadata": {},
   "outputs": [],
   "source": []
  },
  {
   "cell_type": "code",
   "execution_count": 299,
   "id": "07f7030c",
   "metadata": {},
   "outputs": [
    {
     "name": "stdout",
     "output_type": "stream",
     "text": [
      "['Hyperdub – HDB024', 'Hyperdub 5 – 5.2', 'UK', 'Sep 2009', 'Electronic', 'Dubstep, House, Electro, Broken Beat']\n",
      "['', 'Various', 'Hyperdub 5.2', 'LP', 'Electronic', 2009, '', 3.31]\n"
     ]
    },
    {
     "data": {
      "text/plain": [
       "['', 'Various', 'Hyperdub 5.2', 'LP', 'Electronic', 2009, '', 3.31]"
      ]
     },
     "execution_count": 299,
     "metadata": {},
     "output_type": "execute_result"
    }
   ],
   "source": [
    "def get_record_info(link, driver=None):\n",
    "    if not driver:\n",
    "        chrome_options = webdriver.chrome.options.Options()\n",
    "        chrome_options.add_argument('--headless')\n",
    "        driver = webdriver.Chrome(options=chrome_options)\n",
    "    driver.get(link)\n",
    "    soup = BeautifulSoup(driver.page_source, 'html.parser')\n",
    "    soup_info = get_info_from_soup(soup)\n",
    "    return soup_info\n",
    "\n",
    "\n",
    "chrome_options = webdriver.chrome.options.Options()\n",
    "chrome_options.add_argument('--headless')\n",
    "driver = webdriver.Chrome(options=chrome_options)\n",
    "get_record_info('https://www.discogs.com/Various-Hyperdub-52/release/1923860', driver)"
   ]
  },
  {
   "cell_type": "code",
   "execution_count": 300,
   "id": "57717fa9",
   "metadata": {},
   "outputs": [
    {
     "name": "stdout",
     "output_type": "stream",
     "text": [
      "https://www.discogs.com/Zomby-Mush-Spliff-Dub-Rustie-Remix/release/1827863\n",
      "['Hyperdub – HDB009', 'UK', 'Jun 2009', 'Electronic', 'Dubstep']\n",
      "['', 'Zomby', 'Mush / Spliff Dub (Rustie Remix)', 'LP', 'Electronic', 2009, '', 5.99]\n",
      "https://www.discogs.com/Harry-Craze-Wa6-Thirty-Six-Hours/release/2015339\n",
      "['Deep Medi Musik – medi-22', 'UK', 'Nov 18, 2009', 'Electronic', 'Dubstep']\n",
      "['', 'Harry Craze', 'Wa6 / Thirty Six Hours', 'LP', 'Electronic', 2009, '', 6.44]\n",
      "https://www.discogs.com/Skream-Midnight-Request-Line-I/release/561478\n",
      "['Tempa – Tempa.014', 'UK', 'Oct 2005', 'Electronic', 'Dubstep']\n",
      "['', 'Skream', 'Midnight Request Line / I', 'LP', 'Electronic', 2005, '', 20.08]\n",
      "https://www.discogs.com/Joker-City-Hopper/release/2045542\n",
      "['Tectonic – TEC036', 'UK', 'Dec 2009', 'Electronic', 'Dubstep']\n",
      "['', 'Joker (5)', 'City Hopper', 'LP', 'Electronic', 2009, '', 2.07]\n",
      "https://www.discogs.com/Terror-Danjah-Acid-ProPlus/release/2132871\n",
      "['Hyperdub – HDB031', 'UK', 'Feb 8, 2010', 'Electronic', 'UK Garage, Grime']\n",
      "['', 'Terror Danjah', 'Acid / ProPlus', 'LP', 'Electronic', 2010, '', 2.15]\n",
      "https://www.discogs.com/Pinch-2-Ft-Yolanda-Get-Up/release/2054095\n",
      "['Tectonic – TEC035', 'UK', 'Dec 2009', 'Electronic', 'Dubstep']\n",
      "['', 'Pinch (2)', ' Yolanda* – Get Up', 'LP', 'Electronic', 2009, '', 9.99]\n",
      "https://www.discogs.com/Flying-Lotus-Joker-Glendale-Galleria-Untitled_Rsn/release/1763987\n",
      "['Tectonic – TEC027', 'UK', 'May 8, 2009', 'Electronic', 'Bass Music, Dubstep, Experimental']\n",
      "['', 'Flying Lotus', 'Joker (5) – Glendale Galleria / Untitled_Rsn', 'LP', 'Electronic', 2009, '', 2.99]\n",
      "https://www.discogs.com/Various-Hyperdub-52/release/1923860\n",
      "['Hyperdub – HDB024', 'Hyperdub 5 – 5.2', 'UK', 'Sep 2009', 'Electronic', 'Dubstep, House, Electro, Broken Beat']\n",
      "['', 'Various', 'Hyperdub 5.2', 'LP', 'Electronic', 2009, '', 3.31]\n",
      "https://www.discogs.com/The-Bug-Feat-KillaP-Flow-Dan-Skeng/release/1067932\n",
      "['Hyperdub – HDB006', 'UK', 'Sep 2007', 'Electronic', 'Dubstep']\n",
      "['', 'The Bug', 'at. Killa.P* + Flow Dan – Skeng', 'LP', 'Electronic', 2007, '', 30.0]\n"
     ]
    },
    {
     "data": {
      "text/plain": [
       "[['',\n",
       "  'Zomby',\n",
       "  'Mush / Spliff Dub (Rustie Remix)',\n",
       "  'LP',\n",
       "  'Electronic',\n",
       "  2009,\n",
       "  '',\n",
       "  5.99],\n",
       " ['',\n",
       "  'Harry Craze',\n",
       "  'Wa6 / Thirty Six Hours',\n",
       "  'LP',\n",
       "  'Electronic',\n",
       "  2009,\n",
       "  '',\n",
       "  6.44],\n",
       " ['',\n",
       "  'Skream',\n",
       "  'Midnight Request Line / I',\n",
       "  'LP',\n",
       "  'Electronic',\n",
       "  2005,\n",
       "  '',\n",
       "  20.08],\n",
       " ['', 'Joker (5)', 'City Hopper', 'LP', 'Electronic', 2009, '', 2.07],\n",
       " ['', 'Terror Danjah', 'Acid / ProPlus', 'LP', 'Electronic', 2010, '', 2.15],\n",
       " ['', 'Pinch (2)', ' Yolanda* – Get Up', 'LP', 'Electronic', 2009, '', 9.99],\n",
       " ['',\n",
       "  'Flying Lotus',\n",
       "  'Joker (5) – Glendale Galleria / Untitled_Rsn',\n",
       "  'LP',\n",
       "  'Electronic',\n",
       "  2009,\n",
       "  '',\n",
       "  2.99],\n",
       " ['', 'Various', 'Hyperdub 5.2', 'LP', 'Electronic', 2009, '', 3.31],\n",
       " ['',\n",
       "  'The Bug',\n",
       "  'at. Killa.P* + Flow Dan – Skeng',\n",
       "  'LP',\n",
       "  'Electronic',\n",
       "  2007,\n",
       "  '',\n",
       "  30.0]]"
      ]
     },
     "execution_count": 300,
     "metadata": {},
     "output_type": "execute_result"
    }
   ],
   "source": [
    "def get_multiple_records_info(links):\n",
    "    records_info = []\n",
    "    chrome_options = webdriver.chrome.options.Options()\n",
    "    chrome_options.add_argument('--headless')\n",
    "    driver = webdriver.Chrome(options=chrome_options)\n",
    "    \n",
    "    for link in links:\n",
    "        print(link)\n",
    "        record_info = get_record_info(link, driver=driver)\n",
    "#         print(record_info)\n",
    "        records_info.append(record_info)\n",
    "        \n",
    "    return records_info\n",
    "        \n",
    "record_info_list = get_multiple_records_info(links)\n",
    "record_info_list"
   ]
  },
  {
   "cell_type": "code",
   "execution_count": null,
   "id": "b6d4c0bd",
   "metadata": {},
   "outputs": [],
   "source": [
    "Artist\tRelease Title\tLP or EP\tGenre\tDate\tCondition\tDiscogs Price (£)"
   ]
  },
  {
   "cell_type": "code",
   "execution_count": 295,
   "id": "8c747376",
   "metadata": {},
   "outputs": [],
   "source": [
    "def append_records_to_file(records, file='test.xlsx'):\n",
    "\n",
    "    links_excel = openpyxl.load_workbook(file)\n",
    "    links_worksheet = links_excel.active\n",
    "\n",
    "    for record in record_info_list:\n",
    "        links_worksheet.append(record)\n",
    "\n",
    "    # links_worksheet.insert_rows(len(links_worksheet['B']) + 1, amount=1)\n",
    "    links_excel.save(file)\n",
    "    links_excel.close()\n"
   ]
  },
  {
   "cell_type": "code",
   "execution_count": 306,
   "id": "ec4c1da4",
   "metadata": {},
   "outputs": [],
   "source": [
    "def append_record_to_file(record, file='test.xlsx'):\n",
    "    links_excel = openpyxl.load_workbook(file)\n",
    "    links_worksheet = links_excel.active\n",
    "\n",
    "    links_worksheet.append(record)\n",
    "\n",
    "    # links_worksheet.insert_rows(len(links_worksheet['B']) + 1, amount=1)\n",
    "    links_excel.save(file)\n",
    "    links_excel.close()"
   ]
  },
  {
   "cell_type": "code",
   "execution_count": 302,
   "id": "2d035b9c",
   "metadata": {},
   "outputs": [],
   "source": [
    "def get_link_from_user():\n",
    "    link = input('Enter discogs link: ')\n",
    "    return link"
   ]
  },
  {
   "cell_type": "code",
   "execution_count": 307,
   "id": "a2c878ac",
   "metadata": {
    "collapsed": true
   },
   "outputs": [
    {
     "name": "stdout",
     "output_type": "stream",
     "text": [
      "Enter discogs link: https://www.discogs.com/Various-Hyperdub-52/release/1923860\n",
      "['Hyperdub – HDB024', 'Hyperdub 5 – 5.2', 'UK', 'Sep 2009', 'Electronic', 'Dubstep, House, Electro, Broken Beat']\n",
      "['', 'Various', 'Hyperdub 5.2', 'LP', 'Electronic', 2009, '', 3.31]\n"
     ]
    }
   ],
   "source": [
    "def enter_record():\n",
    "    link = get_link_from_user()\n",
    "    record = get_record_info(link)\n",
    "    append_record_to_file(record)\n",
    "    \n",
    "enter_record()"
   ]
  },
  {
   "cell_type": "code",
   "execution_count": null,
   "id": "f3ab7a1a",
   "metadata": {},
   "outputs": [],
   "source": [
    "records_excel = openpyxl.load_workbook('records.xlsx')\n",
    "links_worksheet = links_excel.active\n",
    "list"
   ]
  },
  {
   "cell_type": "code",
   "execution_count": 186,
   "id": "294ba211",
   "metadata": {},
   "outputs": [],
   "source": [
    "links_excel = openpyxl.load_workbook('PRE-OWNED STOCK.xlsx')\n",
    "links_worksheet = links_excel.active\n",
    "\n",
    "links_excel\n",
    "\n",
    "artist_column = [links_worksheet['B'][cell].value for cell in range(len(links_worksheet['B']))][1:]\n",
    "title_column = [links_worksheet['C'][cell].value for cell in range(len(links_worksheet['C']))][1:]\n",
    "ep_column = [links_worksheet['D'][cell].value for cell in range(len(links_worksheet['D']))][1:]\n",
    "genre_column = [links_worksheet['E'][cell].value for cell in range(len(links_worksheet['E']))][1:]\n",
    "date_column = [links_worksheet['F'][cell].value for cell in range(len(links_worksheet['F']))][1:]\n",
    "\n",
    "price_column = [links_worksheet['G'][cell].value for cell in range(len(links_worksheet['G']))][1:]\n",
    "\n",
    "links_excel.close()"
   ]
  },
  {
   "cell_type": "code",
   "execution_count": 193,
   "id": "1c4caf64",
   "metadata": {},
   "outputs": [],
   "source": [
    "links_excel.close()"
   ]
  },
  {
   "cell_type": "code",
   "execution_count": 185,
   "id": "04d0b4b1",
   "metadata": {
    "collapsed": true
   },
   "outputs": [
    {
     "data": {
      "text/plain": [
       "['Chic',\n",
       " 'Gibson Brothers',\n",
       " 'Foxy ',\n",
       " 'Marsha Hunt',\n",
       " 'Liquid Gold',\n",
       " 'Stevie Wonder',\n",
       " 'Poussez!',\n",
       " 'D.D Sound',\n",
       " 'Sharon Brown ',\n",
       " 'Pussyfoot',\n",
       " 'Barry White',\n",
       " 'Ryan Paris',\n",
       " 'Various',\n",
       " 'Temper ',\n",
       " 'Edwin Starr',\n",
       " 'Martha Reeves and The...',\n",
       " 'The Stylists',\n",
       " 'Boney M',\n",
       " 'The Drifters',\n",
       " 'Phyllis Nelson',\n",
       " 'Sea Level',\n",
       " 'Diana Ross ',\n",
       " 'Eartha Kitt',\n",
       " 'The Whispers',\n",
       " 'Dionne Warwick ',\n",
       " 'George Benson',\n",
       " 'Two Man Sound',\n",
       " 'Martyn Ford',\n",
       " 'Erotic Drum Band',\n",
       " 'Tasha Thomas ',\n",
       " 'Instant Funk',\n",
       " 'Teena Marie',\n",
       " 'Karen Young',\n",
       " \"Bobby O' + The Flirts\",\n",
       " 'Kleer ',\n",
       " 'Archie Bell & The Drells',\n",
       " 'Joe Farrell ',\n",
       " 'Deborah Washington',\n",
       " 'Various',\n",
       " 'Baiser',\n",
       " 'Pointer Sisters',\n",
       " 'K.C and The Sunshine Band',\n",
       " 'Linda Clifford ',\n",
       " 'Donna Summer',\n",
       " 'Eric Delaney & Louis Bellson',\n",
       " 'Ella Fitzgerald',\n",
       " 'George Shearing Trio',\n",
       " 'George Shearing ',\n",
       " 'Eric Delaney',\n",
       " 'Commodores',\n",
       " 'Barry White',\n",
       " 'Lionel Hampton',\n",
       " 'Roberta Flack',\n",
       " 'Manchild',\n",
       " 'Billy Paul',\n",
       " 'Diana Ross ',\n",
       " 'Kamahl',\n",
       " 'Ella Fitzgerald',\n",
       " 'Various',\n",
       " 'Various',\n",
       " 'George Melly and The Feetwarmers',\n",
       " 'Eric Delaney',\n",
       " 'Various',\n",
       " 'Various',\n",
       " 'Commodores',\n",
       " 'Amii Stewart',\n",
       " 'The Drifters',\n",
       " 'Boom Boom Room',\n",
       " 'Black',\n",
       " 'Jam & Spoon',\n",
       " 'Sinitta ',\n",
       " 'Sylvester',\n",
       " 'Gloworm',\n",
       " 'Foreigner',\n",
       " 'Fat and Frantic',\n",
       " 'Stone',\n",
       " 'Frankie Knuckles',\n",
       " 'Hi-Five',\n",
       " 'X-Scape',\n",
       " 'Boney M',\n",
       " 'Commodores',\n",
       " 'I-Level',\n",
       " 'Beat System',\n",
       " 'Luxuria',\n",
       " 'Lydia Murdock',\n",
       " 'Jane',\n",
       " 'Hollywood Beyond',\n",
       " 'Company B',\n",
       " 'Dusty Springfield',\n",
       " 'Carlton',\n",
       " 'Womack & Womack',\n",
       " 'Alison Limerick',\n",
       " 'PK ',\n",
       " 'Gene Chandler',\n",
       " 'Dr Hook',\n",
       " 'Rene and Angela',\n",
       " 'Gary Low',\n",
       " 'Reggae Philharmonic Orchestra',\n",
       " 'Omar',\n",
       " 'Asia Blue',\n",
       " 'Dennis Brown',\n",
       " 'Witness',\n",
       " 'Circuit',\n",
       " 'Pele',\n",
       " 'Evelyn Champagne King',\n",
       " 'West Street Mob',\n",
       " 'Patti Day',\n",
       " 'Billy Ocean',\n",
       " 'Skyy',\n",
       " 'Barbara Mason',\n",
       " 'Landlord',\n",
       " 'Lady Soul',\n",
       " 'Horse ',\n",
       " 'Oui 3 ',\n",
       " 'The Valentines Brothers',\n",
       " 'Jean Paul Barrett',\n",
       " 'Al Jarreau',\n",
       " 'Lou Rawls',\n",
       " 'Federal Hill',\n",
       " 'Blackstreet ',\n",
       " 'Tears For Fears',\n",
       " 'Jim Irie / Chicken Hawk',\n",
       " 'Houston ',\n",
       " 'The Killah Kuts',\n",
       " 'Sons of Soul',\n",
       " 'Janet Davis',\n",
       " 'Jimmy Lindsay ',\n",
       " 'Papa San / Lady G',\n",
       " 'Passion',\n",
       " 'Tongue in Cheek',\n",
       " 'Aswad',\n",
       " 'Paula David',\n",
       " 'Capleton',\n",
       " 'Super Cat',\n",
       " 'Bajja Jedd / Trouble',\n",
       " 'Moving Fusion',\n",
       " 'Kraken / Arkane',\n",
       " 'DJ Hype',\n",
       " 'Bobby Valentino',\n",
       " 'Raw Talent ',\n",
       " 'Michael Palmer',\n",
       " 'Ludacris',\n",
       " 'Freddie Jackson',\n",
       " 'Junior Tucker',\n",
       " 'Jean McLean',\n",
       " 'Buju Banton',\n",
       " 'Family Love',\n",
       " 'Robyn ',\n",
       " 'Various',\n",
       " 'Administrators',\n",
       " 'Red Dragon / J . Harris',\n",
       " 'One Blood',\n",
       " 'Chaka Demus & Pliers',\n",
       " 'Various',\n",
       " 'Sugar Ray',\n",
       " 'Indeep',\n",
       " 'Mental Power',\n",
       " 'J.B.C',\n",
       " 'Erica Gale',\n",
       " 'BK ',\n",
       " 'Executive',\n",
       " 'Fantastic Four ',\n",
       " 'Mystic',\n",
       " \"Fat Larry's Band\",\n",
       " 'Mark Fisher',\n",
       " 'Andy Farley',\n",
       " 'Sheryl Lee Ralph',\n",
       " 'F.O.R.C.E',\n",
       " 'Steve Harvey',\n",
       " 'Monie Love ',\n",
       " 'Talvin Singh']"
      ]
     },
     "execution_count": 185,
     "metadata": {},
     "output_type": "execute_result"
    }
   ],
   "source": [
    "artist_column"
   ]
  },
  {
   "cell_type": "code",
   "execution_count": 157,
   "id": "d7687807",
   "metadata": {},
   "outputs": [
    {
     "name": "stdout",
     "output_type": "stream",
     "text": [
      "[None, None, None, None, None, None, None, None, None]\n"
     ]
    }
   ],
   "source": [
    "def get_links():\n",
    "    links_excel = openpyxl.load_workbook('PRE-OWNED STOCK.xlsx')\n",
    "    links_worksheet = links_excel.active\n",
    "\n",
    "    names_column = links_worksheet['A']\n",
    "    links_column = links_worksheet['B']\n",
    "    \n",
    "    links = []\n",
    "    for l in range(1, len(links_column)):\n",
    "        if not links_column[l].value:\n",
    "            continue\n",
    "        link = links_column[l].value.replace('\\n', '')\n",
    "        if link[-1] == '/':\n",
    "            link = link[:-1]\n",
    "            \n",
    "        if link not in links: \n",
    "            links.append([names_column[l].value, link])\n",
    "    \n",
    "    links_excel.close()"
   ]
  }
 ],
 "metadata": {
  "kernelspec": {
   "display_name": "Python 3 (ipykernel)",
   "language": "python",
   "name": "python3"
  },
  "language_info": {
   "codemirror_mode": {
    "name": "ipython",
    "version": 3
   },
   "file_extension": ".py",
   "mimetype": "text/x-python",
   "name": "python",
   "nbconvert_exporter": "python",
   "pygments_lexer": "ipython3",
   "version": "3.9.6"
  }
 },
 "nbformat": 4,
 "nbformat_minor": 5
}
